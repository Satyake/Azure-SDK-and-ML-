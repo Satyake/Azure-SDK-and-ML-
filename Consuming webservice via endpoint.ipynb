{
 "cells": [
  {
   "cell_type": "code",
   "execution_count": null,
   "metadata": {},
   "outputs": [],
   "source": [
    "#consume webservice using API end points "
   ]
  },
  {
   "cell_type": "code",
   "execution_count": 2,
   "metadata": {},
   "outputs": [],
   "source": [
    "import requests\n",
    "import json\n",
    "\n",
    "scoring_url='http://20.241.200.72:80/api/v1/service/adultincomeservice/score'\n"
   ]
  },
  {
   "cell_type": "code",
   "execution_count": 3,
   "metadata": {},
   "outputs": [],
   "source": [
    "x_new={'age':[46],\n",
    "'wc':['Private'],\n",
    "'education':['Masters'],\n",
    "'marital status':['Married'],\n",
    "'race':['White'],\n",
    "'gender':['Male'],\n",
    "'hours per week':[60]\n",
    "}\n",
    "#convert the dictionary to json\n",
    "json_data=json.dumps({\"data\":x_new})"
   ]
  },
  {
   "cell_type": "code",
   "execution_count": 5,
   "metadata": {},
   "outputs": [],
   "source": [
    "key='l3Q8dhEu3C3ufqA7DrLVDdDTRthDrabn'\n",
    "headers={'Content-Type': 'application/json',\n",
    "'Authorization': f'Bearer {key}'}\n"
   ]
  },
  {
   "cell_type": "code",
   "execution_count": 6,
   "metadata": {},
   "outputs": [
    {
     "name": "stdout",
     "output_type": "stream",
     "text": [
      "['Less than 50k']\n"
     ]
    }
   ],
   "source": [
    "response=requests.post(scoring_url, json_data, headers=headers)\n",
    "predicted_classes=json.loads(response.json())\n",
    "print(predicted_classes)"
   ]
  }
 ],
 "metadata": {
  "kernelspec": {
   "display_name": "Python 3.7.0 ('tf-gpu-cuda8')",
   "language": "python",
   "name": "python3"
  },
  "language_info": {
   "codemirror_mode": {
    "name": "ipython",
    "version": 3
   },
   "file_extension": ".py",
   "mimetype": "text/x-python",
   "name": "python",
   "nbconvert_exporter": "python",
   "pygments_lexer": "ipython3",
   "version": "3.7.0"
  },
  "orig_nbformat": 4,
  "vscode": {
   "interpreter": {
    "hash": "03f4ac3119e2450266d45ef487def59165e9739e84fca1acfa1dc135d1f5e0c7"
   }
  }
 },
 "nbformat": 4,
 "nbformat_minor": 2
}
