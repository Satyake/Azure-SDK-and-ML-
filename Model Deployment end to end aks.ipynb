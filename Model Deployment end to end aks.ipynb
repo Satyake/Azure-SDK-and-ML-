{
 "cells": [
  {
   "cell_type": "code",
   "execution_count": 32,
   "metadata": {},
   "outputs": [],
   "source": [
    "from azureml.core import Workspace, Experiment, Run,Datastore, Dataset,Environment,Model\n",
    "from azureml.core.compute import AksCompute, ComputeTarget\n",
    "#import condadependencies\n",
    "from azureml.core.environment import CondaDependencies\n",
    "import joblib\n",
    "from azureml.core.model import InferenceConfig\n",
    "#import akswebservice\n",
    "import pandas as pd \n",
    "from azureml.core.webservice import AksWebservice"
   ]
  },
  {
   "cell_type": "code",
   "execution_count": 18,
   "metadata": {},
   "outputs": [],
   "source": [
    "ws=Workspace.from_config(\"C:/Users/satya/Downloads/Azure/config.json\")"
   ]
  },
  {
   "cell_type": "code",
   "execution_count": 19,
   "metadata": {},
   "outputs": [],
   "source": [
    "#list datasets\n",
    "for ds in ws.datasets:\n",
    "    print(ds)"
   ]
  },
  {
   "cell_type": "code",
   "execution_count": 10,
   "metadata": {},
   "outputs": [
    {
     "data": {
      "text/plain": [
       "{\n",
       "    \"assetId\": \"azureml://locations/eastus2/workspaces/ba6f060c-e5fc-41d1-b232-49c78f2ca886/environments/myexp/versions/1\",\n",
       "    \"databricks\": {\n",
       "        \"eggLibraries\": [],\n",
       "        \"jarLibraries\": [],\n",
       "        \"mavenLibraries\": [],\n",
       "        \"pypiLibraries\": [],\n",
       "        \"rcranLibraries\": []\n",
       "    },\n",
       "    \"docker\": {\n",
       "        \"arguments\": [],\n",
       "        \"baseDockerfile\": null,\n",
       "        \"baseImage\": \"mcr.microsoft.com/azureml/openmpi4.1.0-ubuntu20.04:20220708.v1\",\n",
       "        \"baseImageRegistry\": {\n",
       "            \"address\": null,\n",
       "            \"password\": null,\n",
       "            \"registryIdentity\": null,\n",
       "            \"username\": null\n",
       "        },\n",
       "        \"buildContext\": null,\n",
       "        \"enabled\": false,\n",
       "        \"platform\": {\n",
       "            \"architecture\": \"amd64\",\n",
       "            \"os\": \"Linux\"\n",
       "        },\n",
       "        \"sharedVolumes\": true,\n",
       "        \"shmSize\": null\n",
       "    },\n",
       "    \"environmentVariables\": {\n",
       "        \"EXAMPLE_ENV_VAR\": \"EXAMPLE_VALUE\"\n",
       "    },\n",
       "    \"inferencingStackVersion\": null,\n",
       "    \"name\": \"myexp\",\n",
       "    \"python\": {\n",
       "        \"baseCondaEnvironment\": null,\n",
       "        \"condaDependencies\": {\n",
       "            \"channels\": [\n",
       "                \"anaconda\",\n",
       "                \"conda-forge\"\n",
       "            ],\n",
       "            \"dependencies\": [\n",
       "                \"python=3.8.13\",\n",
       "                {\n",
       "                    \"pip\": [\n",
       "                        \"azureml-defaults~=1.44.0\"\n",
       "                    ]\n",
       "                },\n",
       "                \"scikit-learn\",\n",
       "                \"pandas\",\n",
       "                \"pip\"\n",
       "            ],\n",
       "            \"name\": \"project_environment\"\n",
       "        },\n",
       "        \"condaDependenciesFile\": null,\n",
       "        \"interpreterPath\": \"python\",\n",
       "        \"userManagedDependencies\": false\n",
       "    },\n",
       "    \"r\": null,\n",
       "    \"spark\": {\n",
       "        \"packages\": [],\n",
       "        \"precachePackages\": true,\n",
       "        \"repositories\": []\n",
       "    },\n",
       "    \"version\": \"1\"\n",
       "}"
      ]
     },
     "execution_count": 10,
     "metadata": {},
     "output_type": "execute_result"
    }
   ],
   "source": [
    "exp=Environment(name='myexp')\n",
    "expdep=CondaDependencies.create(pip_packages=['azureml-defaults'],conda_packages=['scikit-learn', 'pandas', 'pip'])\n",
    "exp.python.conda_dependencies=expdep\n",
    "exp.register(ws)"
   ]
  },
  {
   "cell_type": "code",
   "execution_count": null,
   "metadata": {},
   "outputs": [],
   "source": []
  },
  {
   "cell_type": "code",
   "execution_count": 14,
   "metadata": {},
   "outputs": [
    {
     "name": "stdout",
     "output_type": "stream",
     "text": [
      "adultincomedatastore\n",
      "adultds2\n",
      "workspaceworkingdirectory\n",
      "workspaceartifactstore\n",
      "workspaceblobstore\n",
      "workspacefilestore\n",
      "TabularDataset\n",
      "{\n",
      "  \"source\": [\n",
      "    \"('adultds2', 'adultincome+trunc.csv')\"\n",
      "  ],\n",
      "  \"definition\": [\n",
      "    \"GetDatastoreFiles\",\n",
      "    \"ParseDelimited\",\n",
      "    \"DropColumns\",\n",
      "    \"SetColumnTypes\"\n",
      "  ]\n",
      "}\n"
     ]
    }
   ],
   "source": [
    "#print registered datastores\n",
    "for ds in ws.datastores:\n",
    "    print(ds)\n",
    "for ds in ws.datasets:\n",
    "    print(ds)"
   ]
  },
  {
   "cell_type": "code",
   "execution_count": 20,
   "metadata": {},
   "outputs": [],
   "source": [
    "datastore_access=Datastore.register_azure_blob_container(ws,datastore_name='adultincomedatastore',container_name='adults',account_key='V+oQHRwAvV7IzXJQN2AaKk25cxHvTbtzmQSA/Pl1WY3jRb5PmNmn2/UjlWpQADclivBV3ylUfn/r+ASt/xmtrw=='\n",
    ",account_name='adultincomestor01')\n",
    "datastore=Datastore.get(ws,'adultincomedatastore')\n",
    "\n"
   ]
  },
  {
   "cell_type": "code",
   "execution_count": 22,
   "metadata": {},
   "outputs": [],
   "source": [
    "path=[(datastore,'adultincome+trunc.csv')]\n",
    "\n",
    "dataset=Dataset.Tabular.from_delimited_files(path=path)\n",
    "dataset=dataset.register(ws,'adultdataset',create_new_version=True)"
   ]
  },
  {
   "cell_type": "code",
   "execution_count": 26,
   "metadata": {},
   "outputs": [],
   "source": [
    "dataset=dataset.to_pandas_dataframe()"
   ]
  },
  {
   "cell_type": "code",
   "execution_count": 28,
   "metadata": {},
   "outputs": [],
   "source": [
    "#creating the joblib dumps for model registration and deployment\n",
    "experiment_deploymeny=Experiment(ws,'experiment_deploymeny')\n",
    "run=experiment_deploymeny.start_logging()\n",
    "\n",
    "x=dataset.iloc[:,:-1]\n",
    "y=dataset.iloc[:,-1]\n",
    "x=pd.get_dummies(x)\n",
    "train_encoded_cols=x.columns\n",
    "y=pd.get_dummies(y)\n",
    "y=y.iloc[:,-1]\n",
    "from sklearn.ensemble import RandomForestClassifier\n",
    "from sklearn.model_selection import RandomizedSearchCV, train_test_split\n",
    "x_train,x_test,y_train,y_test=train_test_split(x,y,test_size=0.2,random_state=0)\n",
    "rfc=RandomForestClassifier()\n",
    "trained_model=rfc.fit(x_train,y_train)\n",
    "y_predict=rfc.predict(x_test)\n",
    "y_prob=rfc.predict_proba(x_test)[:,1]\n",
    "from sklearn.metrics import accuracy_score,roc_auc_score, confusion_matrix\n",
    "cm=confusion_matrix(y_test,y_predict)\n",
    "score=accuracy_score(y_test,y_predict)\n",
    "run.log('accuracy',score)\n",
    "import joblib\n",
    "model_file='./outputs/model.pkl'\n",
    "joblib.dump(value=[train_encoded_cols,trained_model],filename=model_file)\n",
    "\n",
    "run.complete()\n"
   ]
  },
  {
   "cell_type": "code",
   "execution_count": 30,
   "metadata": {},
   "outputs": [
    {
     "data": {
      "text/plain": [
       "Model(workspace=Workspace.create(name='hyperdive12', subscription_id='1db33695-8135-4616-9bb4-9574b401d454', resource_group='defaultsrg02'), name=adultincome, id=adultincome:1, version=1, tags={}, properties={})"
      ]
     },
     "execution_count": 30,
     "metadata": {},
     "output_type": "execute_result"
    }
   ],
   "source": [
    "#register the model\n",
    "new_run=ws.get_run('69ed75c0-7cea-49c3-aa10-d99bd985aca2')\n",
    "new_run.register_model(model_name='adultincome',model_path='outputs/model.pkl')"
   ]
  },
  {
   "cell_type": "code",
   "execution_count": 1,
   "metadata": {},
   "outputs": [
    {
     "ename": "NameError",
     "evalue": "name 'Model' is not defined",
     "output_type": "error",
     "traceback": [
      "\u001b[1;31m---------------------------------------------------------------------------\u001b[0m",
      "\u001b[1;31mNameError\u001b[0m                                 Traceback (most recent call last)",
      "\u001b[1;32m<ipython-input-1-07c566d3e272>\u001b[0m in \u001b[0;36m<module>\u001b[1;34m\u001b[0m\n\u001b[1;32m----> 1\u001b[1;33m \u001b[0mModel\u001b[0m\u001b[1;33m.\u001b[0m\u001b[0mlist\u001b[0m\u001b[1;33m(\u001b[0m\u001b[0mws\u001b[0m\u001b[1;33m)\u001b[0m\u001b[1;33m\u001b[0m\u001b[0m\n\u001b[0m",
      "\u001b[1;31mNameError\u001b[0m: name 'Model' is not defined"
     ]
    }
   ],
   "source": [
    "Model.list(ws)"
   ]
  },
  {
   "cell_type": "code",
   "execution_count": 36,
   "metadata": {},
   "outputs": [
    {
     "data": {
      "text/plain": [
       "{'a': 10, 'b': 20, 'c': 30}"
      ]
     },
     "execution_count": 36,
     "metadata": {},
     "output_type": "execute_result"
    }
   ],
   "source": [
    "d1={'a':10,'b':20,'c':30}\n",
    "import json\n",
    "json_d1=json.dumps(d1)\n",
    "json.loads(json_d1)"
   ]
  },
  {
   "cell_type": "code",
   "execution_count": null,
   "metadata": {},
   "outputs": [],
   "source": [
    "#create aks cluster\n",
    "cluster_name='akscluster'\n",
    "aksconfig=AksCompute.provisioning_configuration(location='eastus',vm_size='STANDARD_D11_V2,'agenet_count=1,cluster_purpose='DevTest')\n",
    "akscluster=ComputeTarget.create(ws,cluster_name,aksconfig)\n",
    "\n",
    "#create inference config\n",
    "inference_config=InferenceConfig(entry_script='entry script.py',environment=exp)\n",
    "#deply config\n",
    "deployconfig=AksWebservice.deploy_configuration(cpu_cores=1,memory_gb=1,enable_app_insights=True)\n",
    "\n",
    "#deploy the webservice\n",
    "from azureml.core.model import Model\n",
    "model=ws.models['adultincome']\n",
    "service=Model.deploy(workspace=ws,name='adultincomeservice',models=[model],inference_config=inference_config,deployment_config=deployconfig,deployment_targwet=akscluster)\n",
    "service.wait_for_deployment(show_output=True)\n"
   ]
  },
  {
   "cell_type": "code",
   "execution_count": null,
   "metadata": {},
   "outputs": [],
   "source": []
  }
 ],
 "metadata": {
  "kernelspec": {
   "display_name": "Python 3.7.0 ('tf-gpu-cuda8')",
   "language": "python",
   "name": "python3"
  },
  "language_info": {
   "codemirror_mode": {
    "name": "ipython",
    "version": 3
   },
   "file_extension": ".py",
   "mimetype": "text/x-python",
   "name": "python",
   "nbconvert_exporter": "python",
   "pygments_lexer": "ipython3",
   "version": "3.7.0"
  },
  "orig_nbformat": 4,
  "vscode": {
   "interpreter": {
    "hash": "03f4ac3119e2450266d45ef487def59165e9739e84fca1acfa1dc135d1f5e0c7"
   }
  }
 },
 "nbformat": 4,
 "nbformat_minor": 2
}
