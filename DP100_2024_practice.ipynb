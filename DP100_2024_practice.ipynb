{
  "cells": [
    {
      "cell_type": "code",
      "source": [
        "from azure.ai.ml import MLClient\n",
        "from azure.identity import DefaultAzureCredential, InteractiveBrowserCredential"
      ],
      "outputs": [],
      "execution_count": 1,
      "metadata": {
        "gather": {
          "logged": 1721577596219
        }
      }
    },
    {
      "cell_type": "code",
      "source": [
        "ws_config={\n",
        "    \"subscription_id\": \"7b1b43ca-4b64-43cf-9446-edb35a04d7d1\",\n",
        "    \"resource_group\": \"amlws01\",\n",
        "    \"workspace_name\": \"amlwso1\"\n",
        "}"
      ],
      "outputs": [],
      "execution_count": 2,
      "metadata": {
        "jupyter": {
          "source_hidden": false,
          "outputs_hidden": false
        },
        "nteract": {
          "transient": {
            "deleting": false
          }
        },
        "gather": {
          "logged": 1721577596531
        }
      }
    },
    {
      "cell_type": "code",
      "source": [
        "\n",
        "ml_client=MLClient( DefaultAzureCredential(),\n",
        "                   ws_config['subscription_id'],\n",
        "                   ws_config['resource_group'],\n",
        "                   ws_config[\"workspace_name\"])"
      ],
      "outputs": [],
      "execution_count": 3,
      "metadata": {
        "jupyter": {
          "source_hidden": false,
          "outputs_hidden": false
        },
        "nteract": {
          "transient": {
            "deleting": false
          }
        },
        "gather": {
          "logged": 1721577596863
        }
      }
    },
    {
      "cell_type": "code",
      "source": [
        "from azure.ai.ml.entities import AzureBlobDatastore, AccountKeyConfiguration\n",
        "account_key='MrD/+eRfe+D3jTEyGvAJrZ898ank+jZKBUacIvINoacNAcsI/V0XQUWKOvJ0sMEPKUvrcjUBKcvQ+AStZCNerQ=='\n",
        "blob_datastore=AzureBlobDatastore(\n",
        "    name='blob_datastore_sdk3',\n",
        "    description='blobstore',\n",
        "    account_name='amlwso10632087199',\n",
        "    container_name='data',\n",
        "    credentials=AccountKeyConfiguration(\n",
        "        account_key=account_key\n",
        "    )\n",
        ")\n",
        "ml_client.create_or_update(blob_datastore)"
      ],
      "outputs": [
        {
          "output_type": "execute_result",
          "execution_count": 11,
          "data": {
            "text/plain": "AzureBlobDatastore({'type': <DatastoreType.AZURE_BLOB: 'AzureBlob'>, 'name': 'blob_datastore_sdk2', 'description': 'blobstore', 'tags': {}, 'properties': {}, 'print_as_yaml': False, 'id': '/subscriptions/7b1b43ca-4b64-43cf-9446-edb35a04d7d1/resourceGroups/amlws01/providers/Microsoft.MachineLearningServices/workspaces/amlwso1/datastores/blob_datastore_sdk2', 'Resource__source_path': '', 'base_path': '/mnt/batch/tasks/shared/LS_root/mounts/clusters/satyakebakshi951/code/Users/satyakebakshi95', 'creation_context': None, 'serialize': <msrest.serialization.Serializer object at 0x7f99e791f6a0>, 'credentials': {'type': 'account_key'}, 'container_name': 'data', 'account_name': 'amlwso10632087199', 'endpoint': 'core.windows.net', 'protocol': 'https'})"
          },
          "metadata": {}
        }
      ],
      "execution_count": 11,
      "metadata": {
        "jupyter": {
          "source_hidden": false,
          "outputs_hidden": false
        },
        "nteract": {
          "transient": {
            "deleting": false
          }
        },
        "gather": {
          "logged": 1721483134244
        }
      }
    },
    {
      "cell_type": "code",
      "source": [
        "from azure.ai.ml.entities import Data \n",
        "from azure.ai.ml.constants import AssetTypes\n",
        "\n",
        "path='azureml://datastores/blob_datastore_sdk1/paths/patients/'\n",
        "\n",
        "data=Data(\n",
        "    path=path,\n",
        "    type=AssetTypes.MLTABLE,\n",
        "    description='data asset registerd though ML Table',\n",
        "    name='MlTableDiabetesv2'\n",
        ")\n",
        "\n",
        "ml_client.data.create_or_update(data)"
      ],
      "outputs": [
        {
          "output_type": "execute_result",
          "execution_count": 5,
          "data": {
            "text/plain": "Data({'path': 'azureml://subscriptions/7b1b43ca-4b64-43cf-9446-edb35a04d7d1/resourcegroups/amlws01/workspaces/amlwso1/datastores/blob_datastore_sdk1/paths/patients/', 'skip_validation': False, 'mltable_schema_url': None, 'referenced_uris': ['diabetes.csv'], 'type': 'mltable', 'is_anonymous': False, 'auto_increment_version': False, 'auto_delete_setting': None, 'name': 'MlTableDiabetesv2', 'description': 'data asset registerd though ML Table', 'tags': {}, 'properties': {}, 'print_as_yaml': False, 'id': '/subscriptions/7b1b43ca-4b64-43cf-9446-edb35a04d7d1/resourceGroups/amlws01/providers/Microsoft.MachineLearningServices/workspaces/amlwso1/data/MlTableDiabetesv2/versions/1', 'Resource__source_path': '', 'base_path': '/mnt/batch/tasks/shared/LS_root/mounts/clusters/satyakebakshi951/code/Users/satyakebakshi95', 'creation_context': <azure.ai.ml.entities._system_data.SystemData object at 0x7f233af30b80>, 'serialize': <msrest.serialization.Serializer object at 0x7f232d4f36a0>, 'version': '1', 'latest_version': None, 'datastore': None})"
          },
          "metadata": {}
        }
      ],
      "execution_count": 5,
      "metadata": {
        "jupyter": {
          "source_hidden": false,
          "outputs_hidden": false
        },
        "nteract": {
          "transient": {
            "deleting": false
          }
        },
        "gather": {
          "logged": 1721484503299
        }
      }
    },
    {
      "cell_type": "code",
      "source": [
        "from azure.ai.ml.entities import Data \n",
        "from azure.ai.ml.constants import AssetTypes\n",
        "#path='https://amlws0016312359379.blob.core.windows.net/data/diabetes.xls'\n",
        "path='azureml://datastores/blob_datastore_sdk/paths/diabetes.csv'\n",
        "#path='azureml://data@amlwso10632087199.blob.core.windows.net/diabetes.csv'\n",
        "\n",
        "data=Data(\n",
        "    path=path,\n",
        "    type=AssetTypes.URI_FILE,\n",
        "    description='data asset registered from blob',\n",
        "    name='diabetes-data-training'\n",
        ")\n",
        "ml_client.data.create_or_update(data)"
      ],
      "outputs": [
        {
          "output_type": "execute_result",
          "execution_count": 6,
          "data": {
            "text/plain": "Data({'path': 'azureml://subscriptions/7b1b43ca-4b64-43cf-9446-edb35a04d7d1/resourcegroups/amlws01/workspaces/amlwso1/datastores/blob_datastore_sdk/paths/diabetes.csv', 'skip_validation': False, 'mltable_schema_url': None, 'referenced_uris': None, 'type': 'uri_file', 'is_anonymous': False, 'auto_increment_version': False, 'auto_delete_setting': None, 'name': 'diabetes-data-training', 'description': 'data asset registered from blob', 'tags': {}, 'properties': {}, 'print_as_yaml': False, 'id': '/subscriptions/7b1b43ca-4b64-43cf-9446-edb35a04d7d1/resourceGroups/amlws01/providers/Microsoft.MachineLearningServices/workspaces/amlwso1/data/diabetes-data-training/versions/5', 'Resource__source_path': '', 'base_path': '/mnt/batch/tasks/shared/LS_root/mounts/clusters/satyakebakshi951/code/Users/satyakebakshi95', 'creation_context': <azure.ai.ml.entities._system_data.SystemData object at 0x7f18301c9b10>, 'serialize': <msrest.serialization.Serializer object at 0x7f18301cbf70>, 'version': '5', 'latest_version': None, 'datastore': None})"
          },
          "metadata": {}
        }
      ],
      "execution_count": 6,
      "metadata": {
        "jupyter": {
          "source_hidden": false,
          "outputs_hidden": false
        },
        "nteract": {
          "transient": {
            "deleting": false
          }
        },
        "gather": {
          "logged": 1721395933179
        }
      }
    },
    {
      "cell_type": "code",
      "source": [
        "path='azureml://datastores/blob_datastore_sdk/paths/'\n",
        "\n",
        "data=Data(\n",
        "    path=path,\n",
        "    type=AssetTypes.URI_FOLDER,\n",
        "    description='data asset registered from blob',\n",
        "    name='diabetes-data-training-FOLDER'\n",
        ")\n",
        "ml_client.data.create_or_update(data)"
      ],
      "outputs": [
        {
          "output_type": "execute_result",
          "execution_count": 7,
          "data": {
            "text/plain": "Data({'path': 'azureml://subscriptions/7b1b43ca-4b64-43cf-9446-edb35a04d7d1/resourcegroups/amlws01/workspaces/amlwso1/datastores/blob_datastore_sdk/paths/', 'skip_validation': False, 'mltable_schema_url': None, 'referenced_uris': None, 'type': 'uri_folder', 'is_anonymous': False, 'auto_increment_version': False, 'auto_delete_setting': None, 'name': 'diabetes-data-training-FOLDER', 'description': 'data asset registered from blob', 'tags': {}, 'properties': {}, 'print_as_yaml': False, 'id': '/subscriptions/7b1b43ca-4b64-43cf-9446-edb35a04d7d1/resourceGroups/amlws01/providers/Microsoft.MachineLearningServices/workspaces/amlwso1/data/diabetes-data-training-FOLDER/versions/2', 'Resource__source_path': '', 'base_path': '/mnt/batch/tasks/shared/LS_root/mounts/clusters/satyakebakshi951/code/Users/satyakebakshi95', 'creation_context': <azure.ai.ml.entities._system_data.SystemData object at 0x7f18303b49d0>, 'serialize': <msrest.serialization.Serializer object at 0x7f183010e140>, 'version': '2', 'latest_version': None, 'datastore': None})"
          },
          "metadata": {}
        }
      ],
      "execution_count": 7,
      "metadata": {
        "jupyter": {
          "source_hidden": false,
          "outputs_hidden": false
        },
        "nteract": {
          "transient": {
            "deleting": false
          }
        },
        "gather": {
          "logged": 1721395933939
        }
      }
    },
    {
      "cell_type": "code",
      "source": [
        "!pip -q install mlflow"
      ],
      "outputs": [],
      "execution_count": 14,
      "metadata": {
        "jupyter": {
          "source_hidden": false,
          "outputs_hidden": false
        },
        "nteract": {
          "transient": {
            "deleting": false
          }
        },
        "gather": {
          "logged": 1721577413274
        }
      }
    },
    {
      "cell_type": "code",
      "source": [
        "%%writefile train.py\n",
        "import argparse\n",
        "import pandas as pd \n",
        "import numpy as np \n",
        "import mltable\n",
        "from sklearn.model_selection import train_test_split\n",
        "from sklearn.linear_model import LogisticRegression\n",
        "import mlflow\n",
        "from azure.ai.ml import command \n",
        "from azure.ai.ml import MLClient\n",
        "from azure.identity import DefaultAzureCredential, InteractiveBrowserCredential\n",
        "from sklearn.preprocessing import LabelEncoder\n",
        "import pickle\n",
        "LE=LabelEncoder()\n",
        "\n",
        "from azure.ai.ml import MLClient, command, Input\n",
        "from azure.ai.ml.constants import AssetTypes, InputOutputModes\n",
        "from azure.identity import DefaultAzureCredential\n",
        "\n",
        "ws_config={\n",
        "    \"subscription_id\": \"7b1b43ca-4b64-43cf-9446-edb35a04d7d1\",\n",
        "    \"resource_group\": \"amlws01\",\n",
        "    \"workspace_name\": \"amlwso1\"\n",
        "}\n",
        "\n",
        "ml_client=MLClient( DefaultAzureCredential(),\n",
        "                   ws_config['subscription_id'],\n",
        "                   ws_config['resource_group'],\n",
        "                   ws_config[\"workspace_name\"])\n",
        "\n",
        "with mlflow.start_run():\n",
        "    mlflow.autolog()\n",
        "    parser=argparse.ArgumentParser()\n",
        "    parser.add_argument('--regularization', type=float,dest='reg_rate',default=0.1)\n",
        "    parser.add_argument('--training_data',type=str, dest='train')\n",
        "    args=parser.parse_args()\n",
        "\n",
        "\n",
        "    data_asset = ml_client.data.get(\"diabetes-data-training-FOLDER\", version=\"1\")\n",
        "\n",
        "    df=pd.read_csv(args.train)\n",
        "    df.dropna(inplace=True)\n",
        "\n",
        "    y=df[['Diabetic']]\n",
        "    x=df[['Pregnancies', 'PlasmaGlucose', 'DiastolicBloodPressure',\n",
        "       'TricepsThickness', 'SerumInsulin', 'BMI', 'DiabetesPedigree', 'Age']]\n",
        "    y=LE.fit_transform(y)\n",
        "    X_Train,X_test, y_train,y_test=train_test_split(x,y, test_size=0.30)\n",
        "\n",
        "    model=LogisticRegression(C=1/args.reg_rate)\n",
        "    model.fit(X_Train,y_train)\n",
        "\n",
        "    #calculate and log accuracy\n",
        "    y_hat=model.predict(X_test)\n",
        "\n",
        "    from sklearn.metrics import accuracy_score\n",
        "    acc=accuracy_score(y_hat, y_test)\n",
        "    mlflow.log_metric('accuracy', acc)\n",
        "    #filename='saved_model.pkl'\n",
        "    #pickle.dump(model,open(filename,'wb'))\n",
        "\n",
        "\n",
        "\n"
      ],
      "outputs": [
        {
          "output_type": "stream",
          "name": "stdout",
          "text": "Overwriting train.py\n"
        }
      ],
      "execution_count": 1,
      "metadata": {
        "jupyter": {
          "source_hidden": false,
          "outputs_hidden": false
        },
        "nteract": {
          "transient": {
            "deleting": false
          }
        }
      }
    },
    {
      "cell_type": "code",
      "source": [
        "%%writefile train.py\n",
        "import argparse\n",
        "import pandas as pd \n",
        "import numpy as np \n",
        "import mltable\n",
        "from sklearn.model_selection import train_test_split\n",
        "from sklearn.linear_model import LogisticRegression\n",
        "import mlflow\n",
        "from azure.ai.ml import command \n",
        "from azure.ai.ml import MLClient\n",
        "from azure.identity import DefaultAzureCredential, InteractiveBrowserCredential\n",
        "from sklearn.preprocessing import LabelEncoder\n",
        "LE=LabelEncoder()\n",
        "\n",
        "\n",
        "\n",
        "ws_config={\n",
        "    \"subscription_id\": \"7b1b43ca-4b64-43cf-9446-edb35a04d7d1\",\n",
        "    \"resource_group\": \"amlws01\",\n",
        "    \"workspace_name\": \"amlwso1\"\n",
        "}\n",
        "\n",
        "ml_client=MLClient( DefaultAzureCredential(),\n",
        "                   ws_config['subscription_id'],\n",
        "                   ws_config['resource_group'],\n",
        "                   ws_config[\"workspace_name\"])\n",
        "\n",
        "#with mlflow.start_run():\n",
        "#    mlflow.autolog()\n",
        "parser=argparse.ArgumentParser()\n",
        "parser.add_argument('--regularization', type=float,dest='reg_rate',default=0.1)\n",
        "args=parser.parse_args()\n",
        "\n",
        "\n",
        "data_asset = ml_client.data.get(\"diabetes-data-training-FOLDER\", version=\"1\")\n",
        "path={\n",
        "            'folder': data_asset.path\n",
        "                }\n",
        "\n",
        "tbl=mltable.from_delimited_files(paths=[path])\n",
        "df=tbl.to_pandas_dataframe()\n",
        "df.dropna(inplace=True)\n",
        "y=df.iloc[:,-1].values\n",
        "x=df.iloc[:,:-1].values\n",
        "y=LE.fit_transform(y)\n",
        "X_Train,X_test, y_train,y_test=train_test_split(x,y, test_size=0.30)\n",
        "\n",
        "model=LogisticRegression(C=1/args.reg_rate)\n",
        "model.fit(X_Train,y_train)\n",
        "\n",
        "    #calculate and log accuracy\n",
        "y_hat=model.predict(X_test)\n",
        "\n",
        "from sklearn.metrics import accuracy_score\n",
        "accuracy_score(y_hat, y_test)\n",
        "#mlflow.log_metric('accuracy', acc)\n",
        "\n",
        "\n",
        "\n"
      ],
      "outputs": [
        {
          "output_type": "stream",
          "name": "stdout",
          "text": "Overwriting train.py\n"
        }
      ],
      "execution_count": 8,
      "metadata": {
        "jupyter": {
          "source_hidden": false,
          "outputs_hidden": false
        },
        "nteract": {
          "transient": {
            "deleting": false
          }
        }
      }
    },
    {
      "cell_type": "code",
      "source": [
        "#using URI dataset\n",
        "\n",
        "from azure.ai.ml import MLClient, command, Input\n",
        "from azure.ai.ml.constants import AssetTypes, InputOutputModes\n",
        "from azure.identity import DefaultAzureCredential, InteractiveBrowserCredential\n",
        "ws_config={\n",
        "    \"subscription_id\": \"7b1b43ca-4b64-43cf-9446-edb35a04d7d1\",\n",
        "    \"resource_group\": \"amlws01\",\n",
        "    \"workspace_name\": \"amlwso1\"\n",
        "}\n",
        "\n",
        "ml_client=MLClient( DefaultAzureCredential(),\n",
        "                   ws_config['subscription_id'],\n",
        "                   ws_config['resource_group'],\n",
        "                   ws_config[\"workspace_name\"])\n",
        "\n",
        "data_asset = ml_client.data.get(\"diabetes-data-training\", version=\"5\")\n",
        "\n",
        "\n",
        "job=command(\n",
        "    code=\"./\",\n",
        "    command=\"python train.py --regularization 0.01 --training_data diabetes.csv\",\n",
        "    #inputs={\n",
        "    #    \"reg_rate\":0.01,\n",
        "    #    \"train\": Input(path=data_asset.id,\n",
        "    #    type=AssetTypes.URI_FILE,\n",
        "    #    mode=InputOutputModes.RO_MOUNT\n",
        "    #    )\n",
        "    \n",
        "    #},\n",
        "    environment='customm-env-scikit:4',\n",
        "    compute='CE123'\n",
        ")\n",
        "\n",
        "returned_job = ml_client.jobs.create_or_update(job)\n",
        "returned_job.studio_url"
      ],
      "outputs": [
        {
          "output_type": "stream",
          "name": "stderr",
          "text": "Class AutoDeleteSettingSchema: This is an experimental class, and may change at any time. Please see https://aka.ms/azuremlexperimental for more information.\nClass AutoDeleteConditionSchema: This is an experimental class, and may change at any time. Please see https://aka.ms/azuremlexperimental for more information.\nClass BaseAutoDeleteSettingSchema: This is an experimental class, and may change at any time. Please see https://aka.ms/azuremlexperimental for more information.\nClass IntellectualPropertySchema: This is an experimental class, and may change at any time. Please see https://aka.ms/azuremlexperimental for more information.\nClass ProtectionLevelSchema: This is an experimental class, and may change at any time. Please see https://aka.ms/azuremlexperimental for more information.\nClass BaseIntellectualPropertySchema: This is an experimental class, and may change at any time. Please see https://aka.ms/azuremlexperimental for more information.\n\u001b[32mUploading satyakebakshi95 (26.03 MBs): 100%|██████████| 26025769/26025769 [00:01<00:00, 20745627.71it/s]\n\u001b[39m\n\n"
        },
        {
          "output_type": "execute_result",
          "execution_count": 1,
          "data": {
            "text/plain": "'https://ml.azure.com/runs/teal_leather_chy008kkzw?wsid=/subscriptions/7b1b43ca-4b64-43cf-9446-edb35a04d7d1/resourcegroups/amlws01/workspaces/amlwso1&tid=a287f42c-46eb-424f-ab40-cd784a7b423c'"
          },
          "metadata": {}
        }
      ],
      "execution_count": 1,
      "metadata": {
        "jupyter": {
          "source_hidden": false,
          "outputs_hidden": false
        },
        "nteract": {
          "transient": {
            "deleting": false
          }
        },
        "gather": {
          "logged": 1722215127440
        }
      }
    },
    {
      "cell_type": "markdown",
      "source": [
        "**Pipelines**"
      ],
      "metadata": {
        "nteract": {
          "transient": {
            "deleting": false
          }
        }
      }
    },
    {
      "cell_type": "code",
      "source": [
        "import os \n",
        "script_folder='src'\n",
        "os.makedirs(script_folder, exist_ok=True)\n",
        "print(script_folder, 'folder created')"
      ],
      "outputs": [
        {
          "output_type": "stream",
          "name": "stdout",
          "text": "src folder created\n"
        }
      ],
      "execution_count": 1,
      "metadata": {
        "jupyter": {
          "source_hidden": false,
          "outputs_hidden": false
        },
        "nteract": {
          "transient": {
            "deleting": false
          }
        },
        "gather": {
          "logged": 1721923865349
        }
      }
    },
    {
      "cell_type": "code",
      "source": [
        "%%writefile prep.py\n",
        "import argparse\n",
        "import pandas as pd \n",
        "from pathlib import Path\n",
        "import numpy as np \n",
        "from sklearn.preprocessing import MinMaxScaler\n",
        "\n",
        "parser=argparse.ArgumentParser()\n",
        "parser.add_argument('--input_data', type=str,dest='input_data')\n",
        "parser.add_argument('--output_data',type=str, dest='output_data')\n",
        "args=parser.parse_args()\n",
        "\n",
        "df=pd.read_csv(args.input_data)\n",
        "df.dropna(inplace=True)\n",
        "scaler=MinMaxScaler()\n",
        "\n",
        "num_cols=['Pregnancies','Glucose','BloodPressure','SkinThickness','Insulin','BMI','DiabetesPedigreeFunction','Age']\n",
        "df[num_cols]=scaler.fit_transform(df[num_cols])\n",
        "\n",
        "df.to_csv((Path(args.output_data)/ \"cleaned_data.csv\"), index=False)"
      ],
      "outputs": [
        {
          "output_type": "stream",
          "name": "stdout",
          "text": "Overwriting prep.py\n"
        }
      ],
      "execution_count": 5,
      "metadata": {
        "jupyter": {
          "source_hidden": false,
          "outputs_hidden": false
        },
        "nteract": {
          "transient": {
            "deleting": false
          }
        },
        "gather": {
          "logged": 1721924071779
        }
      }
    },
    {
      "cell_type": "code",
      "source": [
        "%%writefile train_decision_tree.py\n",
        "import mlflow\n",
        "import glob \n",
        "import argparse \n",
        "import pandas as pd \n",
        "import numpy as np \n",
        "from sklearn.model_selection import train_test_split\n",
        "from sklearn.linear_model import LogisticRegression\n",
        "from sklearn.metrics import roc_auc_score\n",
        "from sklearn.preprocessing import LabelEncoder\n",
        "from sklearn.metrics import accuracy_score\n",
        "\n",
        "parser=argparse.ArgumentParser()\n",
        "parser.add_argument('--training_data',type=str, dest='training_data')\n",
        "parser.add_argument('--reg_rate', type=float,dest='reg_rate')\n",
        "parser.add_argument('--model_output', type=str, dest='model_output')\n",
        "args=parser.parse_args()\n",
        "\n",
        "df_list = []\n",
        "for file in glob.glob(args.training_data + '/*.csv'):\n",
        "    df_list.append(pd.read_csv(file))\n",
        "\n",
        "\n",
        "\n",
        "LE=LabelEncoder()\n",
        "\n",
        "mlflow.autolog()\n",
        "df_list=[]\n",
        "for file in glob.glob(args.training_data + '/*.csv'):\n",
        "    df_list.append(pd.read_csv(file))\n",
        "df=pd.concat(df_list, ignore_index=True)\n",
        "y=df.iloc[:,-1].values\n",
        "x=df.iloc[:,:-1].values\n",
        "y=LE.fit_transform(y)\n",
        "X_Train,X_test, y_train,y_test=train_test_split(x,y, test_size=0.30)\n",
        "model=LogisticRegression(C=1/args.reg_rate)\n",
        "model.fit(X_Train,y_train)\n",
        "\n",
        "#calculate and log accuracy\n",
        "y_hat=model.predict(X_test)\n",
        "accuracy_score(y_hat, y_test)\n",
        "mlflow.sklearn.save_model(model, args.model_output)\n",
        "\n",
        "\n",
        "\n",
        "\n"
      ],
      "outputs": [
        {
          "output_type": "stream",
          "name": "stdout",
          "text": "Overwriting train_decision_tree.py\n"
        }
      ],
      "execution_count": 56,
      "metadata": {
        "jupyter": {
          "source_hidden": false,
          "outputs_hidden": false
        },
        "nteract": {
          "transient": {
            "deleting": false
          }
        }
      }
    },
    {
      "cell_type": "code",
      "source": [
        "%%writefile prep.yml\n",
        "$schema: https://azuremlschemas.azureedge.net/latest/commandComponent.schema.json\n",
        "name: prep_data\n",
        "display_name: prepare_training_data\n",
        "version: 1\n",
        "type: command\n",
        "inputs:\n",
        "  input_data:\n",
        "    type: uri_file\n",
        "outputs:\n",
        "  output_data:\n",
        "    type: uri_folder\n",
        "code: ./\n",
        "environment: azureml:customm-env-scikit:3\n",
        "command: >\n",
        "  python prep.py\n",
        "  --input_data ${{inputs.input_data}}\n",
        "  --output_data ${{outputs.output_data}}\n"
      ],
      "outputs": [
        {
          "output_type": "stream",
          "name": "stdout",
          "text": "Overwriting prep.yml\n"
        }
      ],
      "execution_count": 57,
      "metadata": {
        "jupyter": {
          "source_hidden": false,
          "outputs_hidden": false
        },
        "nteract": {
          "transient": {
            "deleting": false
          }
        }
      }
    },
    {
      "cell_type": "code",
      "source": [
        "%%writefile train_model.yml\n",
        "$schema: https://azuremlschemas.azureedge.net/latest/commandComponent.schema.json\n",
        "name: train_model\n",
        "display_name: Train Logistic Regression\n",
        "version: 1\n",
        "type: command\n",
        "inputs:\n",
        "  training_data:\n",
        "    type: uri_folder\n",
        "  reg_rate:\n",
        "    type: number\n",
        "    default: 0.01\n",
        "outputs:\n",
        "  model_output:\n",
        "    type: mlflow_model\n",
        "code: ./\n",
        "environment: azureml:customm-env-scikit:3\n",
        "command: >\n",
        "  python train_decision_tree.py\n",
        "  --training_data ${{inputs.training_data}}\n",
        "  --reg_rate ${{inputs.reg_rate}}\n",
        "  --model_output ${{outputs.model_output}}\n"
      ],
      "outputs": [
        {
          "output_type": "stream",
          "name": "stdout",
          "text": "Overwriting train_model.yml\n"
        }
      ],
      "execution_count": 58,
      "metadata": {
        "jupyter": {
          "source_hidden": false,
          "outputs_hidden": false
        },
        "nteract": {
          "transient": {
            "deleting": false
          }
        }
      }
    },
    {
      "cell_type": "code",
      "source": [
        "#load the components\n",
        "from azure.ai.ml import load_component\n",
        "from azure.ai.ml import MLClient\n",
        "from azure.identity import DefaultAzureCredential, InteractiveBrowserCredential\n",
        "\n",
        "ws_config={\n",
        "    \"subscription_id\": \"7b1b43ca-4b64-43cf-9446-edb35a04d7d1\",\n",
        "    \"resource_group\": \"amlws01\",\n",
        "    \"workspace_name\": \"amlwso1\"\n",
        "}\n",
        "\n",
        "ml_client=MLClient( DefaultAzureCredential(),\n",
        "                   ws_config['subscription_id'],\n",
        "                   ws_config['resource_group'],\n",
        "                   ws_config[\"workspace_name\"])\n"
      ],
      "outputs": [],
      "execution_count": 1,
      "metadata": {
        "jupyter": {
          "source_hidden": false,
          "outputs_hidden": false
        },
        "nteract": {
          "transient": {
            "deleting": false
          }
        },
        "gather": {
          "logged": 1722201759599
        }
      }
    },
    {
      "cell_type": "code",
      "source": [
        "##building the pipeline\n",
        "from azure.ai.ml  import Input\n",
        "from azure.ai.ml.constants import AssetTypes\n",
        "from azure.ai.ml.dsl import pipeline \n",
        "parent_dir=\"\"\n",
        "prep_data=load_component(source=parent_dir + \"./prep.yml\")\n",
        "train_model=load_component(source=parent_dir + \"./train_model.yml\")\n",
        "\n",
        "@pipeline()\n",
        "def classification(pipeline_input):\n",
        "    preprocess_data=prep_data(input_data=pipeline_input)\n",
        "    train_model_output=train_model(training_data=preprocess_data.outputs.output_data)\n",
        "    return {\n",
        "            \"pipeline_job_transformed_data\": preprocess_data.outputs.output_data,\n",
        "            \"pipeline_job_trained_model\": train_model_output.outputs.model_output\n",
        "        }\n",
        "pipeline_job=classification(Input(type=AssetTypes.URI_FILE, path=\"azureml:diabetes-data-training:5\"))\n",
        "print(pipeline_job)"
      ],
      "outputs": [
        {
          "output_type": "stream",
          "name": "stderr",
          "text": "Class AutoDeleteSettingSchema: This is an experimental class, and may change at any time. Please see https://aka.ms/azuremlexperimental for more information.\nClass AutoDeleteConditionSchema: This is an experimental class, and may change at any time. Please see https://aka.ms/azuremlexperimental for more information.\nClass BaseAutoDeleteSettingSchema: This is an experimental class, and may change at any time. Please see https://aka.ms/azuremlexperimental for more information.\nClass IntellectualPropertySchema: This is an experimental class, and may change at any time. Please see https://aka.ms/azuremlexperimental for more information.\nClass ProtectionLevelSchema: This is an experimental class, and may change at any time. Please see https://aka.ms/azuremlexperimental for more information.\nClass BaseIntellectualPropertySchema: This is an experimental class, and may change at any time. Please see https://aka.ms/azuremlexperimental for more information.\n"
        },
        {
          "output_type": "stream",
          "name": "stdout",
          "text": "display_name: classification\ntype: pipeline\ninputs:\n  pipeline_input:\n    type: uri_file\n    path: azureml:diabetes-data-training:5\noutputs:\n  pipeline_job_transformed_data:\n    type: uri_folder\n  pipeline_job_trained_model:\n    type: mlflow_model\njobs:\n  preprocess_data:\n    type: command\n    inputs:\n      input_data:\n        path: ${{parent.inputs.pipeline_input}}\n    outputs:\n      output_data: ${{parent.outputs.pipeline_job_transformed_data}}\n    component:\n      $schema: https://azuremlschemas.azureedge.net/latest/commandComponent.schema.json\n      name: prep_data\n      version: '1'\n      display_name: prepare_training_data\n      type: command\n      inputs:\n        input_data:\n          type: uri_file\n      outputs:\n        output_data:\n          type: uri_folder\n      command: 'python prep.py --input_data ${{inputs.input_data}} --output_data ${{outputs.output_data}}\n\n        '\n      environment: azureml:customm-env-scikit:3\n      code: /mnt/batch/tasks/shared/LS_root/mounts/clusters/satyakebakshi951/code/Users/satyakebakshi95\n      is_deterministic: true\n  train_model_output:\n    type: command\n    inputs:\n      training_data:\n        path: ${{parent.jobs.preprocess_data.outputs.output_data}}\n    outputs:\n      model_output: ${{parent.outputs.pipeline_job_trained_model}}\n    component:\n      $schema: https://azuremlschemas.azureedge.net/latest/commandComponent.schema.json\n      name: train_model\n      version: '1'\n      display_name: Train Logistic Regression\n      type: command\n      inputs:\n        training_data:\n          type: uri_folder\n        reg_rate:\n          type: number\n          default: '0.01'\n      outputs:\n        model_output:\n          type: mlflow_model\n      command: 'python train_decision_tree.py --training_data ${{inputs.training_data}}\n        --reg_rate ${{inputs.reg_rate}} --model_output ${{outputs.model_output}}\n\n        '\n      environment: azureml:customm-env-scikit:3\n      code: /mnt/batch/tasks/shared/LS_root/mounts/clusters/satyakebakshi951/code/Users/satyakebakshi95\n      is_deterministic: true\n\n"
        }
      ],
      "execution_count": 3,
      "metadata": {
        "jupyter": {
          "source_hidden": false,
          "outputs_hidden": false
        },
        "nteract": {
          "transient": {
            "deleting": false
          }
        },
        "gather": {
          "logged": 1722174036995
        }
      }
    },
    {
      "cell_type": "code",
      "source": [
        "#change the output mode\n",
        "pipeline_job.outputs.pipeline_job_transformed_data.mode=\"upload\"\n",
        "pipeline_job.outputs.pipeline_job_trained_model.mode=\"upload\"\n",
        "#set pipeline level compute\n",
        "pipeline_job.settings.default_compute=\"satyakebakshi951\"\n",
        "#set pipeline_level_datastore\n",
        "pipeline_job.settings.default_datastore=\"workspaceblobstore\""
      ],
      "outputs": [],
      "execution_count": 4,
      "metadata": {
        "jupyter": {
          "source_hidden": false,
          "outputs_hidden": false
        },
        "nteract": {
          "transient": {
            "deleting": false
          }
        },
        "gather": {
          "logged": 1722174053801
        }
      }
    },
    {
      "cell_type": "code",
      "source": [
        "pipeline_job=ml_client.jobs.create_or_update(\n",
        "    pipeline_job, experiment_name='pipeline_diabetes'\n",
        ")\n",
        "\n",
        "pipeline_job"
      ],
      "outputs": [
        {
          "output_type": "stream",
          "name": "stderr",
          "text": "\u001b[32mUploading satyakebakshi95 (0.12 MBs): 100%|██████████| 124070/124070 [00:00<00:00, 1649535.77it/s]\n\u001b[39m\n\npathOnCompute is not a known attribute of class <class 'azure.ai.ml._restclient.v2023_04_01_preview.models._models_py3.UriFolderJobOutput'> and will be ignored\npathOnCompute is not a known attribute of class <class 'azure.ai.ml._restclient.v2023_04_01_preview.models._models_py3.MLFlowModelJobOutput'> and will be ignored\n"
        },
        {
          "output_type": "execute_result",
          "execution_count": 5,
          "data": {
            "text/plain": "PipelineJob({'inputs': {'pipeline_input': <azure.ai.ml.entities._job.pipeline._io.base.PipelineInput object at 0x7f94865662c0>}, 'outputs': {'pipeline_job_transformed_data': <azure.ai.ml.entities._job.pipeline._io.base.PipelineOutput object at 0x7f9486565570>, 'pipeline_job_trained_model': <azure.ai.ml.entities._job.pipeline._io.base.PipelineOutput object at 0x7f9486565600>}, 'jobs': {}, 'component': PipelineComponent({'latest_version': None, 'intellectual_property': None, 'auto_increment_version': False, 'source': 'REMOTE.WORKSPACE.JOB', 'is_anonymous': True, 'auto_delete_setting': None, 'name': 'azureml_anonymous', 'description': None, 'tags': {}, 'properties': {}, 'print_as_yaml': False, 'id': None, 'Resource__source_path': None, 'base_path': '/mnt/batch/tasks/shared/LS_root/mounts/clusters/satyakebakshi951/code/Users/satyakebakshi95', 'creation_context': None, 'serialize': <msrest.serialization.Serializer object at 0x7f94865656c0>, 'version': '1', 'schema': None, 'type': 'pipeline', 'display_name': 'classification', 'is_deterministic': None, 'inputs': {'pipeline_input': {}}, 'outputs': {'pipeline_job_transformed_data': {}, 'pipeline_job_trained_model': {}}, 'yaml_str': None, 'other_parameter': {}, 'jobs': {'preprocess_data': Command({'parameters': {}, 'init': False, 'name': 'preprocess_data', 'type': 'command', 'status': None, 'log_files': None, 'description': None, 'tags': {}, 'properties': {}, 'print_as_yaml': False, 'id': None, 'Resource__source_path': '', 'base_path': '/mnt/batch/tasks/shared/LS_root/mounts/clusters/satyakebakshi951/code/Users/satyakebakshi95', 'creation_context': None, 'serialize': <msrest.serialization.Serializer object at 0x7f9486564610>, 'allowed_keys': {}, 'key_restriction': False, 'logger': <TraceLogger attr_dict (WARNING)>, 'display_name': None, 'experiment_name': None, 'compute': None, 'services': None, 'comment': None, 'job_inputs': {'input_data': '${{parent.inputs.pipeline_input}}'}, 'job_outputs': {'output_data': '${{parent.outputs.pipeline_job_transformed_data}}'}, 'inputs': {'input_data': <azure.ai.ml.entities._job.pipeline._io.base.NodeInput object at 0x7f94865654b0>}, 'outputs': {'output_data': <azure.ai.ml.entities._job.pipeline._io.base.NodeOutput object at 0x7f9486566350>}, 'component': 'azureml_anonymous:82ed7fd3-2f9b-4005-b9a4-c519e8fd9236', 'referenced_control_flow_node_instance_id': None, 'kwargs': {'services': None}, 'instance_id': '4b8061e0-6e71-4f26-a2cc-9a4c2f4d1b17', 'source': 'YAML.COMPONENT', 'validate_required_input_not_provided': True, 'limits': None, 'identity': None, 'distribution': None, 'environment_variables': {}, 'environment': None, 'resources': None, 'queue_settings': None, 'swept': False}), 'train_model_output': Command({'parameters': {}, 'init': False, 'name': 'train_model_output', 'type': 'command', 'status': None, 'log_files': None, 'description': None, 'tags': {}, 'properties': {}, 'print_as_yaml': False, 'id': None, 'Resource__source_path': '', 'base_path': '/mnt/batch/tasks/shared/LS_root/mounts/clusters/satyakebakshi951/code/Users/satyakebakshi95', 'creation_context': None, 'serialize': <msrest.serialization.Serializer object at 0x7f9486565ba0>, 'allowed_keys': {}, 'key_restriction': False, 'logger': <TraceLogger attr_dict (WARNING)>, 'display_name': None, 'experiment_name': None, 'compute': None, 'services': None, 'comment': None, 'job_inputs': {'training_data': '${{parent.jobs.preprocess_data.outputs.output_data}}'}, 'job_outputs': {'model_output': '${{parent.outputs.pipeline_job_trained_model}}'}, 'inputs': {'training_data': <azure.ai.ml.entities._job.pipeline._io.base.NodeInput object at 0x7f9486565cf0>}, 'outputs': {'model_output': <azure.ai.ml.entities._job.pipeline._io.base.NodeOutput object at 0x7f9486565360>}, 'component': 'azureml_anonymous:99d519e9-dc8f-4321-ba43-a1d6ebc30974', 'referenced_control_flow_node_instance_id': None, 'kwargs': {'services': None}, 'instance_id': 'ce00f07e-b4ac-438f-adad-d9af16f7fc86', 'source': 'YAML.COMPONENT', 'validate_required_input_not_provided': True, 'limits': None, 'identity': None, 'distribution': None, 'environment_variables': {}, 'environment': None, 'resources': None, 'queue_settings': None, 'swept': False})}, 'job_types': {'command': 2}, 'job_sources': {'YAML.COMPONENT': 2}, 'source_job_id': None}), 'type': 'pipeline', 'status': 'NotStarted', 'log_files': None, 'name': 'tidy_cherry_6z4lw2ytnm', 'description': None, 'tags': {}, 'properties': {}, 'print_as_yaml': False, 'id': '/subscriptions/7b1b43ca-4b64-43cf-9446-edb35a04d7d1/resourceGroups/amlws01/providers/Microsoft.MachineLearningServices/workspaces/amlwso1/jobs/tidy_cherry_6z4lw2ytnm', 'Resource__source_path': '', 'base_path': '/mnt/batch/tasks/shared/LS_root/mounts/clusters/satyakebakshi951/code/Users/satyakebakshi95', 'creation_context': <azure.ai.ml.entities._system_data.SystemData object at 0x7f9486566230>, 'serialize': <msrest.serialization.Serializer object at 0x7f94865662f0>, 'display_name': 'classification', 'experiment_name': 'pipeline_diabetes', 'compute': None, 'services': {'Tracking': {'endpoint': 'azureml://northcentralus.api.azureml.ms/mlflow/v1.0/subscriptions/7b1b43ca-4b64-43cf-9446-edb35a04d7d1/resourceGroups/amlws01/providers/Microsoft.MachineLearningServices/workspaces/amlwso1?', 'type': 'Tracking'}, 'Studio': {'endpoint': 'https://ml.azure.com/runs/tidy_cherry_6z4lw2ytnm?wsid=/subscriptions/7b1b43ca-4b64-43cf-9446-edb35a04d7d1/resourcegroups/amlws01/workspaces/amlwso1&tid=a287f42c-46eb-424f-ab40-cd784a7b423c', 'type': 'Studio'}}, 'settings': {}, 'identity': None, 'default_code': None, 'default_environment': None})",
            "text/html": "<table style=\"width:100%\"><tr><th>Experiment</th><th>Name</th><th>Type</th><th>Status</th><th>Details Page</th></tr><tr><td>pipeline_diabetes</td><td>tidy_cherry_6z4lw2ytnm</td><td>pipeline</td><td>NotStarted</td><td><a href=\"https://ml.azure.com/runs/tidy_cherry_6z4lw2ytnm?wsid=/subscriptions/7b1b43ca-4b64-43cf-9446-edb35a04d7d1/resourcegroups/amlws01/workspaces/amlwso1&amp;tid=a287f42c-46eb-424f-ab40-cd784a7b423c\" target=\"_blank\" rel=\"noopener\">Link to Azure Machine Learning studio</a></td></tr></table>"
          },
          "metadata": {}
        }
      ],
      "execution_count": 5,
      "metadata": {
        "jupyter": {
          "source_hidden": false,
          "outputs_hidden": false
        },
        "nteract": {
          "transient": {
            "deleting": false
          }
        },
        "gather": {
          "logged": 1722174061968
        }
      }
    },
    {
      "cell_type": "code",
      "source": [
        "##deploy to batch end point\n",
        "\n",
        "from azure.ai.ml.entities import Model\n",
        "from azure.ai.ml.constants import AssetTypes\n",
        "model_name='diabetes-mlflow-v2'\n",
        "model=ml_client.models.create_or_update(\n",
        "    Model(name=model_name, path='./azure-ml-labs/Labs/11/model/', type=AssetTypes.MLFLOW_MODEL)\n",
        ")"
      ],
      "outputs": [],
      "execution_count": 5,
      "metadata": {
        "jupyter": {
          "source_hidden": false,
          "outputs_hidden": false
        },
        "nteract": {
          "transient": {
            "deleting": false
          }
        },
        "gather": {
          "logged": 1722183906171
        },
        "editable": true,
        "run_control": {
          "frozen": false
        }
      }
    },
    {
      "cell_type": "code",
      "source": [
        "model "
      ],
      "outputs": [
        {
          "output_type": "execute_result",
          "execution_count": 8,
          "data": {
            "text/plain": "Model({'job_name': None, 'intellectual_property': None, 'is_anonymous': False, 'auto_increment_version': False, 'auto_delete_setting': None, 'name': 'diabetes-mlflow-v2', 'description': None, 'tags': {}, 'properties': {}, 'print_as_yaml': False, 'id': '/subscriptions/7b1b43ca-4b64-43cf-9446-edb35a04d7d1/resourceGroups/amlws01/providers/Microsoft.MachineLearningServices/workspaces/amlwso1/models/diabetes-mlflow-v2/versions/2', 'Resource__source_path': '', 'base_path': '/mnt/batch/tasks/shared/LS_root/mounts/clusters/satyakebakshi951/code/Users/satyakebakshi95', 'creation_context': <azure.ai.ml.entities._system_data.SystemData object at 0x7fd492c5b280>, 'serialize': <msrest.serialization.Serializer object at 0x7fd492c5b400>, 'version': '2', 'latest_version': None, 'path': 'azureml://subscriptions/7b1b43ca-4b64-43cf-9446-edb35a04d7d1/resourceGroups/amlws01/workspaces/amlwso1/datastores/workspaceblobstore/paths/LocalUpload/98a4ac6810deade4347bac5d438fb4f8/model', 'datastore': None, 'utc_time_created': None, 'flavors': {'python_function': {'env': 'conda.yaml', 'loader_module': 'mlflow.sklearn', 'model_path': 'model.pkl', 'python_version': '3.8.17'}, 'sklearn': {'pickled_model': 'model.pkl', 'serialization_format': 'cloudpickle', 'sklearn_version': '1.3.0'}}, 'arm_type': 'model_version', 'type': 'mlflow_model', 'stage': 'Development'})"
          },
          "metadata": {}
        }
      ],
      "execution_count": 8,
      "metadata": {
        "jupyter": {
          "source_hidden": false,
          "outputs_hidden": false
        },
        "nteract": {
          "transient": {
            "deleting": false
          }
        },
        "gather": {
          "logged": 1722183994583
        }
      }
    },
    {
      "cell_type": "code",
      "source": [
        "\n",
        "model=ml_client.models.get('diabetes-mlflow-lab', version=3)\n",
        "\n",
        "model=ml_client.models.get('diabetes-mlflow-v2', version=1)\n"
      ],
      "outputs": [],
      "execution_count": 17,
      "metadata": {
        "jupyter": {
          "source_hidden": false,
          "outputs_hidden": false
        },
        "nteract": {
          "transient": {
            "deleting": false
          }
        },
        "gather": {
          "logged": 1722203121630
        }
      }
    },
    {
      "cell_type": "code",
      "source": [
        "import datetime \n",
        "endpoint_name='diabletesmlflow-bde1'\n",
        "\n",
        "\n",
        "from azure.ai.ml.entities import BatchEndpoint\n",
        "endpoint=BatchEndpoint(\n",
        "    name=endpoint_name,\n",
        "    description=\"A batch endpoint\"\n",
        ")\n",
        "ml_client.batch_endpoints.begin_create_or_update(endpoint)"
      ],
      "outputs": [
        {
          "output_type": "execute_result",
          "execution_count": 18,
          "data": {
            "text/plain": "<azure.core.polling._poller.LROPoller at 0x7ff21dcaa3e0>"
          },
          "metadata": {}
        }
      ],
      "execution_count": 18,
      "metadata": {
        "jupyter": {
          "source_hidden": false,
          "outputs_hidden": false
        },
        "nteract": {
          "transient": {
            "deleting": false
          }
        },
        "gather": {
          "logged": 1722203125324
        }
      }
    },
    {
      "cell_type": "code",
      "source": [
        "endpoint_name='diabletesmlflow-bde1'\n"
      ],
      "outputs": [],
      "execution_count": 19,
      "metadata": {
        "jupyter": {
          "source_hidden": false,
          "outputs_hidden": false
        },
        "nteract": {
          "transient": {
            "deleting": false
          }
        },
        "gather": {
          "logged": 1722203128772
        }
      }
    },
    {
      "cell_type": "code",
      "source": [
        "from azure.ai.ml.entities import BatchDeployment, BatchRetrySettings\n",
        "from azure.ai.ml.constants import BatchDeploymentOutputAction\n",
        "\n",
        "deployment=BatchDeployment(\n",
        "    name='mlflow-deployed',\n",
        "    description='diabetes_classifier',\n",
        "    endpoint_name=endpoint_name,\n",
        "    model=model,\n",
        "    compute='CE123',\n",
        "    instance_count=1,\n",
        "    mini_batch_size=2,\n",
        "    output_action=BatchDeploymentOutputAction.APPEND_ROW,\n",
        "    output_file_name='predictions.csv',\n",
        "    retry_settings=BatchRetrySettings(max_retries=3, timeout=300),\n",
        "    logging_level=\"info\"\n",
        ")\n",
        "\n",
        "ml_client.batch_deployments.begin_create_or_update(deployment)"
      ],
      "outputs": [
        {
          "output_type": "execute_result",
          "execution_count": 20,
          "data": {
            "text/plain": "<azure.core.polling._poller.LROPoller at 0x7ff21dcaae60>"
          },
          "metadata": {}
        }
      ],
      "execution_count": 20,
      "metadata": {
        "jupyter": {
          "source_hidden": false,
          "outputs_hidden": false
        },
        "nteract": {
          "transient": {
            "deleting": false
          }
        },
        "gather": {
          "logged": 1722203190449
        }
      }
    },
    {
      "cell_type": "code",
      "source": [
        "endpoint.defaults={}\n",
        "\n",
        "endpoint.defaults['deployment_name']=deployment.name \n",
        "ml_client.batch_endpoints.begin_create_or_update(endpoint)"
      ],
      "outputs": [
        {
          "output_type": "execute_result",
          "execution_count": 21,
          "data": {
            "text/plain": "<azure.core.polling._poller.LROPoller at 0x7ff21dcab5e0>"
          },
          "metadata": {}
        }
      ],
      "execution_count": 21,
      "metadata": {
        "jupyter": {
          "source_hidden": false,
          "outputs_hidden": false
        },
        "nteract": {
          "transient": {
            "deleting": false
          }
        },
        "gather": {
          "logged": 1722203239002
        }
      }
    },
    {
      "cell_type": "code",
      "source": [
        "#prepare data for batch predictions\n",
        "from azure.ai.ml.entities import Data \n",
        "from azure.ai.ml.constants import AssetTypes\n",
        "\n",
        "data_path=\"./data/\"\n",
        "dataset_name='patient-unlabelled'\n",
        "patient_dataset=Data(\n",
        "    path=data_path,\n",
        "    type=AssetTypes.URI_FOLDER,\n",
        "    description=\"Unlabelled vectors\",\n",
        "    name=dataset_name\n",
        ")\n",
        "\n",
        "ml_client.data.create_or_update(patient_dataset)"
      ],
      "outputs": [
        {
          "output_type": "execute_result",
          "execution_count": 12,
          "data": {
            "text/plain": "Data({'path': 'azureml://subscriptions/7b1b43ca-4b64-43cf-9446-edb35a04d7d1/resourcegroups/amlws01/workspaces/amlwso1/datastores/workspaceblobstore/paths/LocalUpload/baa3867f8c5adb90166496d33e49305d/data/', 'skip_validation': False, 'mltable_schema_url': None, 'referenced_uris': None, 'type': 'uri_folder', 'is_anonymous': False, 'auto_increment_version': False, 'auto_delete_setting': None, 'name': 'patient-unlabelled', 'description': 'Unlabelled vectors', 'tags': {}, 'properties': {}, 'print_as_yaml': False, 'id': '/subscriptions/7b1b43ca-4b64-43cf-9446-edb35a04d7d1/resourceGroups/amlws01/providers/Microsoft.MachineLearningServices/workspaces/amlwso1/data/patient-unlabelled/versions/7', 'Resource__source_path': '', 'base_path': '/mnt/batch/tasks/shared/LS_root/mounts/clusters/satyakebakshi951/code/Users/satyakebakshi95', 'creation_context': <azure.ai.ml.entities._system_data.SystemData object at 0x7fd492ab54b0>, 'serialize': <msrest.serialization.Serializer object at 0x7fd491f0c6d0>, 'version': '7', 'latest_version': None, 'datastore': None})"
          },
          "metadata": {}
        }
      ],
      "execution_count": 12,
      "metadata": {
        "jupyter": {
          "source_hidden": false,
          "outputs_hidden": false
        },
        "nteract": {
          "transient": {
            "deleting": false
          }
        },
        "gather": {
          "logged": 1722184136442
        }
      }
    },
    {
      "cell_type": "code",
      "source": [
        "patient_data_unlabeled=ml_client.data.get(\n",
        "    name=\"patient-data-unlabeled\", version=1\n",
        ")\n",
        "patient_data_unlabeled=ml_client.data.get(\n",
        "    name=\"patient-unlabelled\", version=7\n",
        ")"
      ],
      "outputs": [],
      "execution_count": 22,
      "metadata": {
        "jupyter": {
          "source_hidden": false,
          "outputs_hidden": false
        },
        "nteract": {
          "transient": {
            "deleting": false
          }
        },
        "gather": {
          "logged": 1722203244276
        }
      }
    },
    {
      "cell_type": "code",
      "source": [
        "#submit the job \n",
        "from azure.ai.ml import Input\n",
        "from azure.ai.ml.constants import AssetTypes\n",
        "\n",
        "\n",
        "input=Input(types=AssetTypes.URI_FOLDER, path=patient_data_unlabeled.id)\n",
        "\n",
        "job=ml_client.batch_endpoints.invoke(\n",
        "    endpoint_name=endpoint.name,\n",
        "    input=input\n",
        ")\n",
        "\n",
        "ml_client.jobs.get(job.name)"
      ],
      "outputs": [
        {
          "output_type": "execute_result",
          "execution_count": 24,
          "data": {
            "text/plain": "PipelineJob({'inputs': {}, 'outputs': {}, 'jobs': {}, 'component': PipelineComponent({'latest_version': None, 'intellectual_property': None, 'auto_increment_version': False, 'source': 'REMOTE.WORKSPACE.JOB', 'is_anonymous': True, 'auto_delete_setting': None, 'name': 'azureml_anonymous', 'description': \"Attempting to create pipeline submission settings for endpoint: 'diabletesmlflow-bde1', deployment: 'mlflow-deployed'.\", 'tags': {}, 'properties': {}, 'print_as_yaml': False, 'id': None, 'Resource__source_path': None, 'base_path': '/mnt/batch/tasks/shared/LS_root/mounts/clusters/ce123/code/Users/satyakebakshi95', 'creation_context': None, 'serialize': <msrest.serialization.Serializer object at 0x7ff21f391ae0>, 'version': '1', 'schema': None, 'type': 'pipeline', 'display_name': 'loving_papaya_5gym54h3', 'is_deterministic': None, 'inputs': {}, 'outputs': {}, 'yaml_str': None, 'other_parameter': {}, 'jobs': {}, 'job_types': {}, 'job_sources': {}, 'source_job_id': None}), 'type': 'pipeline', 'status': 'Preparing', 'log_files': None, 'name': 'batchjob-98992a63-faf7-4462-961a-652ecec7207a', 'description': \"Attempting to create pipeline submission settings for endpoint: 'diabletesmlflow-bde1', deployment: 'mlflow-deployed'.\", 'tags': {'outputType': 'output_data', 'output_data_name': None, 'inputType': 'input_data', 'azureml.batchrun': 'true', 'azureml.deploymentname': 'mlflow-deployed', 'azureml.jobtype': 'azureml.batchjob'}, 'properties': {'azureml.deploymentname': 'mlflow-deployed', 'azureml.endpointname': 'diabletesmlflow-bde1', 'azureml.pipelineid': '09e1aab3-7783-4937-a7f8-a000df8bc464', 'azureml.runsource': 'azureml.PipelineRun', 'runSource': 'Unavailable', 'runType': 'HTTP', 'azureml.parameters': '{\"run_max_try\":\"3\",\"run_invocation_timeout\":\"300\",\"mini_batch_size\":\"2\",\"error_threshold\":\"-1\",\"logging_level\":\"INFO\",\"process_count_per_node\":\"1\",\"NodeCount\":\"1\",\"append_row_file_name\":\"predictions.csv\"}', 'azureml.continue_on_step_failure': 'False', 'azureml.continue_on_failed_optional_input': 'False', 'azureml.pipelineComponent': 'pipelinerun'}, 'print_as_yaml': False, 'id': '/subscriptions/7b1b43ca-4b64-43cf-9446-edb35a04d7d1/resourceGroups/amlws01/providers/Microsoft.MachineLearningServices/workspaces/amlwso1/jobs/batchjob-98992a63-faf7-4462-961a-652ecec7207a', 'Resource__source_path': '', 'base_path': '/mnt/batch/tasks/shared/LS_root/mounts/clusters/ce123/code/Users/satyakebakshi95', 'creation_context': <azure.ai.ml.entities._system_data.SystemData object at 0x7ff21f1da5c0>, 'serialize': <msrest.serialization.Serializer object at 0x7ff21f1da620>, 'display_name': 'loving_papaya_5gym54h3', 'experiment_name': 'diabletesmlflow-bde1', 'compute': None, 'services': {'Tracking': {'endpoint': 'azureml://northcentralus.api.azureml.ms/mlflow/v1.0/subscriptions/7b1b43ca-4b64-43cf-9446-edb35a04d7d1/resourceGroups/amlws01/providers/Microsoft.MachineLearningServices/workspaces/amlwso1?', 'type': 'Tracking'}, 'Studio': {'endpoint': 'https://ml.azure.com/runs/batchjob-98992a63-faf7-4462-961a-652ecec7207a?wsid=/subscriptions/7b1b43ca-4b64-43cf-9446-edb35a04d7d1/resourcegroups/amlws01/workspaces/amlwso1&tid=a287f42c-46eb-424f-ab40-cd784a7b423c', 'type': 'Studio'}}, 'settings': {}, 'identity': None, 'default_code': None, 'default_environment': None})",
            "text/html": "<table style=\"width:100%\"><tr><th>Experiment</th><th>Name</th><th>Type</th><th>Status</th><th>Details Page</th></tr><tr><td>diabletesmlflow-bde1</td><td>batchjob-98992a63-faf7-4462-961a-652ecec7207a</td><td>pipeline</td><td>Preparing</td><td><a href=\"https://ml.azure.com/runs/batchjob-98992a63-faf7-4462-961a-652ecec7207a?wsid=/subscriptions/7b1b43ca-4b64-43cf-9446-edb35a04d7d1/resourcegroups/amlws01/workspaces/amlwso1&amp;tid=a287f42c-46eb-424f-ab40-cd784a7b423c\" target=\"_blank\" rel=\"noopener\">Link to Azure Machine Learning studio</a></td></tr></table>"
          },
          "metadata": {}
        }
      ],
      "execution_count": 24,
      "metadata": {
        "jupyter": {
          "source_hidden": false,
          "outputs_hidden": false
        },
        "nteract": {
          "transient": {
            "deleting": false
          }
        },
        "gather": {
          "logged": 1722203253975
        }
      }
    },
    {
      "cell_type": "code",
      "source": [],
      "outputs": [],
      "execution_count": null,
      "metadata": {
        "jupyter": {
          "source_hidden": false,
          "outputs_hidden": false
        },
        "nteract": {
          "transient": {
            "deleting": false
          }
        }
      }
    },
    {
      "cell_type": "code",
      "source": [
        "\n",
        "#hyperdrive\n",
        "from azure.ai.ml.sweep import Choice\n",
        "\n",
        "command_job_for_sweep=job(\n",
        "    reg_rate=Choice(values=[0.01,0.1,1])\n",
        "\n",
        ")\n",
        "\n",
        "sweep_job=command_job_for_sweep.sweep(\n",
        "    compute='CE123',\n",
        "    sampling_algorithm=\"grid\",\n",
        "    primary_metric=\"Accuracy\",\n",
        "    goal=\"Maximize\",\n",
        ")\n",
        "\n",
        "\n",
        "sweep_job.experiment_name=\"sweep_hypersweep\"\n",
        "sweep_job.set_limits(max_total_trials=4,\n",
        "max_concurrent_trials=2,\n",
        "timeout=7200)\n",
        "\n",
        "ml_client.create_or_update(sweep_job)"
      ],
      "outputs": [
        {
          "output_type": "execute_result",
          "execution_count": 2,
          "data": {
            "text/plain": "SweepJob({'type': 'sweep', 'status': 'Running', 'log_files': None, 'name': 'neat_farm_kkwzzst7kn', 'description': None, 'tags': {'_aml_system_max_concurrent_jobs': '2', '_aml_system_max_total_jobs': '4', '_aml_system_max_duration_minutes': '120', '_aml_system_policy_config': '{\"name\":\"Default\",\"properties\":{}}', '_aml_system_generator_config': '{\"name\":\"GRID\",\"parameter_space\":{\"reg_rate\":[\"choice\",[[0.01,0.1,1]]]},\"properties\":{}}', '_aml_system_primary_metric_config': '{\"name\":\"Accuracy\",\"goal\":\"maximize\"}', '_aml_system_platform_config': '{\"ServiceAddress\":\"https://northcentralus.api.azureml.ms\",\"SubscriptionId\":\"7b1b43ca-4b64-43cf-9446-edb35a04d7d1\",\"ResourceGroupName\":\"amlws01\",\"WorkspaceName\":\"amlwso1\",\"ExperimentName\":\"sweep_hypersweep\",\"Definition\":{\"Configuration\":null,\"Attribution\":null,\"TelemetryValues\":null,\"Overrides\":{\"Script\":null,\"Command\":\"python train.py --regularization ${{search_space.reg_rate}} --training_data ${{inputs.train}}\",\"UseAbsolutePath\":true,\"Arguments\":[],\"SourceDirectoryDataStore\":null,\"Framework\":0,\"Target\":\"CE123\",\"DataReferences\":{},\"Data\":{\"train\":{\"DataLocation\":{\"Dataset\":null,\"DataPath\":null,\"Uri\":{\"Path\":\"/subscriptions/7b1b43ca-4b64-43cf-9446-edb35a04d7d1/resourceGroups/amlws01/providers/Microsoft.MachineLearningServices/workspaces/amlwso1/data/diabetes-data-training/versions/5\",\"IsFile\":true},\"Type\":\"UriFile\"},\"Mechanism\":\"Mount\",\"EnvironmentVariableName\":\"AZURE_ML_INPUT_train\",\"PathOnCompute\":null,\"Overwrite\":false,\"Options\":{\"IsEvalMode\":\"False\",\"ReadWrite\":\"False\",\"ForceFolder\":\"False\"}}},\"InputAssets\":{\"train\":{\"Asset\":{\"AssetId\":\"azureml://locations/northcentralus/workspaces/c175b917-3947-4201-847b-196c4048528c/data/diabetes-data-training/versions/5\",\"Type\":\"UriFile\"},\"Mechanism\":\"Mount\",\"EnvironmentVariableName\":\"AZURE_ML_INPUT_train\",\"PathOnCompute\":null,\"Overwrite\":false,\"Options\":{\"IsEvalMode\":\"False\",\"ReadWrite\":\"False\",\"ForceFolder\":\"False\"}}},\"OutputData\":{},\"Datacaches\":[],\"JobName\":null,\"MaxRunDurationSeconds\":null,\"NodeCount\":1,\"InstanceTypes\":[],\"Priority\":null,\"CredentialPassthrough\":false,\"Identity\":null,\"Environment\":{\"Name\":\"customm-env-scikit\",\"Version\":\"2\",\"AssetId\":\"azureml://locations/northcentralus/workspaces/c175b917-3947-4201-847b-196c4048528c/environments/customm-env-scikit/versions/2\",\"AutoRebuild\":false,\"Python\":{\"InterpreterPath\":null,\"UserManagedDependencies\":false,\"CondaDependencies\":{\"channels\":[\"conda-forge\",\"pytorch\"],\"dependencies\":[\"python=3.9\",{\"pip\":[\"pillow\",\"pandas\",\"mltable\",\"numpy==2.0.1\",\"azure-ai-ml\",\"azureml-mlflow\",\"scikit-learn\"]}],\"name\":\"data-env\"},\"BaseCondaEnvironment\":null},\"EnvironmentVariables\":{},\"Docker\":{\"BaseImage\":\"mcr.microsoft.com/azureml/openmpi4.1.0-ubuntu20.04\",\"Platform\":{\"Os\":\"Linux\",\"Architecture\":\"amd64\"},\"BaseDockerfile\":null,\"BaseImageRegistry\":null},\"Spark\":{\"Repositories\":[],\"Packages\":[],\"PrecachePackages\":true},\"InferencingStackVersion\":null},\"History\":{\"OutputCollection\":true,\"DirectoriesToWatch\":[\"logs\"],\"EnableMLflowTracking\":true},\"Spark\":{\"Configuration\":{}},\"ParallelTask\":{\"MaxRetriesPerWorker\":0,\"WorkerCountPerNode\":1,\"TerminalExitCodes\":null,\"Configuration\":{}},\"BatchAi\":{\"NodeCount\":0},\"AmlCompute\":{\"Name\":null,\"VmSize\":null,\"RetainCluster\":false,\"ClusterMaxNodeCount\":null},\"AISuperComputer\":{\"InstanceType\":\"D2\",\"FrameworkImage\":null,\"ImageVersion\":null,\"Location\":null,\"AISuperComputerStorageData\":null,\"Interactive\":false,\"ScalePolicy\":null,\"VirtualClusterArmId\":null,\"TensorboardLogDirectory\":null,\"SSHPublicKey\":null,\"SSHPublicKeys\":null,\"EnableAzmlInt\":true,\"Priority\":\"Medium\",\"SLATier\":\"Standard\",\"UserAlias\":null},\"KubernetesCompute\":{\"InstanceType\":null},\"Tensorflow\":{\"WorkerCount\":0,\"ParameterServerCount\":0},\"Mpi\":{\"ProcessCountPerNode\":0},\"PyTorch\":{\"CommunicationBackend\":null,\"ProcessCount\":null},\"Hdi\":{\"YarnDeployMode\":0},\"ContainerInstance\":{\"Region\":null,\"CpuCores\":2.0,\"MemoryGb\":3.5},\"ExposedPorts\":null,\"Docker\":{\"UseDocker\":true,\"SharedVolumes\":null,\"ShmSize\":\"2g\",\"Arguments\":null},\"Cmk8sCompute\":{\"Configuration\":{}},\"CommandReturnCodeConfig\":{\"ReturnCode\":0,\"SuccessfulReturnCodes\":[]},\"EnvironmentVariables\":{},\"ApplicationEndpoints\":{},\"Parameters\":[]},\"SnapshotId\":\"ceeb2ba4-0f91-4a9e-8eae-3958b5d6547e\",\"Snapshots\":[],\"SourceCodeDataReference\":null,\"ParentRunId\":null,\"DataContainerId\":null,\"RunType\":null,\"DisplayName\":\"neat_farm_kkwzzst7kn\",\"EnvironmentAssetId\":null,\"Properties\":{},\"Tags\":{},\"AggregatedArtifactPath\":null},\"ParentRunId\":\"neat_farm_kkwzzst7kn\"}', '_aml_system_resume_child_runs': 'null', '_aml_system_all_jobs_generated': 'false', '_aml_system_cancellation_requested': 'false', '_aml_system_samples_generated_count': '0'}, 'properties': {'primary_metric_config': '{\"name\":\"Accuracy\",\"goal\":\"maximize\"}', 'resume_from': 'null', 'runTemplate': 'HyperDrive', 'azureml.runsource': 'hyperdrive', 'platform': 'AML', 'ContentSnapshotId': 'ceeb2ba4-0f91-4a9e-8eae-3958b5d6547e', 'user_agent': 'managementfrontend/a1cc9920d4133d08df40c575047c6bfcc4d0cf5b'}, 'print_as_yaml': False, 'id': '/subscriptions/7b1b43ca-4b64-43cf-9446-edb35a04d7d1/resourceGroups/amlws01/providers/Microsoft.MachineLearningServices/workspaces/amlwso1/jobs/neat_farm_kkwzzst7kn', 'Resource__source_path': '', 'base_path': '/mnt/batch/tasks/shared/LS_root/mounts/clusters/ce123/code/Users/satyakebakshi95', 'creation_context': <azure.ai.ml.entities._system_data.SystemData object at 0x7f4d442895a0>, 'serialize': <msrest.serialization.Serializer object at 0x7f4d44289510>, 'sampling_algorithm': <azure.ai.ml.entities._job.sweep.sampling_algorithm.RandomSamplingAlgorithm object at 0x7f4d4428bcd0>, 'early_termination': None, 'limits': <azure.ai.ml.entities._job.job_limits.SweepJobLimits object at 0x7f4d44289600>, 'search_space': {'reg_rate': <azure.ai.ml.entities._job.sweep.search_space.Choice object at 0x7f4d44289810>}, 'queue_settings': <azure.ai.ml._restclient.v2024_01_01_preview.models._models_py3.QueueSettings object at 0x7f4d44289a50>, 'objective': <azure.ai.ml._restclient.v2024_01_01_preview.models._models_py3.Objective object at 0x7f4d44289cf0>, 'resources': <azure.ai.ml._restclient.v2024_01_01_preview.models._models_py3.JobResourceConfiguration object at 0x7f4d4428b610>, 'display_name': 'neat_farm_kkwzzst7kn', 'experiment_name': 'sweep_hypersweep', 'compute': 'CE123', 'services': {'Studio': <azure.ai.ml._restclient.v2024_01_01_preview.models._models_py3.JobService object at 0x7f4d44289fc0>}, 'inputs': {'train': {'type': 'uri_file', 'path': 'azureml://locations/northcentralus/workspaces/c175b917-3947-4201-847b-196c4048528c/data/diabetes-data-training/versions/5', 'mode': 'ro_mount'}}, 'outputs': {'default': {'type': 'uri_folder', 'path': 'azureml://datastores/workspaceartifactstore/ExperimentRun/dcid.neat_farm_kkwzzst7kn', 'mode': 'rw_mount'}}, 'trial': <azure.ai.ml.entities._job.parameterized_command.ParameterizedCommand object at 0x7f4d4428a410>, 'identity': None})",
            "text/html": "<table style=\"width:100%\"><tr><th>Experiment</th><th>Name</th><th>Type</th><th>Status</th><th>Details Page</th></tr><tr><td>sweep_hypersweep</td><td>neat_farm_kkwzzst7kn</td><td>sweep</td><td>Running</td><td><a href=\"https://ml.azure.com/runs/neat_farm_kkwzzst7kn?wsid=/subscriptions/7b1b43ca-4b64-43cf-9446-edb35a04d7d1/resourcegroups/amlws01/workspaces/amlwso1&amp;tid=a287f42c-46eb-424f-ab40-cd784a7b423c\" target=\"_blank\" rel=\"noopener\">Link to Azure Machine Learning studio</a></td></tr></table>"
          },
          "metadata": {}
        }
      ],
      "execution_count": 2,
      "metadata": {
        "jupyter": {
          "source_hidden": false,
          "outputs_hidden": false
        },
        "nteract": {
          "transient": {
            "deleting": false
          }
        },
        "gather": {
          "logged": 1721661223963
        }
      }
    },
    {
      "cell_type": "code",
      "source": [
        "import mltable \n",
        "data_asset = ml_client.data.get(\"diabetes-data-training-FOLDER\", version=\"1\")\n",
        "path={\n",
        "            'folder': data_asset.path\n",
        "                }\n",
        "\n",
        "tbl=mltable.from_delimited_files(paths=[path])\n",
        "df=tbl.to_pandas_dataframe()"
      ],
      "outputs": [
        {
          "output_type": "stream",
          "name": "stderr",
          "text": "/anaconda/envs/azureml_py310_sdkv2/lib/python3.10/site-packages/azureml/dataprep/api/_dataframereader.py:251: UserWarning: Using alternate reader. Inconsistent or mixed schemas detected across partitions: partition had different number of columns. The first partition has 9 columns. Found partition has 2 columns.\nFirst partition columns (ordered): ['Pregnancies', 'Glucose', 'BloodPressure', 'SkinThickness', 'Insulin', 'BMI', 'DiabetesPedigreeFunction', 'Age', 'Outcome']\nFound Partition has columns (ordered): ['Pregnancies', 'Glucose']\n  warnings.warn(\"Using alternate reader. \" + reason)\n"
        }
      ],
      "execution_count": 4,
      "metadata": {
        "jupyter": {
          "source_hidden": false,
          "outputs_hidden": false
        },
        "nteract": {
          "transient": {
            "deleting": false
          }
        },
        "gather": {
          "logged": 1721652762627
        }
      }
    },
    {
      "cell_type": "code",
      "source": [
        "#creating compute instance sdk\n",
        "from azure.ai.ml.entities import ComputeInstance, AmlCompute\n",
        "ce=ComputeInstance(name='CE123', size=\"STANDARD_DS3_V2\", idle_time_before_shutdown_minutes=60)\n",
        "ml_client.begin_create_or_update(ce).result()"
      ],
      "outputs": [
        {
          "output_type": "error",
          "ename": "KeyboardInterrupt",
          "evalue": "",
          "traceback": [
            "\u001b[0;31m---------------------------------------------------------------------------\u001b[0m",
            "\u001b[0;31mKeyboardInterrupt\u001b[0m                         Traceback (most recent call last)",
            "Cell \u001b[0;32mIn[25], line 4\u001b[0m\n\u001b[1;32m      2\u001b[0m \u001b[38;5;28;01mfrom\u001b[39;00m \u001b[38;5;21;01mazure\u001b[39;00m\u001b[38;5;21;01m.\u001b[39;00m\u001b[38;5;21;01mai\u001b[39;00m\u001b[38;5;21;01m.\u001b[39;00m\u001b[38;5;21;01mml\u001b[39;00m\u001b[38;5;21;01m.\u001b[39;00m\u001b[38;5;21;01mentities\u001b[39;00m \u001b[38;5;28;01mimport\u001b[39;00m ComputeInstance, AmlCompute\n\u001b[1;32m      3\u001b[0m ce\u001b[38;5;241m=\u001b[39mComputeInstance(name\u001b[38;5;241m=\u001b[39m\u001b[38;5;124m'\u001b[39m\u001b[38;5;124mCE123\u001b[39m\u001b[38;5;124m'\u001b[39m, size\u001b[38;5;241m=\u001b[39m\u001b[38;5;124m\"\u001b[39m\u001b[38;5;124mSTANDARD_DS3_V2\u001b[39m\u001b[38;5;124m\"\u001b[39m, idle_time_before_shutdown_minutes\u001b[38;5;241m=\u001b[39m\u001b[38;5;241m60\u001b[39m)\n\u001b[0;32m----> 4\u001b[0m \u001b[43mml_client\u001b[49m\u001b[38;5;241;43m.\u001b[39;49m\u001b[43mbegin_create_or_update\u001b[49m\u001b[43m(\u001b[49m\u001b[43mce\u001b[49m\u001b[43m)\u001b[49m\u001b[38;5;241;43m.\u001b[39;49m\u001b[43mresult\u001b[49m\u001b[43m(\u001b[49m\u001b[43m)\u001b[49m\n",
            "File \u001b[0;32m/anaconda/envs/azureml_py310_sdkv2/lib/python3.10/site-packages/azure/core/polling/_poller.py:251\u001b[0m, in \u001b[0;36mLROPoller.result\u001b[0;34m(self, timeout)\u001b[0m\n\u001b[1;32m    242\u001b[0m \u001b[38;5;28;01mdef\u001b[39;00m \u001b[38;5;21mresult\u001b[39m(\u001b[38;5;28mself\u001b[39m, timeout: Optional[\u001b[38;5;28mfloat\u001b[39m] \u001b[38;5;241m=\u001b[39m \u001b[38;5;28;01mNone\u001b[39;00m) \u001b[38;5;241m-\u001b[39m\u001b[38;5;241m>\u001b[39m PollingReturnType_co:\n\u001b[1;32m    243\u001b[0m \u001b[38;5;250m    \u001b[39m\u001b[38;5;124;03m\"\"\"Return the result of the long running operation, or\u001b[39;00m\n\u001b[1;32m    244\u001b[0m \u001b[38;5;124;03m    the result available after the specified timeout.\u001b[39;00m\n\u001b[1;32m    245\u001b[0m \n\u001b[0;32m   (...)\u001b[0m\n\u001b[1;32m    249\u001b[0m \u001b[38;5;124;03m    :raises ~azure.core.exceptions.HttpResponseError: Server problem with the query.\u001b[39;00m\n\u001b[1;32m    250\u001b[0m \u001b[38;5;124;03m    \"\"\"\u001b[39;00m\n\u001b[0;32m--> 251\u001b[0m     \u001b[38;5;28;43mself\u001b[39;49m\u001b[38;5;241;43m.\u001b[39;49m\u001b[43mwait\u001b[49m\u001b[43m(\u001b[49m\u001b[43mtimeout\u001b[49m\u001b[43m)\u001b[49m\n\u001b[1;32m    252\u001b[0m     \u001b[38;5;28;01mreturn\u001b[39;00m \u001b[38;5;28mself\u001b[39m\u001b[38;5;241m.\u001b[39m_polling_method\u001b[38;5;241m.\u001b[39mresource()\n",
            "File \u001b[0;32m/anaconda/envs/azureml_py310_sdkv2/lib/python3.10/site-packages/azure/core/tracing/decorator.py:94\u001b[0m, in \u001b[0;36mdistributed_trace.<locals>.decorator.<locals>.wrapper_use_tracer\u001b[0;34m(*args, **kwargs)\u001b[0m\n\u001b[1;32m     92\u001b[0m span_impl_type \u001b[38;5;241m=\u001b[39m settings\u001b[38;5;241m.\u001b[39mtracing_implementation()\n\u001b[1;32m     93\u001b[0m \u001b[38;5;28;01mif\u001b[39;00m span_impl_type \u001b[38;5;129;01mis\u001b[39;00m \u001b[38;5;28;01mNone\u001b[39;00m:\n\u001b[0;32m---> 94\u001b[0m     \u001b[38;5;28;01mreturn\u001b[39;00m \u001b[43mfunc\u001b[49m\u001b[43m(\u001b[49m\u001b[38;5;241;43m*\u001b[39;49m\u001b[43margs\u001b[49m\u001b[43m,\u001b[49m\u001b[43m \u001b[49m\u001b[38;5;241;43m*\u001b[39;49m\u001b[38;5;241;43m*\u001b[39;49m\u001b[43mkwargs\u001b[49m\u001b[43m)\u001b[49m\n\u001b[1;32m     96\u001b[0m \u001b[38;5;66;03m# Merge span is parameter is set, but only if no explicit parent are passed\u001b[39;00m\n\u001b[1;32m     97\u001b[0m \u001b[38;5;28;01mif\u001b[39;00m merge_span \u001b[38;5;129;01mand\u001b[39;00m \u001b[38;5;129;01mnot\u001b[39;00m passed_in_parent:\n",
            "File \u001b[0;32m/anaconda/envs/azureml_py310_sdkv2/lib/python3.10/site-packages/azure/core/polling/_poller.py:266\u001b[0m, in \u001b[0;36mLROPoller.wait\u001b[0;34m(self, timeout)\u001b[0m\n\u001b[1;32m    264\u001b[0m \u001b[38;5;28;01mif\u001b[39;00m \u001b[38;5;28mself\u001b[39m\u001b[38;5;241m.\u001b[39m_thread \u001b[38;5;129;01mis\u001b[39;00m \u001b[38;5;28;01mNone\u001b[39;00m:\n\u001b[1;32m    265\u001b[0m     \u001b[38;5;28;01mreturn\u001b[39;00m\n\u001b[0;32m--> 266\u001b[0m \u001b[38;5;28;43mself\u001b[39;49m\u001b[38;5;241;43m.\u001b[39;49m\u001b[43m_thread\u001b[49m\u001b[38;5;241;43m.\u001b[39;49m\u001b[43mjoin\u001b[49m\u001b[43m(\u001b[49m\u001b[43mtimeout\u001b[49m\u001b[38;5;241;43m=\u001b[39;49m\u001b[43mtimeout\u001b[49m\u001b[43m)\u001b[49m\n\u001b[1;32m    267\u001b[0m \u001b[38;5;28;01mtry\u001b[39;00m:\n\u001b[1;32m    268\u001b[0m     \u001b[38;5;66;03m# Let's handle possible None in forgiveness here\u001b[39;00m\n\u001b[1;32m    269\u001b[0m     \u001b[38;5;66;03m# https://github.com/python/mypy/issues/8165\u001b[39;00m\n\u001b[1;32m    270\u001b[0m     \u001b[38;5;28;01mraise\u001b[39;00m \u001b[38;5;28mself\u001b[39m\u001b[38;5;241m.\u001b[39m_exception  \u001b[38;5;66;03m# type: ignore\u001b[39;00m\n",
            "File \u001b[0;32m/anaconda/envs/azureml_py310_sdkv2/lib/python3.10/threading.py:1096\u001b[0m, in \u001b[0;36mThread.join\u001b[0;34m(self, timeout)\u001b[0m\n\u001b[1;32m   1093\u001b[0m     \u001b[38;5;28;01mraise\u001b[39;00m \u001b[38;5;167;01mRuntimeError\u001b[39;00m(\u001b[38;5;124m\"\u001b[39m\u001b[38;5;124mcannot join current thread\u001b[39m\u001b[38;5;124m\"\u001b[39m)\n\u001b[1;32m   1095\u001b[0m \u001b[38;5;28;01mif\u001b[39;00m timeout \u001b[38;5;129;01mis\u001b[39;00m \u001b[38;5;28;01mNone\u001b[39;00m:\n\u001b[0;32m-> 1096\u001b[0m     \u001b[38;5;28;43mself\u001b[39;49m\u001b[38;5;241;43m.\u001b[39;49m\u001b[43m_wait_for_tstate_lock\u001b[49m\u001b[43m(\u001b[49m\u001b[43m)\u001b[49m\n\u001b[1;32m   1097\u001b[0m \u001b[38;5;28;01melse\u001b[39;00m:\n\u001b[1;32m   1098\u001b[0m     \u001b[38;5;66;03m# the behavior of a negative timeout isn't documented, but\u001b[39;00m\n\u001b[1;32m   1099\u001b[0m     \u001b[38;5;66;03m# historically .join(timeout=x) for x<0 has acted as if timeout=0\u001b[39;00m\n\u001b[1;32m   1100\u001b[0m     \u001b[38;5;28mself\u001b[39m\u001b[38;5;241m.\u001b[39m_wait_for_tstate_lock(timeout\u001b[38;5;241m=\u001b[39m\u001b[38;5;28mmax\u001b[39m(timeout, \u001b[38;5;241m0\u001b[39m))\n",
            "File \u001b[0;32m/anaconda/envs/azureml_py310_sdkv2/lib/python3.10/threading.py:1116\u001b[0m, in \u001b[0;36mThread._wait_for_tstate_lock\u001b[0;34m(self, block, timeout)\u001b[0m\n\u001b[1;32m   1113\u001b[0m     \u001b[38;5;28;01mreturn\u001b[39;00m\n\u001b[1;32m   1115\u001b[0m \u001b[38;5;28;01mtry\u001b[39;00m:\n\u001b[0;32m-> 1116\u001b[0m     \u001b[38;5;28;01mif\u001b[39;00m \u001b[43mlock\u001b[49m\u001b[38;5;241;43m.\u001b[39;49m\u001b[43macquire\u001b[49m\u001b[43m(\u001b[49m\u001b[43mblock\u001b[49m\u001b[43m,\u001b[49m\u001b[43m \u001b[49m\u001b[43mtimeout\u001b[49m\u001b[43m)\u001b[49m:\n\u001b[1;32m   1117\u001b[0m         lock\u001b[38;5;241m.\u001b[39mrelease()\n\u001b[1;32m   1118\u001b[0m         \u001b[38;5;28mself\u001b[39m\u001b[38;5;241m.\u001b[39m_stop()\n",
            "\u001b[0;31mKeyboardInterrupt\u001b[0m: "
          ]
        }
      ],
      "execution_count": 25,
      "metadata": {
        "jupyter": {
          "source_hidden": false,
          "outputs_hidden": true
        },
        "nteract": {
          "transient": {
            "deleting": false
          }
        },
        "gather": {
          "logged": 1721595502659
        }
      }
    },
    {
      "cell_type": "code",
      "source": [
        "from azure.ai.ml import command \n",
        "from azure.ai.ml import MLClient\n",
        "from azure.identity import DefaultAzureCredential, InteractiveBrowserCredential\n",
        "ws_config={\n",
        "    \"subscription_id\": \"7b1b43ca-4b64-43cf-9446-edb35a04d7d1\",\n",
        "    \"resource_group\": \"amlws01\",\n",
        "    \"workspace_name\": \"amlwso1\"\n",
        "}\n",
        "\n",
        "ml_client=MLClient( DefaultAzureCredential(),\n",
        "                   ws_config['subscription_id'],\n",
        "                   ws_config['resource_group'],\n",
        "                   ws_config[\"workspace_name\"])\n",
        "\n",
        "\n",
        "job=command(\n",
        "    code=\"./\",\n",
        "    command=\"python train.py --regularization ${{inputs.reg_rate}}\",\n",
        "    inputs={\n",
        "        \"reg_rate\":0.01,\n",
        "    },\n",
        "    environment='customm-env-scikit:2',\n",
        "    compute='CE123'\n",
        ")\n",
        "\n",
        "submitted_job=ml_client.create_or_update(job)\n",
        "print(submitted_job.studio_url)"
      ],
      "outputs": [
        {
          "output_type": "stream",
          "name": "stderr",
          "text": "\r\u001b[32mUploading satyakebakshi95 (0.07 MBs):   0%|          | 0/67949 [00:00<?, ?it/s]\r\u001b[32mUploading satyakebakshi95 (0.07 MBs): 100%|██████████| 67949/67949 [00:00<00:00, 773837.03it/s]\n\u001b[39m\n\n"
        },
        {
          "output_type": "stream",
          "name": "stdout",
          "text": "https://ml.azure.com/runs/lemon_spade_1zdvcf23hr?wsid=/subscriptions/7b1b43ca-4b64-43cf-9446-edb35a04d7d1/resourcegroups/amlws01/workspaces/amlwso1&tid=a287f42c-46eb-424f-ab40-cd784a7b423c\n"
        }
      ],
      "execution_count": 10,
      "metadata": {
        "jupyter": {
          "source_hidden": false,
          "outputs_hidden": false
        },
        "nteract": {
          "transient": {
            "deleting": false
          }
        },
        "gather": {
          "logged": 1721653768901
        }
      }
    },
    {
      "cell_type": "code",
      "source": [
        "%%writefile env.yaml\n",
        "name: data-env     \n",
        "channels:\n",
        "- conda-forge \n",
        "- pytorch \n",
        "dependencies:\n",
        "- python=3.9\n",
        "- pip:\n",
        "    - pillow\n",
        "    - pandas\n",
        "    - mltable\n",
        "    - numpy==1.26.2\n",
        "    - azure-ai-ml\n",
        "    - azureml-mlflow\n",
        "    - scikit-learn\n",
        "\n",
        "\n",
        " "
      ],
      "outputs": [
        {
          "output_type": "stream",
          "name": "stdout",
          "text": "Overwriting env.yaml\n"
        }
      ],
      "execution_count": 21,
      "metadata": {
        "jupyter": {
          "source_hidden": false,
          "outputs_hidden": false
        },
        "nteract": {
          "transient": {
            "deleting": false
          }
        }
      }
    },
    {
      "cell_type": "code",
      "source": [
        "from azure.ai.ml.entities import Environment\n",
        "env_yml=Environment(\n",
        "    name='customm-env-scikit',\n",
        "    image=\"mcr.microsoft.com/azureml/openmpi4.1.0-ubuntu20.04\",\n",
        "    conda_file=\"env.yaml\"\n",
        "\n",
        ")\n",
        "\n",
        "ml_client.environments.create_or_update(env_yml)"
      ],
      "outputs": [
        {
          "output_type": "execute_result",
          "execution_count": 12,
          "data": {
            "text/plain": "Environment({'arm_type': 'environment_version', 'latest_version': None, 'image': 'mcr.microsoft.com/azureml/openmpi4.1.0-ubuntu20.04', 'intellectual_property': None, 'is_anonymous': False, 'auto_increment_version': False, 'auto_delete_setting': None, 'name': 'customm-env-scikit', 'description': None, 'tags': {}, 'properties': {'azureml.labels': 'latest'}, 'print_as_yaml': False, 'id': '/subscriptions/7b1b43ca-4b64-43cf-9446-edb35a04d7d1/resourceGroups/amlws01/providers/Microsoft.MachineLearningServices/workspaces/amlwso1/environments/customm-env-scikit/versions/3', 'Resource__source_path': '', 'base_path': '/mnt/batch/tasks/shared/LS_root/mounts/clusters/ce123/code/Users/satyakebakshi95', 'creation_context': <azure.ai.ml.entities._system_data.SystemData object at 0x7fd6e9d9a830>, 'serialize': <msrest.serialization.Serializer object at 0x7fd6e9d9bdc0>, 'version': '3', 'conda_file': {'channels': ['conda-forge', 'pytorch'], 'dependencies': ['python=3.9', {'pip': ['pillow', 'pandas', 'mltable', 'numpy==1.26.2', 'azure-ai-ml', 'azureml-mlflow', 'scikit-learn']}], 'name': 'data-env'}, 'build': None, 'inference_config': None, 'os_type': 'Linux', 'conda_file_path': None, 'path': None, 'datastore': None, 'upload_hash': None, 'translated_conda_file': '{\\n  \"channels\": [\\n    \"conda-forge\",\\n    \"pytorch\"\\n  ],\\n  \"dependencies\": [\\n    \"python=3.9\",\\n    {\\n      \"pip\": [\\n        \"pillow\",\\n        \"pandas\",\\n        \"mltable\",\\n        \"numpy==1.26.2\",\\n        \"azure-ai-ml\",\\n        \"azureml-mlflow\",\\n        \"scikit-learn\"\\n      ]\\n    }\\n  ],\\n  \"name\": \"data-env\"\\n}'})"
          },
          "metadata": {}
        }
      ],
      "execution_count": 12,
      "metadata": {
        "jupyter": {
          "source_hidden": false,
          "outputs_hidden": false
        },
        "nteract": {
          "transient": {
            "deleting": false
          }
        },
        "gather": {
          "logged": 1721654063950
        }
      }
    },
    {
      "cell_type": "code",
      "source": [
        "data_asset = ml_client.data.get(\"diabetes-data-training-FOLDER\", version=\"1\")\n",
        "print(data_asset.path)"
      ],
      "outputs": [
        {
          "output_type": "stream",
          "name": "stdout",
          "text": "azureml://subscriptions/7b1b43ca-4b64-43cf-9446-edb35a04d7d1/resourcegroups/amlws01/workspaces/amlwso1/datastores/blob_datastore_sdk/paths/\n"
        }
      ],
      "execution_count": 4,
      "metadata": {
        "jupyter": {
          "source_hidden": false,
          "outputs_hidden": false
        },
        "nteract": {
          "transient": {
            "deleting": false
          }
        },
        "gather": {
          "logged": 1721577601660
        }
      }
    },
    {
      "cell_type": "code",
      "source": [
        "path = {\n",
        "  'folder': data_asset.path\n",
        "}\n",
        "\n",
        "print(path)"
      ],
      "outputs": [
        {
          "output_type": "stream",
          "name": "stdout",
          "text": "{'folder': 'azureml://subscriptions/7b1b43ca-4b64-43cf-9446-edb35a04d7d1/resourcegroups/amlws01/workspaces/amlwso1/datastores/blob_datastore_sdk/paths/'}\n"
        }
      ],
      "execution_count": 5,
      "metadata": {
        "jupyter": {
          "source_hidden": false,
          "outputs_hidden": false
        },
        "nteract": {
          "transient": {
            "deleting": false
          }
        },
        "gather": {
          "logged": 1721577604225
        }
      }
    },
    {
      "cell_type": "code",
      "source": [
        "import mltable\n",
        "tbl = mltable.from_delimited_files(paths=[path])\n",
        "df = tbl.to_pandas_dataframe()\n",
        "y=df.iloc[::-1].values\n",
        "print(y)"
      ],
      "outputs": [
        {
          "output_type": "stream",
          "name": "stdout",
          "text": "[[1.0 93.0 70.0 31.0 0.0 30.4 0.315 23.0 False]]\n"
        }
      ],
      "execution_count": 12,
      "metadata": {
        "jupyter": {
          "source_hidden": false,
          "outputs_hidden": false
        },
        "nteract": {
          "transient": {
            "deleting": false
          }
        },
        "gather": {
          "logged": 1721577708172
        }
      }
    },
    {
      "cell_type": "code",
      "source": [
        "%%writefile env.yaml\n",
        "name: data-env     \n",
        "channels:\n",
        "- conda-forge \n",
        "- pytorch \n",
        "dependencies:\n",
        "- python=3.9\n",
        "- pip:\n",
        "    - pillow\n",
        " "
      ],
      "outputs": [
        {
          "output_type": "stream",
          "name": "stdout",
          "text": "Writing env.yaml\n"
        }
      ],
      "execution_count": 13,
      "metadata": {
        "jupyter": {
          "source_hidden": false,
          "outputs_hidden": false
        },
        "nteract": {
          "transient": {
            "deleting": false
          }
        }
      }
    },
    {
      "cell_type": "code",
      "source": [
        "#creating envs\n",
        "from azure.ai.ml.entities import Environment, BuildContext\n",
        "envs=ml_client.environments.list()\n",
        "#for env in envs:\n",
        "#    print(env.name)"
      ],
      "outputs": [],
      "execution_count": 16,
      "metadata": {
        "jupyter": {
          "source_hidden": false,
          "outputs_hidden": false
        },
        "nteract": {
          "transient": {
            "deleting": false
          }
        },
        "gather": {
          "logged": 1721396382258
        }
      }
    },
    {
      "cell_type": "code",
      "source": [
        "env=Environment(\n",
        "    name='env-yaml',\n",
        "    image='mcr.microsoft.com/azureml/curated/responsibleai-ubuntu20.04-py38-cpu:55',\n",
        "    conda_file='env.yaml',\n",
        "    description='custom_environment'\n",
        ")\n",
        "\n",
        "ml_client.environments.create_or_update(env)"
      ],
      "outputs": [
        {
          "output_type": "execute_result",
          "execution_count": 19,
          "data": {
            "text/plain": "Environment({'arm_type': 'environment_version', 'latest_version': None, 'image': 'mcr.microsoft.com/azureml/curated/sklearn-1.5:1', 'intellectual_property': None, 'is_anonymous': False, 'auto_increment_version': False, 'auto_delete_setting': None, 'name': 'env-yaml', 'description': 'custom_environment', 'tags': {}, 'properties': {'azureml.labels': 'latest'}, 'print_as_yaml': False, 'id': '/subscriptions/7b1b43ca-4b64-43cf-9446-edb35a04d7d1/resourceGroups/amlws01/providers/Microsoft.MachineLearningServices/workspaces/amlwso1/environments/env-yaml/versions/1', 'Resource__source_path': '', 'base_path': '/mnt/batch/tasks/shared/LS_root/mounts/clusters/satyakebakshi951/code/Users/satyakebakshi95', 'creation_context': <azure.ai.ml.entities._system_data.SystemData object at 0x7f1820725ba0>, 'serialize': <msrest.serialization.Serializer object at 0x7f17f880a770>, 'version': '1', 'conda_file': {'channels': ['conda-forge', 'pytorch'], 'dependencies': ['python=3.9', {'pip': ['pillow']}], 'name': 'data-env'}, 'build': None, 'inference_config': None, 'os_type': 'Linux', 'conda_file_path': None, 'path': None, 'datastore': None, 'upload_hash': None, 'translated_conda_file': '{\\n  \"channels\": [\\n    \"conda-forge\",\\n    \"pytorch\"\\n  ],\\n  \"dependencies\": [\\n    \"python=3.9\",\\n    {\\n      \"pip\": [\\n        \"pillow\"\\n      ]\\n    }\\n  ],\\n  \"name\": \"data-env\"\\n}'})"
          },
          "metadata": {}
        }
      ],
      "execution_count": 19,
      "metadata": {
        "jupyter": {
          "source_hidden": false,
          "outputs_hidden": false
        },
        "nteract": {
          "transient": {
            "deleting": false
          }
        },
        "gather": {
          "logged": 1721396543665
        }
      }
    },
    {
      "cell_type": "code",
      "source": [
        "#creating compute instance sdk\n",
        "from azure.ai.ml.entities import ComputeInstance, AmlCompute\n",
        "ce=ComputeInstance(name='CE123', size=\"STANDARD_DS3_V2\")\n",
        "ml_client.begin_create_or_update(ce).result()"
      ],
      "outputs": [
        {
          "output_type": "execute_result",
          "execution_count": 5,
          "data": {
            "text/plain": "ComputeInstance({'state': 'Running', 'last_operation': {'operation_name': 'Create', 'operation_time': '2024-07-20T15:12:07.438Z', 'operation_status': 'Succeeded', 'operation_trigger': 'User'}, 'os_image_metadata': <azure.ai.ml.entities._compute._image_metadata.ImageMetadata object at 0x7f756d016c20>, 'services': [{'display_name': 'Jupyter', 'endpoint_uri': 'https://ce123.northcentralus.instances.azureml.ms/tree/'}, {'display_name': 'Jupyter Lab', 'endpoint_uri': 'https://ce123.northcentralus.instances.azureml.ms/lab'}], 'type': 'computeinstance', 'created_on': '2024-07-20T15:11:58.677027+0000', 'provisioning_state': 'Succeeded', 'provisioning_errors': None, 'name': 'CE123', 'description': None, 'tags': None, 'properties': {}, 'print_as_yaml': False, 'id': '/subscriptions/7b1b43ca-4b64-43cf-9446-edb35a04d7d1/resourceGroups/amlws01/providers/Microsoft.MachineLearningServices/workspaces/amlwso1/computes/CE123', 'Resource__source_path': '', 'base_path': '/mnt/batch/tasks/shared/LS_root/mounts/clusters/satyakebakshi951/code/Users/satyakebakshi95', 'creation_context': None, 'serialize': <msrest.serialization.Serializer object at 0x7f756d015510>, 'resource_id': None, 'location': 'northcentralus', 'size': 'STANDARD_DS3_V2', 'ssh_public_access_enabled': False, 'create_on_behalf_of': None, 'network_settings': <azure.ai.ml.entities._compute.compute.NetworkSettings object at 0x7f756d0155d0>, 'ssh_settings': <azure.ai.ml.entities._compute.compute_instance.ComputeInstanceSshSettings object at 0x7f756d014d60>, 'schedules': None, 'identity': None, 'idle_time_before_shutdown': None, 'idle_time_before_shutdown_minutes': None, 'setup_scripts': None, 'enable_node_public_ip': True, 'enable_sso': True, 'enable_root_access': True, 'release_quota_on_stop': False, 'enable_os_patching': False, 'custom_applications': None, 'subnet': None})"
          },
          "metadata": {}
        }
      ],
      "execution_count": 5,
      "metadata": {
        "jupyter": {
          "source_hidden": false,
          "outputs_hidden": false
        },
        "nteract": {
          "transient": {
            "deleting": false
          }
        },
        "gather": {
          "logged": 1721660850854
        }
      }
    },
    {
      "cell_type": "code",
      "source": [
        "account_key='MrD/+eRfe+D3jTEyGvAJrZ898ank+jZKBUacIvINoacNAcsI/V0XQUWKOvJ0sMEPKUvrcjUBKcvQ+AStZCNerQ=='\n",
        "spark.conf.set(\n",
        "    \"fs.azure.account.key.amlwso10632087199 .dfs.core.windows.net\", account_key)\n"
      ],
      "outputs": [
        {
          "output_type": "display_data",
          "data": {
            "application/vnd.livy.statement-meta+json": {
              "spark_pool": "sparker",
              "statement_id": 13,
              "statement_ids": [
                13
              ],
              "livy_statement_state": "available",
              "spark_jobs": {
                "numbers": {
                  "SUCCEEDED": 0,
                  "RUNNING": 0,
                  "UNKNOWN": 0,
                  "FAILED": 0
                },
                "jobs": [],
                "limit": 20,
                "rule": "ALL_DESC"
              },
              "session_id": "0",
              "state": "finished",
              "normalized_state": "finished",
              "queued_time": "2024-07-20T21:57:42.2125425Z",
              "session_start_time": null,
              "execution_start_time": "2024-07-20T21:57:42.4140464Z",
              "execution_finish_time": "2024-07-20T21:57:42.8368803Z",
              "parent_msg_id": "6ec40c37-4112-46aa-b415-7193831bdf5e"
            },
            "text/plain": "StatementMeta(sparker, 0, 13, Finished, Available, Finished)"
          },
          "metadata": {}
        }
      ],
      "execution_count": 8,
      "metadata": {
        "jupyter": {
          "source_hidden": false,
          "outputs_hidden": false
        },
        "nteract": {
          "transient": {
            "deleting": false
          }
        },
        "gather": {
          "logged": 1721512662955
        }
      }
    },
    {
      "cell_type": "code",
      "source": [
        "import pyspark.pandas as pd\n",
        "df=pd.read_csv('abfss://data@amlwso10632087199.dfs.core.windows.net/diabetes.csv', index_col='PatientID')"
      ],
      "outputs": [
        {
          "output_type": "display_data",
          "data": {
            "application/vnd.livy.statement-meta+json": {
              "spark_pool": "sparker",
              "statement_id": 14,
              "statement_ids": [
                14
              ],
              "livy_statement_state": "available",
              "spark_jobs": {
                "numbers": {
                  "SUCCEEDED": 0,
                  "RUNNING": 0,
                  "UNKNOWN": 0,
                  "FAILED": 0
                },
                "jobs": [],
                "limit": 20,
                "rule": "ALL_DESC"
              },
              "session_id": "0",
              "state": "finished",
              "normalized_state": "finished",
              "queued_time": "2024-07-20T21:57:47.9496081Z",
              "session_start_time": null,
              "execution_start_time": "2024-07-20T21:57:48.1142787Z",
              "execution_finish_time": "2024-07-20T21:57:49.2075364Z",
              "parent_msg_id": "12c72a94-e181-451e-94e7-758fdfed419e"
            },
            "text/plain": "StatementMeta(sparker, 0, 14, Finished, Available, Finished)"
          },
          "metadata": {}
        },
        {
          "output_type": "error",
          "ename": "Py4JJavaError",
          "evalue": "An error occurred while calling o5865.csv.\n: java.nio.file.AccessDeniedException: Operation failed: \"This request is not authorized to perform this operation using this permission.\", 403, HEAD, https://amlwso10632087199.dfs.core.windows.net/data/diabetes.csv?upn=false&action=getStatus&timeout=90\n\tat org.apache.hadoop.fs.azurebfs.AzureBlobFileSystem.checkException(AzureBlobFileSystem.java:1443)\n\tat org.apache.hadoop.fs.azurebfs.AzureBlobFileSystem.getFileStatus(AzureBlobFileSystem.java:652)\n\tat org.apache.hadoop.fs.azurebfs.AzureBlobFileSystem.getFileStatus(AzureBlobFileSystem.java:640)\n\tat org.apache.hadoop.fs.FileSystem.exists(FileSystem.java:1760)\n\tat org.apache.hadoop.fs.azurebfs.AzureBlobFileSystem.exists(AzureBlobFileSystem.java:1236)\n\tat org.apache.spark.sql.execution.datasources.DataSource$.$anonfun$checkAndGlobPathIfNecessary$4(DataSource.scala:757)\n\tat org.apache.spark.sql.execution.datasources.DataSource$.$anonfun$checkAndGlobPathIfNecessary$4$adapted(DataSource.scala:755)\n\tat org.apache.spark.util.ThreadUtils$.$anonfun$parmap$2(ThreadUtils.scala:393)\n\tat scala.concurrent.Future$.$anonfun$apply$1(Future.scala:659)\n\tat scala.util.Success.$anonfun$map$1(Try.scala:255)\n\tat scala.util.Success.map(Try.scala:213)\n\tat scala.concurrent.Future.$anonfun$map$1(Future.scala:292)\n\tat scala.concurrent.impl.Promise.liftedTree1$1(Promise.scala:33)\n\tat scala.concurrent.impl.Promise.$anonfun$transform$1(Promise.scala:33)\n\tat scala.concurrent.impl.CallbackRunnable.run(Promise.scala:64)\n\tat java.base/java.util.concurrent.ForkJoinTask$RunnableExecuteAction.exec(ForkJoinTask.java:1426)\n\tat java.base/java.util.concurrent.ForkJoinTask.doExec(ForkJoinTask.java:290)\n\tat java.base/java.util.concurrent.ForkJoinPool$WorkQueue.topLevelExec(ForkJoinPool.java:1020)\n\tat java.base/java.util.concurrent.ForkJoinPool.scan(ForkJoinPool.java:1656)\n\tat java.base/java.util.concurrent.ForkJoinPool.runWorker(ForkJoinPool.java:1594)\n\tat java.base/java.util.concurrent.ForkJoinWorkerThread.run(ForkJoinWorkerThread.java:183)\nCaused by: Operation failed: \"This request is not authorized to perform this operation using this permission.\", 403, HEAD, https://amlwso10632087199.dfs.core.windows.net/data/diabetes.csv?upn=false&action=getStatus&timeout=90\n\tat org.apache.hadoop.fs.azurebfs.services.AbfsRestOperation.completeExecute(AbfsRestOperation.java:231)\n\tat org.apache.hadoop.fs.azurebfs.services.AbfsRestOperation.lambda$execute$0(AbfsRestOperation.java:191)\n\tat org.apache.hadoop.fs.statistics.impl.IOStatisticsBinding.trackDurationOfInvocation(IOStatisticsBinding.java:464)\n\tat org.apache.hadoop.fs.azurebfs.services.AbfsRestOperation.execute(AbfsRestOperation.java:189)\n\tat org.apache.hadoop.fs.azurebfs.services.AbfsClient.getPathStatus(AbfsClient.java:690)\n\tat org.apache.hadoop.fs.azurebfs.AzureBlobFileSystemStore.getFileStatus(AzureBlobFileSystemStore.java:1053)\n\tat org.apache.hadoop.fs.azurebfs.AzureBlobFileSystem.getFileStatus(AzureBlobFileSystem.java:650)\n\t... 19 more\n",
          "traceback": [
            "\u001b[0;31m---------------------------------------------------------------------------\u001b[0m",
            "\u001b[0;31mPy4JJavaError\u001b[0m                             Traceback (most recent call last)",
            "Cell \u001b[0;32mIn[27], line 2\u001b[0m\n\u001b[1;32m      1\u001b[0m \u001b[38;5;28;01mimport\u001b[39;00m \u001b[38;5;21;01mpyspark\u001b[39;00m\u001b[38;5;21;01m.\u001b[39;00m\u001b[38;5;21;01mpandas\u001b[39;00m \u001b[38;5;28;01mas\u001b[39;00m \u001b[38;5;21;01mpd\u001b[39;00m\n\u001b[0;32m----> 2\u001b[0m df\u001b[38;5;241m=\u001b[39m\u001b[43mpd\u001b[49m\u001b[38;5;241;43m.\u001b[39;49m\u001b[43mread_csv\u001b[49m\u001b[43m(\u001b[49m\u001b[38;5;124;43m'\u001b[39;49m\u001b[38;5;124;43mabfss://data@amlwso10632087199.dfs.core.windows.net/diabetes.csv\u001b[39;49m\u001b[38;5;124;43m'\u001b[39;49m\u001b[43m,\u001b[49m\u001b[43m \u001b[49m\u001b[43mindex_col\u001b[49m\u001b[38;5;241;43m=\u001b[39;49m\u001b[38;5;124;43m'\u001b[39;49m\u001b[38;5;124;43mPatientID\u001b[39;49m\u001b[38;5;124;43m'\u001b[39;49m\u001b[43m)\u001b[49m\n",
            "File \u001b[0;32m/opt/spark/python/lib/pyspark.zip/pyspark/pandas/namespace.py:358\u001b[0m, in \u001b[0;36mread_csv\u001b[0;34m(path, sep, header, names, index_col, usecols, squeeze, mangle_dupe_cols, dtype, nrows, parse_dates, quotechar, escapechar, comment, encoding, **options)\u001b[0m\n\u001b[1;32m    356\u001b[0m     column_labels \u001b[38;5;241m=\u001b[39m {col: col \u001b[38;5;28;01mfor\u001b[39;00m col \u001b[38;5;129;01min\u001b[39;00m sdf\u001b[38;5;241m.\u001b[39mcolumns}\n\u001b[1;32m    357\u001b[0m \u001b[38;5;28;01melse\u001b[39;00m:\n\u001b[0;32m--> 358\u001b[0m     sdf \u001b[38;5;241m=\u001b[39m \u001b[43mreader\u001b[49m\u001b[38;5;241;43m.\u001b[39;49m\u001b[43mcsv\u001b[49m\u001b[43m(\u001b[49m\u001b[43mpath\u001b[49m\u001b[43m)\u001b[49m\n\u001b[1;32m    359\u001b[0m     \u001b[38;5;28;01mif\u001b[39;00m is_list_like(names):\n\u001b[1;32m    360\u001b[0m         names \u001b[38;5;241m=\u001b[39m \u001b[38;5;28mlist\u001b[39m(names)\n",
            "File \u001b[0;32m/opt/spark/python/lib/pyspark.zip/pyspark/sql/readwriter.py:727\u001b[0m, in \u001b[0;36mDataFrameReader.csv\u001b[0;34m(self, path, schema, sep, encoding, quote, escape, comment, header, inferSchema, ignoreLeadingWhiteSpace, ignoreTrailingWhiteSpace, nullValue, nanValue, positiveInf, negativeInf, dateFormat, timestampFormat, maxColumns, maxCharsPerColumn, maxMalformedLogPerPartition, mode, columnNameOfCorruptRecord, multiLine, charToEscapeQuoteEscaping, samplingRatio, enforceSchema, emptyValue, locale, lineSep, pathGlobFilter, recursiveFileLookup, modifiedBefore, modifiedAfter, unescapedQuoteHandling)\u001b[0m\n\u001b[1;32m    725\u001b[0m \u001b[38;5;28;01mif\u001b[39;00m \u001b[38;5;28mtype\u001b[39m(path) \u001b[38;5;241m==\u001b[39m \u001b[38;5;28mlist\u001b[39m:\n\u001b[1;32m    726\u001b[0m     \u001b[38;5;28;01massert\u001b[39;00m \u001b[38;5;28mself\u001b[39m\u001b[38;5;241m.\u001b[39m_spark\u001b[38;5;241m.\u001b[39m_sc\u001b[38;5;241m.\u001b[39m_jvm \u001b[38;5;129;01mis\u001b[39;00m \u001b[38;5;129;01mnot\u001b[39;00m \u001b[38;5;28;01mNone\u001b[39;00m\n\u001b[0;32m--> 727\u001b[0m     \u001b[38;5;28;01mreturn\u001b[39;00m \u001b[38;5;28mself\u001b[39m\u001b[38;5;241m.\u001b[39m_df(\u001b[38;5;28;43mself\u001b[39;49m\u001b[38;5;241;43m.\u001b[39;49m\u001b[43m_jreader\u001b[49m\u001b[38;5;241;43m.\u001b[39;49m\u001b[43mcsv\u001b[49m\u001b[43m(\u001b[49m\u001b[38;5;28;43mself\u001b[39;49m\u001b[38;5;241;43m.\u001b[39;49m\u001b[43m_spark\u001b[49m\u001b[38;5;241;43m.\u001b[39;49m\u001b[43m_sc\u001b[49m\u001b[38;5;241;43m.\u001b[39;49m\u001b[43m_jvm\u001b[49m\u001b[38;5;241;43m.\u001b[39;49m\u001b[43mPythonUtils\u001b[49m\u001b[38;5;241;43m.\u001b[39;49m\u001b[43mtoSeq\u001b[49m\u001b[43m(\u001b[49m\u001b[43mpath\u001b[49m\u001b[43m)\u001b[49m\u001b[43m)\u001b[49m)\n\u001b[1;32m    728\u001b[0m \u001b[38;5;28;01melif\u001b[39;00m \u001b[38;5;28misinstance\u001b[39m(path, RDD):\n\u001b[1;32m    730\u001b[0m     \u001b[38;5;28;01mdef\u001b[39;00m \u001b[38;5;21mfunc\u001b[39m(iterator):\n",
            "File \u001b[0;32m~/cluster-env/env/lib/python3.10/site-packages/py4j/java_gateway.py:1322\u001b[0m, in \u001b[0;36mJavaMember.__call__\u001b[0;34m(self, *args)\u001b[0m\n\u001b[1;32m   1316\u001b[0m command \u001b[38;5;241m=\u001b[39m proto\u001b[38;5;241m.\u001b[39mCALL_COMMAND_NAME \u001b[38;5;241m+\u001b[39m\\\n\u001b[1;32m   1317\u001b[0m     \u001b[38;5;28mself\u001b[39m\u001b[38;5;241m.\u001b[39mcommand_header \u001b[38;5;241m+\u001b[39m\\\n\u001b[1;32m   1318\u001b[0m     args_command \u001b[38;5;241m+\u001b[39m\\\n\u001b[1;32m   1319\u001b[0m     proto\u001b[38;5;241m.\u001b[39mEND_COMMAND_PART\n\u001b[1;32m   1321\u001b[0m answer \u001b[38;5;241m=\u001b[39m \u001b[38;5;28mself\u001b[39m\u001b[38;5;241m.\u001b[39mgateway_client\u001b[38;5;241m.\u001b[39msend_command(command)\n\u001b[0;32m-> 1322\u001b[0m return_value \u001b[38;5;241m=\u001b[39m \u001b[43mget_return_value\u001b[49m\u001b[43m(\u001b[49m\n\u001b[1;32m   1323\u001b[0m \u001b[43m    \u001b[49m\u001b[43manswer\u001b[49m\u001b[43m,\u001b[49m\u001b[43m \u001b[49m\u001b[38;5;28;43mself\u001b[39;49m\u001b[38;5;241;43m.\u001b[39;49m\u001b[43mgateway_client\u001b[49m\u001b[43m,\u001b[49m\u001b[43m \u001b[49m\u001b[38;5;28;43mself\u001b[39;49m\u001b[38;5;241;43m.\u001b[39;49m\u001b[43mtarget_id\u001b[49m\u001b[43m,\u001b[49m\u001b[43m \u001b[49m\u001b[38;5;28;43mself\u001b[39;49m\u001b[38;5;241;43m.\u001b[39;49m\u001b[43mname\u001b[49m\u001b[43m)\u001b[49m\n\u001b[1;32m   1325\u001b[0m \u001b[38;5;28;01mfor\u001b[39;00m temp_arg \u001b[38;5;129;01min\u001b[39;00m temp_args:\n\u001b[1;32m   1326\u001b[0m     \u001b[38;5;28;01mif\u001b[39;00m \u001b[38;5;28mhasattr\u001b[39m(temp_arg, \u001b[38;5;124m\"\u001b[39m\u001b[38;5;124m_detach\u001b[39m\u001b[38;5;124m\"\u001b[39m):\n",
            "File \u001b[0;32m/opt/spark/python/lib/pyspark.zip/pyspark/errors/exceptions/captured.py:169\u001b[0m, in \u001b[0;36mcapture_sql_exception.<locals>.deco\u001b[0;34m(*a, **kw)\u001b[0m\n\u001b[1;32m    167\u001b[0m \u001b[38;5;28;01mdef\u001b[39;00m \u001b[38;5;21mdeco\u001b[39m(\u001b[38;5;241m*\u001b[39ma: Any, \u001b[38;5;241m*\u001b[39m\u001b[38;5;241m*\u001b[39mkw: Any) \u001b[38;5;241m-\u001b[39m\u001b[38;5;241m>\u001b[39m Any:\n\u001b[1;32m    168\u001b[0m     \u001b[38;5;28;01mtry\u001b[39;00m:\n\u001b[0;32m--> 169\u001b[0m         \u001b[38;5;28;01mreturn\u001b[39;00m \u001b[43mf\u001b[49m\u001b[43m(\u001b[49m\u001b[38;5;241;43m*\u001b[39;49m\u001b[43ma\u001b[49m\u001b[43m,\u001b[49m\u001b[43m \u001b[49m\u001b[38;5;241;43m*\u001b[39;49m\u001b[38;5;241;43m*\u001b[39;49m\u001b[43mkw\u001b[49m\u001b[43m)\u001b[49m\n\u001b[1;32m    170\u001b[0m     \u001b[38;5;28;01mexcept\u001b[39;00m Py4JJavaError \u001b[38;5;28;01mas\u001b[39;00m e:\n\u001b[1;32m    171\u001b[0m         converted \u001b[38;5;241m=\u001b[39m convert_exception(e\u001b[38;5;241m.\u001b[39mjava_exception)\n",
            "File \u001b[0;32m~/cluster-env/env/lib/python3.10/site-packages/py4j/protocol.py:326\u001b[0m, in \u001b[0;36mget_return_value\u001b[0;34m(answer, gateway_client, target_id, name)\u001b[0m\n\u001b[1;32m    324\u001b[0m value \u001b[38;5;241m=\u001b[39m OUTPUT_CONVERTER[\u001b[38;5;28mtype\u001b[39m](answer[\u001b[38;5;241m2\u001b[39m:], gateway_client)\n\u001b[1;32m    325\u001b[0m \u001b[38;5;28;01mif\u001b[39;00m answer[\u001b[38;5;241m1\u001b[39m] \u001b[38;5;241m==\u001b[39m REFERENCE_TYPE:\n\u001b[0;32m--> 326\u001b[0m     \u001b[38;5;28;01mraise\u001b[39;00m Py4JJavaError(\n\u001b[1;32m    327\u001b[0m         \u001b[38;5;124m\"\u001b[39m\u001b[38;5;124mAn error occurred while calling \u001b[39m\u001b[38;5;132;01m{0}\u001b[39;00m\u001b[38;5;132;01m{1}\u001b[39;00m\u001b[38;5;132;01m{2}\u001b[39;00m\u001b[38;5;124m.\u001b[39m\u001b[38;5;130;01m\\n\u001b[39;00m\u001b[38;5;124m\"\u001b[39m\u001b[38;5;241m.\u001b[39m\n\u001b[1;32m    328\u001b[0m         \u001b[38;5;28mformat\u001b[39m(target_id, \u001b[38;5;124m\"\u001b[39m\u001b[38;5;124m.\u001b[39m\u001b[38;5;124m\"\u001b[39m, name), value)\n\u001b[1;32m    329\u001b[0m \u001b[38;5;28;01melse\u001b[39;00m:\n\u001b[1;32m    330\u001b[0m     \u001b[38;5;28;01mraise\u001b[39;00m Py4JError(\n\u001b[1;32m    331\u001b[0m         \u001b[38;5;124m\"\u001b[39m\u001b[38;5;124mAn error occurred while calling \u001b[39m\u001b[38;5;132;01m{0}\u001b[39;00m\u001b[38;5;132;01m{1}\u001b[39;00m\u001b[38;5;132;01m{2}\u001b[39;00m\u001b[38;5;124m. Trace:\u001b[39m\u001b[38;5;130;01m\\n\u001b[39;00m\u001b[38;5;132;01m{3}\u001b[39;00m\u001b[38;5;130;01m\\n\u001b[39;00m\u001b[38;5;124m\"\u001b[39m\u001b[38;5;241m.\u001b[39m\n\u001b[1;32m    332\u001b[0m         \u001b[38;5;28mformat\u001b[39m(target_id, \u001b[38;5;124m\"\u001b[39m\u001b[38;5;124m.\u001b[39m\u001b[38;5;124m\"\u001b[39m, name, value))\n",
            "\u001b[0;31mPy4JJavaError\u001b[0m: An error occurred while calling o5865.csv.\n: java.nio.file.AccessDeniedException: Operation failed: \"This request is not authorized to perform this operation using this permission.\", 403, HEAD, https://amlwso10632087199.dfs.core.windows.net/data/diabetes.csv?upn=false&action=getStatus&timeout=90\n\tat org.apache.hadoop.fs.azurebfs.AzureBlobFileSystem.checkException(AzureBlobFileSystem.java:1443)\n\tat org.apache.hadoop.fs.azurebfs.AzureBlobFileSystem.getFileStatus(AzureBlobFileSystem.java:652)\n\tat org.apache.hadoop.fs.azurebfs.AzureBlobFileSystem.getFileStatus(AzureBlobFileSystem.java:640)\n\tat org.apache.hadoop.fs.FileSystem.exists(FileSystem.java:1760)\n\tat org.apache.hadoop.fs.azurebfs.AzureBlobFileSystem.exists(AzureBlobFileSystem.java:1236)\n\tat org.apache.spark.sql.execution.datasources.DataSource$.$anonfun$checkAndGlobPathIfNecessary$4(DataSource.scala:757)\n\tat org.apache.spark.sql.execution.datasources.DataSource$.$anonfun$checkAndGlobPathIfNecessary$4$adapted(DataSource.scala:755)\n\tat org.apache.spark.util.ThreadUtils$.$anonfun$parmap$2(ThreadUtils.scala:393)\n\tat scala.concurrent.Future$.$anonfun$apply$1(Future.scala:659)\n\tat scala.util.Success.$anonfun$map$1(Try.scala:255)\n\tat scala.util.Success.map(Try.scala:213)\n\tat scala.concurrent.Future.$anonfun$map$1(Future.scala:292)\n\tat scala.concurrent.impl.Promise.liftedTree1$1(Promise.scala:33)\n\tat scala.concurrent.impl.Promise.$anonfun$transform$1(Promise.scala:33)\n\tat scala.concurrent.impl.CallbackRunnable.run(Promise.scala:64)\n\tat java.base/java.util.concurrent.ForkJoinTask$RunnableExecuteAction.exec(ForkJoinTask.java:1426)\n\tat java.base/java.util.concurrent.ForkJoinTask.doExec(ForkJoinTask.java:290)\n\tat java.base/java.util.concurrent.ForkJoinPool$WorkQueue.topLevelExec(ForkJoinPool.java:1020)\n\tat java.base/java.util.concurrent.ForkJoinPool.scan(ForkJoinPool.java:1656)\n\tat java.base/java.util.concurrent.ForkJoinPool.runWorker(ForkJoinPool.java:1594)\n\tat java.base/java.util.concurrent.ForkJoinWorkerThread.run(ForkJoinWorkerThread.java:183)\nCaused by: Operation failed: \"This request is not authorized to perform this operation using this permission.\", 403, HEAD, https://amlwso10632087199.dfs.core.windows.net/data/diabetes.csv?upn=false&action=getStatus&timeout=90\n\tat org.apache.hadoop.fs.azurebfs.services.AbfsRestOperation.completeExecute(AbfsRestOperation.java:231)\n\tat org.apache.hadoop.fs.azurebfs.services.AbfsRestOperation.lambda$execute$0(AbfsRestOperation.java:191)\n\tat org.apache.hadoop.fs.statistics.impl.IOStatisticsBinding.trackDurationOfInvocation(IOStatisticsBinding.java:464)\n\tat org.apache.hadoop.fs.azurebfs.services.AbfsRestOperation.execute(AbfsRestOperation.java:189)\n\tat org.apache.hadoop.fs.azurebfs.services.AbfsClient.getPathStatus(AbfsClient.java:690)\n\tat org.apache.hadoop.fs.azurebfs.AzureBlobFileSystemStore.getFileStatus(AzureBlobFileSystemStore.java:1053)\n\tat org.apache.hadoop.fs.azurebfs.AzureBlobFileSystem.getFileStatus(AzureBlobFileSystem.java:650)\n\t... 19 more\n"
          ]
        }
      ],
      "execution_count": 9,
      "metadata": {
        "jupyter": {
          "source_hidden": false,
          "outputs_hidden": false
        },
        "nteract": {
          "transient": {
            "deleting": false
          }
        },
        "gather": {
          "logged": 1721512669316
        }
      }
    },
    {
      "cell_type": "code",
      "source": [
        "df=spark.read.format('csv').load('abfss://data@amlwso10632087199.dfs.core.windows.net/diabetes.csv')\n"
      ],
      "outputs": [
        {
          "output_type": "display_data",
          "data": {
            "application/vnd.livy.statement-meta+json": {
              "spark_pool": "sparker",
              "statement_id": 16,
              "statement_ids": [
                16
              ],
              "livy_statement_state": "available",
              "spark_jobs": {
                "numbers": {
                  "SUCCEEDED": 1,
                  "RUNNING": 0,
                  "UNKNOWN": 0,
                  "FAILED": 0
                },
                "jobs": [
                  {
                    "displayName": "load at NativeMethodAccessorImpl.java:0",
                    "dataWritten": 0,
                    "dataRead": 23873,
                    "rowCount": 1,
                    "usageDescription": "",
                    "jobId": 0,
                    "name": "load at NativeMethodAccessorImpl.java:0",
                    "description": "Job group for statement 16:\ndf=spark.read.format('csv').load('abfss://data@amlwso10632087199.dfs.core.windows.net/diabetes.csv')\n",
                    "submissionTime": "2024-07-20T22:01:13.125GMT",
                    "completionTime": "2024-07-20T22:01:22.965GMT",
                    "stageIds": [
                      0
                    ],
                    "jobGroup": "16",
                    "status": "SUCCEEDED",
                    "numTasks": 1,
                    "numActiveTasks": 0,
                    "numCompletedTasks": 1,
                    "numSkippedTasks": 0,
                    "numFailedTasks": 0,
                    "numKilledTasks": 0,
                    "numCompletedIndices": 1,
                    "numActiveStages": 0,
                    "numCompletedStages": 1,
                    "numSkippedStages": 0,
                    "numFailedStages": 0,
                    "killedTasksSummary": {}
                  }
                ],
                "limit": 20,
                "rule": "ALL_DESC"
              },
              "session_id": "0",
              "state": "finished",
              "normalized_state": "finished",
              "queued_time": "2024-07-20T22:01:06.7193393Z",
              "session_start_time": null,
              "execution_start_time": "2024-07-20T22:01:06.9052084Z",
              "execution_finish_time": "2024-07-20T22:01:24.9920929Z",
              "parent_msg_id": "2445bc91-238b-4743-a522-a6cce64f9533"
            },
            "text/plain": "StatementMeta(sparker, 0, 16, Finished, Available, Finished)"
          },
          "metadata": {}
        }
      ],
      "execution_count": 11,
      "metadata": {
        "jupyter": {
          "source_hidden": false,
          "outputs_hidden": false
        },
        "nteract": {
          "transient": {
            "deleting": false
          }
        },
        "gather": {
          "logged": 1721512885198
        }
      }
    },
    {
      "cell_type": "code",
      "source": [
        "df.show()"
      ],
      "outputs": [
        {
          "output_type": "display_data",
          "data": {
            "application/vnd.livy.statement-meta+json": {
              "spark_pool": "sparker",
              "statement_id": 17,
              "statement_ids": [
                17
              ],
              "livy_statement_state": "available",
              "spark_jobs": {
                "numbers": {
                  "SUCCEEDED": 1,
                  "RUNNING": 0,
                  "UNKNOWN": 0,
                  "FAILED": 0
                },
                "jobs": [
                  {
                    "displayName": "showString at NativeMethodAccessorImpl.java:0",
                    "dataWritten": 0,
                    "dataRead": 0,
                    "rowCount": 21,
                    "usageDescription": "",
                    "jobId": 1,
                    "name": "showString at NativeMethodAccessorImpl.java:0",
                    "description": "Job group for statement 17:\ndf.show()",
                    "submissionTime": "2024-07-20T22:01:25.736GMT",
                    "completionTime": "2024-07-20T22:01:27.021GMT",
                    "stageIds": [
                      1
                    ],
                    "jobGroup": "17",
                    "status": "SUCCEEDED",
                    "numTasks": 1,
                    "numActiveTasks": 0,
                    "numCompletedTasks": 1,
                    "numSkippedTasks": 0,
                    "numFailedTasks": 0,
                    "numKilledTasks": 0,
                    "numCompletedIndices": 1,
                    "numActiveStages": 0,
                    "numCompletedStages": 1,
                    "numSkippedStages": 0,
                    "numFailedStages": 0,
                    "killedTasksSummary": {}
                  }
                ],
                "limit": 20,
                "rule": "ALL_DESC"
              },
              "session_id": "0",
              "state": "finished",
              "normalized_state": "finished",
              "queued_time": "2024-07-20T22:01:23.7144666Z",
              "session_start_time": null,
              "execution_start_time": "2024-07-20T22:01:25.153449Z",
              "execution_finish_time": "2024-07-20T22:01:28.0851482Z",
              "parent_msg_id": "5689d5d8-7eac-4747-89a8-8275062f485c"
            },
            "text/plain": "StatementMeta(sparker, 0, 17, Finished, Available, Finished)"
          },
          "metadata": {}
        },
        {
          "output_type": "stream",
          "name": "stdout",
          "text": "+-----------+-------+-------------+-------------+-------+----+--------------------+---+-------+\n|        _c0|    _c1|          _c2|          _c3|    _c4| _c5|                 _c6|_c7|    _c8|\n+-----------+-------+-------------+-------------+-------+----+--------------------+---+-------+\n|Pregnancies|Glucose|BloodPressure|SkinThickness|Insulin| BMI|DiabetesPedigreeF...|Age|Outcome|\n|          6|    148|           72|           35|      0|33.6|               0.627| 50|      1|\n|          1|     85|           66|           29|      0|26.6|               0.351| 31|      0|\n|          8|    183|           64|            0|      0|23.3|               0.672| 32|      1|\n|          1|     89|           66|           23|     94|28.1|               0.167| 21|      0|\n|          0|    137|           40|           35|    168|43.1|               2.288| 33|      1|\n|          5|    116|           74|            0|      0|25.6|               0.201| 30|      0|\n|          3|     78|           50|           32|     88|  31|               0.248| 26|      1|\n|         10|    115|            0|            0|      0|35.3|               0.134| 29|      0|\n|          2|    197|           70|           45|    543|30.5|               0.158| 53|      1|\n|          8|    125|           96|            0|      0|   0|               0.232| 54|      1|\n|          4|    110|           92|            0|      0|37.6|               0.191| 30|      0|\n|         10|    168|           74|            0|      0|  38|               0.537| 34|      1|\n|         10|    139|           80|            0|      0|27.1|               1.441| 57|      0|\n|          1|    189|           60|           23|    846|30.1|               0.398| 59|      1|\n|          5|    166|           72|           19|    175|25.8|               0.587| 51|      1|\n|          7|    100|            0|            0|      0|  30|               0.484| 32|      1|\n|          0|    118|           84|           47|    230|45.8|               0.551| 31|      1|\n|          7|    107|           74|            0|      0|29.6|               0.254| 31|      1|\n|          1|    103|           30|           38|     83|43.3|               0.183| 33|      0|\n+-----------+-------+-------------+-------------+-------+----+--------------------+---+-------+\nonly showing top 20 rows\n\n"
        }
      ],
      "execution_count": 12,
      "metadata": {
        "jupyter": {
          "source_hidden": false,
          "outputs_hidden": false
        },
        "nteract": {
          "transient": {
            "deleting": false
          }
        },
        "gather": {
          "logged": 1721512888217
        }
      }
    },
    {
      "cell_type": "code",
      "source": [],
      "outputs": [],
      "execution_count": null,
      "metadata": {
        "jupyter": {
          "source_hidden": false,
          "outputs_hidden": false
        },
        "nteract": {
          "transient": {
            "deleting": false
          }
        }
      }
    }
  ],
  "metadata": {
    "kernelspec": {
      "name": "python310-sdkv2",
      "language": "python",
      "display_name": "Python 3.10 - SDK v2"
    },
    "language_info": {
      "name": "python",
      "version": "3.10.14",
      "mimetype": "text/x-python",
      "codemirror_mode": {
        "name": "ipython",
        "version": 3
      },
      "pygments_lexer": "ipython3",
      "nbconvert_exporter": "python",
      "file_extension": ".py"
    },
    "microsoft": {
      "ms_spell_check": {
        "ms_spell_check_language": "en"
      },
      "host": {
        "AzureML": {
          "notebookHasBeenCompleted": true
        }
      }
    },
    "kernel_info": {
      "name": "python310-sdkv2"
    },
    "nteract": {
      "version": "nteract-front-end@1.0.0"
    }
  },
  "nbformat": 4,
  "nbformat_minor": 2
}