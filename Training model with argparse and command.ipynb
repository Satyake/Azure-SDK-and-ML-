{
 "cells": [
  {
   "cell_type": "code",
   "execution_count": 15,
   "metadata": {},
   "outputs": [
    {
     "name": "stderr",
     "output_type": "stream",
     "text": [
      "Found the config file in: /config.json\n"
     ]
    },
    {
     "data": {
      "text/plain": [
       "Data({'skip_validation': False, 'mltable_schema_url': None, 'referenced_uris': None, 'type': 'uri_file', 'is_anonymous': False, 'auto_increment_version': False, 'auto_delete_setting': None, 'name': 'diabetes-datasset', 'description': 'Diabetes-data-vscode', 'tags': {}, 'properties': {}, 'print_as_yaml': True, 'id': '/subscriptions/7b1b43ca-4b64-43cf-9446-edb35a04d7d1/resourceGroups/rg01databricks/providers/Microsoft.MachineLearningServices/workspaces/ws-azureml-01/data/diabetes-datasset/versions/1', 'Resource__source_path': None, 'base_path': '/mnt/batch/tasks/shared/LS_root/mounts/clusters/satyakebakshi951/code', 'creation_context': <azure.ai.ml.entities._system_data.SystemData object at 0x7f30ec2ffd30>, 'serialize': <msrest.serialization.Serializer object at 0x7f30ec3fc580>, 'version': '1', 'latest_version': None, 'path': 'azureml://subscriptions/7b1b43ca-4b64-43cf-9446-edb35a04d7d1/resourcegroups/rg01databricks/workspaces/ws-azureml-01/datastores/workspaceblobstore/paths/LocalUpload/adb4e278e313ced34ce091a35316f5fd/diabetes.csv', 'datastore': None})"
      ]
     },
     "execution_count": 15,
     "metadata": {},
     "output_type": "execute_result"
    }
   ],
   "source": [
    "from azure.identity import DefaultAzureCredential, InteractiveBrowserCredential\n",
    "from azure.ai.ml.constants import AssetTypes\n",
    "from azure.ai.ml import MLClient\n",
    "from azure.ai.ml.entities import Data\n",
    "\n",
    "try:\n",
    "    credential=DefaultAzureCredential()\n",
    "    credential.get_token('https://management.azure.com/.default')\n",
    "except Exception as ex:\n",
    "    credential=InteractiveBrowserCredential()\n",
    "client=MLClient.from_config(credential=credential)\n",
    "path='src/diabetes.csv'\n",
    "data_asset=Data(\n",
    "    path=path,\n",
    "    description='Diabetes-data-vscode',\n",
    "    name='diabetes-datasset',\n",
    "    type=AssetTypes.URI_FILE\n",
    ")\n",
    "client.data.create_or_update(data_asset)"
   ]
  },
  {
   "cell_type": "code",
   "execution_count": 16,
   "metadata": {},
   "outputs": [
    {
     "name": "stdout",
     "output_type": "stream",
     "text": [
      "loan_dataset\n",
      "diabetes\n",
      "loan_data\n",
      "MD-loan_automation-Train_Model-Trained_model-d6a5ebd0\n",
      "TD-loan_automation-Clean_Missing_Data-Cleaning_transformation-2cd45586\n",
      "dataset\n",
      "diabetes-local\n",
      "diabetes-blob-storage-linked\n",
      "diabetes-MLTABLE\n",
      "diabetes-datasset\n"
     ]
    }
   ],
   "source": [
    "for ds in client.data.list():\n",
    "    print(ds.name)"
   ]
  },
  {
   "cell_type": "code",
   "execution_count": 17,
   "metadata": {},
   "outputs": [
    {
     "name": "stdout",
     "output_type": "stream",
     "text": [
      "blob_training_data\n",
      "deltalakedatastore\n",
      "azureml_globaldatasets\n",
      "workspaceworkingdirectory\n",
      "workspaceartifactstore\n",
      "workspacefilestore\n",
      "workspaceblobstore\n"
     ]
    }
   ],
   "source": [
    "datastores=client.datastores.list()\n",
    "for ds in datastores:\n",
    "    print(ds.name)"
   ]
  },
  {
   "cell_type": "code",
   "execution_count": 20,
   "metadata": {},
   "outputs": [
    {
     "data": {
      "text/html": [
       "<div>\n",
       "<style scoped>\n",
       "    .dataframe tbody tr th:only-of-type {\n",
       "        vertical-align: middle;\n",
       "    }\n",
       "\n",
       "    .dataframe tbody tr th {\n",
       "        vertical-align: top;\n",
       "    }\n",
       "\n",
       "    .dataframe thead th {\n",
       "        text-align: right;\n",
       "    }\n",
       "</style>\n",
       "<table border=\"1\" class=\"dataframe\">\n",
       "  <thead>\n",
       "    <tr style=\"text-align: right;\">\n",
       "      <th></th>\n",
       "      <th>Pregnancies</th>\n",
       "      <th>Glucose</th>\n",
       "      <th>BloodPressure</th>\n",
       "      <th>SkinThickness</th>\n",
       "      <th>Insulin</th>\n",
       "      <th>BMI</th>\n",
       "      <th>DiabetesPedigreeFunction</th>\n",
       "      <th>Age</th>\n",
       "      <th>Outcome</th>\n",
       "    </tr>\n",
       "  </thead>\n",
       "  <tbody>\n",
       "    <tr>\n",
       "      <th>0</th>\n",
       "      <td>6</td>\n",
       "      <td>148</td>\n",
       "      <td>72</td>\n",
       "      <td>35</td>\n",
       "      <td>0</td>\n",
       "      <td>33.6</td>\n",
       "      <td>0.627</td>\n",
       "      <td>50</td>\n",
       "      <td>1</td>\n",
       "    </tr>\n",
       "    <tr>\n",
       "      <th>1</th>\n",
       "      <td>1</td>\n",
       "      <td>85</td>\n",
       "      <td>66</td>\n",
       "      <td>29</td>\n",
       "      <td>0</td>\n",
       "      <td>26.6</td>\n",
       "      <td>0.351</td>\n",
       "      <td>31</td>\n",
       "      <td>0</td>\n",
       "    </tr>\n",
       "    <tr>\n",
       "      <th>2</th>\n",
       "      <td>8</td>\n",
       "      <td>183</td>\n",
       "      <td>64</td>\n",
       "      <td>0</td>\n",
       "      <td>0</td>\n",
       "      <td>23.3</td>\n",
       "      <td>0.672</td>\n",
       "      <td>32</td>\n",
       "      <td>1</td>\n",
       "    </tr>\n",
       "    <tr>\n",
       "      <th>3</th>\n",
       "      <td>1</td>\n",
       "      <td>89</td>\n",
       "      <td>66</td>\n",
       "      <td>23</td>\n",
       "      <td>94</td>\n",
       "      <td>28.1</td>\n",
       "      <td>0.167</td>\n",
       "      <td>21</td>\n",
       "      <td>0</td>\n",
       "    </tr>\n",
       "    <tr>\n",
       "      <th>4</th>\n",
       "      <td>0</td>\n",
       "      <td>137</td>\n",
       "      <td>40</td>\n",
       "      <td>35</td>\n",
       "      <td>168</td>\n",
       "      <td>43.1</td>\n",
       "      <td>2.288</td>\n",
       "      <td>33</td>\n",
       "      <td>1</td>\n",
       "    </tr>\n",
       "  </tbody>\n",
       "</table>\n",
       "</div>"
      ],
      "text/plain": [
       "   Pregnancies  Glucose  BloodPressure  SkinThickness  Insulin   BMI  \\\n",
       "0            6      148             72             35        0  33.6   \n",
       "1            1       85             66             29        0  26.6   \n",
       "2            8      183             64              0        0  23.3   \n",
       "3            1       89             66             23       94  28.1   \n",
       "4            0      137             40             35      168  43.1   \n",
       "\n",
       "   DiabetesPedigreeFunction  Age  Outcome  \n",
       "0                     0.627   50        1  \n",
       "1                     0.351   31        0  \n",
       "2                     0.672   32        1  \n",
       "3                     0.167   21        0  \n",
       "4                     2.288   33        1  "
      ]
     },
     "execution_count": 20,
     "metadata": {},
     "output_type": "execute_result"
    }
   ],
   "source": [
    "import pandas as pd \n",
    "df_asset=client.data.get('diabetes-datasset', version=1)\n",
    "df=pd.read_csv(df_asset.path)\n",
    "df.head()"
   ]
  },
  {
   "cell_type": "code",
   "execution_count": 21,
   "metadata": {},
   "outputs": [],
   "source": [
    "import os \n",
    "script_folder='scripts'\n",
    "os.makedirs(script_folder, exist_ok=True)"
   ]
  },
  {
   "cell_type": "code",
   "execution_count": 50,
   "metadata": {},
   "outputs": [
    {
     "name": "stdout",
     "output_type": "stream",
     "text": [
      "Overwriting scripts/training_script.py\n"
     ]
    }
   ],
   "source": [
    "%%writefile $script_folder/training_script.py\n",
    "\n",
    "import pandas as pd \n",
    "from sklearn.model_selection import train_test_split\n",
    "from sklearn.tree import DecisionTreeClassifier\n",
    "from sklearn.metrics import accuracy_score, roc_auc_score, roc_curve\n",
    "from pathlib import Path\n",
    "from argparse import ArgumentParser\n",
    "import mlflow\n",
    "import matplotlib.pyplot as plt\n",
    "def parser():\n",
    "    parser=ArgumentParser()\n",
    "    parser.add_argument('--input_directory',dest='input_directory', type=str)\n",
    "    parser.add_argument('--max_depth', dest='max_depth', type=int, default=2)\n",
    "    parser.add_argument('--min_samples', dest='min_samples', type=int, default=2)\n",
    "    parser.add_argument('--test_size', dest='test_size', type=float)\n",
    "    parser.add_argument('--random_state', dest='random_state', type=int, default=42)\n",
    "    args=parser.parse_args()\n",
    "    return args\n",
    "\n",
    "def train(args):\n",
    "    df=pd.read_csv(args.input_directory)\n",
    "    X=df.drop('Outcome', axis=1)\n",
    "    y=df['Outcome']\n",
    "    DT=DecisionTreeClassifier(max_depth=args.max_depth, min_samples_split=args.min_samples)\n",
    "    X_train, X_test, y_train,y_test=train_test_split(X,y, test_size=args.test_size ,random_state=args.random_state)\n",
    "    model=DT.fit(X_train, y_train)\n",
    "    y_pred=model.predict(X_test)\n",
    "    y_pred_prob=model.predict_proba(X_test)[:,1]\n",
    "    accuracy=accuracy_score(y_test, y_pred)\n",
    "    mlflow.log_metric('accuracy', accuracy)\n",
    "    roc_auc=roc_auc_score(y_test, y_pred_prob)\n",
    "    mlflow.log_metric('roc_auc', roc_auc)\n",
    "    fpr,tpr,thresholds=roc_curve(y_test, y_pred_prob)\n",
    "    plt.plot(fpr,tpr)\n",
    "    plt.xlabel('FPR')\n",
    "    plt.ylabel('TPR')\n",
    "    plt.title('ROC Curve')\n",
    "    plt.savefig('roc_curve.png')\n",
    "    mlflow.log_artifact('roc_curve.png')\n",
    "\n",
    "if __name__=='__main__':\n",
    "    args=parser()\n",
    "    train(args)\n",
    "\n",
    "\n",
    "\n",
    " \n"
   ]
  },
  {
   "cell_type": "code",
   "execution_count": 51,
   "metadata": {},
   "outputs": [],
   "source": [
    "from azure.ai.ml import command\n",
    "job=command(\n",
    "    display_name='diabetes_job',\n",
    "    compute='satyakebakshi951',\n",
    "    code='./scripts',\n",
    "    environment='AzureML-sklearn-0.24-ubuntu18.04-py37-cpu@latest',\n",
    "    command='python training_script.py --input_directory diabetes.csv --max_depth=5 --min_samples=5 --test_size=0.5 --random_state=42'\n",
    ")"
   ]
  },
  {
   "cell_type": "code",
   "execution_count": 52,
   "metadata": {},
   "outputs": [
    {
     "name": "stderr",
     "output_type": "stream",
     "text": [
      "Uploading scripts (0.03 MBs): 100%|██████████| 25551/25551 [00:00<00:00, 390239.21it/s]\n",
      "\n",
      "\n"
     ]
    },
    {
     "name": "stdout",
     "output_type": "stream",
     "text": [
      "https://ml.azure.com/runs/gentle_pizza_vdvmjnkw99?wsid=/subscriptions/7b1b43ca-4b64-43cf-9446-edb35a04d7d1/resourcegroups/rg01databricks/workspaces/ws-azureml-01&tid=a287f42c-46eb-424f-ab40-cd784a7b423c\n"
     ]
    }
   ],
   "source": [
    "returned_job=client.create_or_update(job)\n",
    "print(returned_job.studio_url)"
   ]
  },
  {
   "cell_type": "code",
   "execution_count": null,
   "metadata": {},
   "outputs": [],
   "source": []
  },
  {
   "cell_type": "code",
   "execution_count": null,
   "metadata": {},
   "outputs": [],
   "source": []
  }
 ],
 "metadata": {
  "kernelspec": {
   "display_name": "Python 3.10 - SDK v2",
   "language": "python",
   "name": "python310-sdkv2"
  }
 },
 "nbformat": 4,
 "nbformat_minor": 2
}
