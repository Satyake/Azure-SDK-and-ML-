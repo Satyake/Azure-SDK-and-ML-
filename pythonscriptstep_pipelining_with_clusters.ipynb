{
 "cells": [
  {
   "cell_type": "code",
   "execution_count": 51,
   "metadata": {},
   "outputs": [],
   "source": [
    "#create compute cluster\n",
    "from azureml.core.compute import AmlCompute\n",
    "from azureml.pipeline.core import PipelineData, Pipeline\n",
    "from azureml.core.runconfig import RunConfiguration\n",
    "from azureml.core import Workspace,Dataset, Datastore\n",
    "#import conda dependencies\n",
    "from azureml.core.conda_dependencies import CondaDependencies\n",
    "#import experiment\n",
    "from azureml.core.experiment import Experiment\n",
    "#import environment\n",
    "from azureml.core.environment import Environment\n"
   ]
  },
  {
   "cell_type": "code",
   "execution_count": 52,
   "metadata": {},
   "outputs": [],
   "source": [
    "ws=Workspace.from_config('C:/Users/satya/Downloads/Azure/Azure_cp/.azureml/config12.json')"
   ]
  },
  {
   "cell_type": "code",
   "execution_count": null,
   "metadata": {},
   "outputs": [],
   "source": [
    "envt=Environment(name=\"myenv\")\n",
    "myenvdep=CondaDependencies.create(conda_packages=['pandas','scikit-learn'])\n",
    "envt.python.conda_dependencies=myenvdep\n",
    "envt.register(ws)"
   ]
  },
  {
   "cell_type": "code",
   "execution_count": 54,
   "metadata": {},
   "outputs": [],
   "source": [
    "cluster_name = 'amlcompute12'\n",
    "config=AmlCompute.provisioning_configuration(vm_size='STANDARD_D2_V2', max_nodes=1)\n",
    "compute = AmlCompute.create(ws, cluster_name, config)"
   ]
  },
  {
   "cell_type": "code",
   "execution_count": 56,
   "metadata": {},
   "outputs": [],
   "source": [
    "input_ds=Dataset.get_by_name(ws,'credit_dataset')"
   ]
  },
  {
   "cell_type": "code",
   "execution_count": 57,
   "metadata": {},
   "outputs": [
    {
     "data": {
      "text/plain": [
       "['credit_dataset']"
      ]
     },
     "execution_count": 57,
     "metadata": {},
     "output_type": "execute_result"
    }
   ],
   "source": [
    "#list registered datasets in workspace\n",
    "list(ws.datasets.keys())"
   ]
  },
  {
   "cell_type": "code",
   "execution_count": 42,
   "metadata": {},
   "outputs": [
    {
     "name": "stdout",
     "output_type": "stream",
     "text": [
      "None\n"
     ]
    }
   ],
   "source": [
    "print(input_ds)"
   ]
  },
  {
   "cell_type": "code",
   "execution_count": 58,
   "metadata": {},
   "outputs": [],
   "source": [
    "runconfig=RunConfiguration()\n",
    "runconfig.target=compute\n",
    "runconfig.environment=envt"
   ]
  },
  {
   "cell_type": "code",
   "execution_count": 59,
   "metadata": {},
   "outputs": [],
   "source": [
    "#import pipeline\n",
    "from azureml.pipeline.core import Pipeline, PipelineData\n",
    "from azureml.pipeline.steps import PythonScriptStep"
   ]
  },
  {
   "cell_type": "code",
   "execution_count": null,
   "metadata": {},
   "outputs": [],
   "source": []
  },
  {
   "cell_type": "code",
   "execution_count": 60,
   "metadata": {},
   "outputs": [],
   "source": [
    "datafolder=PipelineData(name='datafolder',datastore=Datastore.get(ws,'credit_datastore'))"
   ]
  },
  {
   "cell_type": "code",
   "execution_count": 65,
   "metadata": {},
   "outputs": [],
   "source": [
    "dataprep=PythonScriptStep(name='dataprep',\n",
    "                        source_directory='.', script_name='dataprep.py',\n",
    "                        inputs=[input_ds.as_named_input('raw_data')],\n",
    "                        outputs=[datafolder],\n",
    "                        runconfig=runconfig,\n",
    "                        arguments=['--datafolder',datafolder])\n",
    "\n",
    "trainstep=PythonScriptStep(name='train',\n",
    "                        source_directory='.',\n",
    "                        script_name='train.py',\n",
    "                        inputs=[datafolder],\n",
    "                        runconfig=runconfig,\n",
    "                        arguments=['--datafolder',datafolder])"
   ]
  },
  {
   "cell_type": "code",
   "execution_count": null,
   "metadata": {},
   "outputs": [],
   "source": [
    "steps=[dataprep,trainstep]\n",
    "pipeline=Pipeline(workspace=ws,steps=steps)\n"
   ]
  },
  {
   "cell_type": "code",
   "execution_count": null,
   "metadata": {},
   "outputs": [],
   "source": [
    "new_exp=Experiment(ws,'credit_pipeline')\n",
    "new_exp.submit(pipeline)\n",
    "new_exp.wait_for_completion(show_output=True)"
   ]
  }
 ],
 "metadata": {
  "kernelspec": {
   "display_name": "Python 3.7.0 ('tf-gpu-cuda8')",
   "language": "python",
   "name": "python3"
  },
  "language_info": {
   "codemirror_mode": {
    "name": "ipython",
    "version": 3
   },
   "file_extension": ".py",
   "mimetype": "text/x-python",
   "name": "python",
   "nbconvert_exporter": "python",
   "pygments_lexer": "ipython3",
   "version": "3.7.0"
  },
  "orig_nbformat": 4,
  "vscode": {
   "interpreter": {
    "hash": "03f4ac3119e2450266d45ef487def59165e9739e84fca1acfa1dc135d1f5e0c7"
   }
  }
 },
 "nbformat": 4,
 "nbformat_minor": 2
}
