{
 "cells": [
  {
   "cell_type": "code",
   "execution_count": 7,
   "metadata": {},
   "outputs": [
    {
     "name": "stderr",
     "output_type": "stream",
     "text": [
      "Found the config file in: /config.json\n"
     ]
    }
   ],
   "source": [
    "from azure.identity import DefaultAzureCredential, InteractiveBrowserCredential\n",
    "from azure.ai.ml import MLClient\n",
    "\n",
    "try:\n",
    "    credential=DefaultAzureCredential()\n",
    "    credential.get_token('https://management.azure.com/.default')\n",
    "except Exception :\n",
    "    credential=InteractiveBrowserCredential()\n",
    "client=MLClient.from_config(credential)"
   ]
  },
  {
   "cell_type": "code",
   "execution_count": null,
   "metadata": {},
   "outputs": [],
   "source": [
    "\n",
    "import pandas as pd \n",
    "from sklearn.model_selection import train_test_split\n",
    "from sklearn.tree import DecisionTreeClassifier\n",
    "from sklearn.metrics import accuracy_score, roc_auc_score, roc_curve\n",
    "from pathlib import Path\n",
    "from argparse import ArgumentParser\n",
    "import mlflow\n",
    "import matplotlib.pyplot as plt\n",
    "def parser():\n",
    "    parser=ArgumentParser()\n",
    "    parser.add_argument('--input_directory',dest='input_directory', type=str)\n",
    "    parser.add_argument('--max_depth', dest='max_depth', type=int, default=2)\n",
    "    parser.add_argument('--min_samples', dest='min_samples', type=int, default=2)\n",
    "    parser.add_argument('--test_size', dest='test_size', type=float)\n",
    "    parser.add_argument('--random_state', dest='random_state', type=int, default=42)\n",
    "    args=parser.parse_args()\n",
    "    return args\n",
    "\n",
    "def train(args):\n",
    "    mlflow.autolog()\n",
    "\n",
    "    df=pd.read_csv(args.input_directory)\n",
    "    X=df.drop('Outcome', axis=1)\n",
    "    y=df['Outcome']\n",
    "    DT=DecisionTreeClassifier(max_depth=args.max_depth, min_samples_split=args.min_samples)\n",
    "    X_train, X_test, y_train,y_test=train_test_split(X,y, test_size=args.test_size ,random_state=args.random_state)\n",
    "    model=DT.fit(X_train, y_train)\n",
    "    y_pred=model.predict(X_test)\n",
    "    y_pred_prob=model.predict_proba(X_test)[:,1]\n",
    "    accuracy=accuracy_score(y_test, y_pred)\n",
    "    #mlflow.log_metric('accuracy', accuracy)\n",
    "    roc_auc=roc_auc_score(y_test, y_pred_prob)\n",
    "    #mlflow.log_metric('roc_auc', roc_auc)\n",
    "    fpr,tpr,thresholds=roc_curve(y_test, y_pred_prob)\n",
    "    plt.plot(fpr,tpr)\n",
    "    plt.xlabel('FPR')\n",
    "    plt.ylabel('TPR')\n",
    "    plt.title('ROC Curve')\n",
    "    plt.savefig('roc_curve.png')\n",
    "    #mlflow.log_artifact('roc_curve.png')\n",
    "\n",
    "if __name__=='__main__':\n",
    "    args=parser()\n",
    "    train(args)\n",
    "\n",
    "\n",
    "\n",
    " \n"
   ]
  },
  {
   "cell_type": "code",
   "execution_count": 12,
   "metadata": {},
   "outputs": [
    {
     "data": {
      "text/plain": [
       "Data({'skip_validation': False, 'mltable_schema_url': None, 'referenced_uris': None, 'type': 'uri_file', 'is_anonymous': False, 'auto_increment_version': False, 'auto_delete_setting': None, 'name': 'diabetes-dataasset-hyperparam', 'description': 'data_loaded', 'tags': {}, 'properties': {}, 'print_as_yaml': True, 'id': '/subscriptions/7b1b43ca-4b64-43cf-9446-edb35a04d7d1/resourceGroups/rg01databricks/providers/Microsoft.MachineLearningServices/workspaces/ws-azureml-01/data/diabetes-dataasset-hyperparam/versions/1', 'Resource__source_path': None, 'base_path': '/mnt/batch/tasks/shared/LS_root/mounts/clusters/satyakebakshi951/code', 'creation_context': <azure.ai.ml.entities._system_data.SystemData object at 0x7f700ef925c0>, 'serialize': <msrest.serialization.Serializer object at 0x7f700ef923b0>, 'version': '1', 'latest_version': None, 'path': 'azureml://subscriptions/7b1b43ca-4b64-43cf-9446-edb35a04d7d1/resourcegroups/rg01databricks/workspaces/ws-azureml-01/datastores/workspaceblobstore/paths/LocalUpload/adb4e278e313ced34ce091a35316f5fd/diabetes.csv', 'datastore': None})"
      ]
     },
     "execution_count": 12,
     "metadata": {},
     "output_type": "execute_result"
    }
   ],
   "source": [
    "#add mlflow to yaml\n",
    "from azure.ai.ml.entities import Data \n",
    "from azure.ai.ml.constants import AssetTypes\n",
    "path='/home/azureuser/cloudfiles/code/src/scripts/diabetes.csv'\n",
    "data=Data(\n",
    "    path=path,\n",
    "    type=AssetTypes.URI_FILE,\n",
    "    description='data_loaded',\n",
    "    name='diabetes-dataasset-hyperparam'\n",
    ")\n",
    "client.data.create_or_update(data)"
   ]
  },
  {
   "cell_type": "code",
   "execution_count": 19,
   "metadata": {},
   "outputs": [
    {
     "data": {
      "text/plain": [
       "<azure.core.polling._poller.LROPoller at 0x7f700ef92aa0>"
      ]
     },
     "execution_count": 19,
     "metadata": {},
     "output_type": "execute_result"
    }
   ],
   "source": [
    "from azure.ai.ml.entities import AmlCompute\n",
    "compute=AmlCompute(\n",
    "    name='amlcompute1',\n",
    "    tier='LowPriority',\n",
    "    type='amlcompute',\n",
    "    size='STANDARD_D2_V2',\n",
    "    min_instances=1,\n",
    "    max_instances=2\n",
    ")\n",
    "client.compute.begin_create_or_update(compute)"
   ]
  },
  {
   "cell_type": "code",
   "execution_count": null,
   "metadata": {},
   "outputs": [],
   "source": [
    "job = command(\n",
    "    code=\"./src\",\n",
    "    command=\"python train.py --training_data {{inputs.reg_rate}}\",\n",
    "    inputs={\n",
    "        \"diabetes_data\": Input(\n",
    "            type=AssetTypes.URI_FILE, \n",
    "            path=\"azureml:diabetes-data:1\"\n",
    "            ),\n",
    "        \"reg_rate\": 0.01,\n",
    "    },\n",
    "    environment=\"AzureML-sklearn-0.24-ubuntu18.04-py37-cpu@latest\",\n",
    "    compute=\"aml-cluster\",\n",
    "    display_name=\"diabetes-train-mlflow\",\n",
    "    experiment_name=\"diabetes-training\", \n",
    "    tags={\"model_type\": \"LogisticRegression\"}\n",
    "    )"
   ]
  },
  {
   "cell_type": "code",
   "execution_count": 34,
   "metadata": {},
   "outputs": [
    {
     "name": "stdout",
     "output_type": "stream",
     "text": [
      "https://ml.azure.com/runs/sweet_hamster_qvdk29xmdn?wsid=/subscriptions/7b1b43ca-4b64-43cf-9446-edb35a04d7d1/resourcegroups/rg01databricks/workspaces/ws-azureml-01&tid=a287f42c-46eb-424f-ab40-cd784a7b423c\n"
     ]
    }
   ],
   "source": [
    "from azure.ai.ml import command \n",
    "from azure.ai.ml import Input\n",
    "inputs={\n",
    "    'diabetes_data':Input(\n",
    "        type=AssetTypes.URI_FILE,\n",
    "        path='azureml:diabetes-dataasset-hyperparam:1'\n",
    "    ), \n",
    "    'max_depth': 5,\n",
    "    'min_samples':5,\n",
    "    'test_size':0.5,}\n",
    "\n",
    "job=command(\n",
    "    display_name='non-hyperparameter-search-diabetes',\n",
    "    code='/home/azureuser/cloudfiles/code/src/scripts/',\n",
    "    description='hyperparameter tuning for diabetes dataset',\n",
    "    compute='amlcompute1',\n",
    "    command='python training_script.py --input_directory ${{inputs.diabetes_data}}  --max_depth ${{inputs.max_depth}} --min_samples ${{inputs.min_samples}} --test_size ${{inputs.test_size}} --random_state=42',\n",
    "    environment='env:4',\n",
    "    inputs={\n",
    "    'diabetes_data':Input(\n",
    "        type=AssetTypes.URI_FILE,\n",
    "        path='azureml:diabetes-dataasset-hyperparam:1'\n",
    "    ), \n",
    "    'max_depth': 5,\n",
    "    'min_samples':5,\n",
    "    'test_size':0.5,}\n",
    "\n",
    ")\n",
    "submitted_job=client.create_or_update(job)\n",
    "print(submitted_job.studio_url)"
   ]
  },
  {
   "cell_type": "code",
   "execution_count": 31,
   "metadata": {},
   "outputs": [
    {
     "data": {
      "text/plain": [
       "5"
      ]
     },
     "execution_count": 31,
     "metadata": {},
     "output_type": "execute_result"
    }
   ],
   "source": [
    "inputs['max_depth']\n"
   ]
  },
  {
   "cell_type": "code",
   "execution_count": null,
   "metadata": {},
   "outputs": [],
   "source": []
  },
  {
   "cell_type": "code",
   "execution_count": 42,
   "metadata": {},
   "outputs": [
    {
     "data": {
      "text/plain": [
       "'https://ml.azure.com/runs/dynamic_match_frvb070lzh?wsid=/subscriptions/7b1b43ca-4b64-43cf-9446-edb35a04d7d1/resourcegroups/rg01databricks/workspaces/ws-azureml-01&tid=a287f42c-46eb-424f-ab40-cd784a7b423c'"
      ]
     },
     "execution_count": 42,
     "metadata": {},
     "output_type": "execute_result"
    }
   ],
   "source": [
    "from azure.ai.ml.sweep import Choice\n",
    "command_job_for_sweep=job(\n",
    "    max_depth=Choice([2,3,4,5]),\n",
    "    min_samples=Choice([2,3,4,5]),\n",
    "    test_size=Choice([0.2,0.3,0.4])\n",
    ")\n",
    "sweep_job=command_job_for_sweep.sweep(\n",
    "    compute='amlcompute1',\n",
    "    sampling_algorithm='bayesian',\n",
    "    primary_metric='accuracy',\n",
    "    goal='maximize')\n",
    "sweep_job.experiment_name='sweep-diabetes-hyperparameter'\n",
    "sweep_job.set_limits(max_total_trials=4, max_concurrent_trials=2, timeout=1200)\n",
    "\n",
    "sweep_submit=client.create_or_update(sweep_job)\n",
    "sweep_submit.studio_url\n"
   ]
  },
  {
   "cell_type": "markdown",
   "metadata": {},
   "source": []
  },
  {
   "cell_type": "code",
   "execution_count": null,
   "metadata": {},
   "outputs": [],
   "source": []
  }
 ],
 "metadata": {
  "kernelspec": {
   "display_name": "Python 3.10 - SDK v2",
   "language": "python",
   "name": "python310-sdkv2"
  },
  "language_info": {
   "codemirror_mode": {
    "name": "ipython",
    "version": 3
   },
   "file_extension": ".py",
   "mimetype": "text/x-python",
   "name": "python",
   "nbconvert_exporter": "python",
   "pygments_lexer": "ipython3",
   "version": "3.10.11"
  }
 },
 "nbformat": 4,
 "nbformat_minor": 2
}
