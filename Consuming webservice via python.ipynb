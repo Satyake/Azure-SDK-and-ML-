{
 "cells": [
  {
   "cell_type": "code",
   "execution_count": 2,
   "metadata": {},
   "outputs": [
    {
     "name": "stderr",
     "output_type": "stream",
     "text": [
      "Failure while loading azureml_run_type_providers. Failed to load entrypoint hyperdrive = azureml.train.hyperdrive:HyperDriveRun._from_run_dto with exception (azureml-core 1.44.0 (c:\\users\\satya\\anaconda3\\envs\\tf-gpu-cuda8\\lib\\site-packages), Requirement.parse('azureml-core~=1.43.0')).\n",
      "Failure while loading azureml_run_type_providers. Failed to load entrypoint automl = azureml.train.automl.run:AutoMLRun._from_run_dto with exception (azureml-core 1.44.0 (c:\\users\\satya\\anaconda3\\envs\\tf-gpu-cuda8\\lib\\site-packages), Requirement.parse('azureml-core~=1.43.0')).\n",
      "Failure while loading azureml_run_type_providers. Failed to load entrypoint azureml.PipelineRun = azureml.pipeline.core.run:PipelineRun._from_dto with exception (azureml-core 1.44.0 (c:\\users\\satya\\anaconda3\\envs\\tf-gpu-cuda8\\lib\\site-packages), Requirement.parse('azureml-core~=1.43.0')).\n",
      "Failure while loading azureml_run_type_providers. Failed to load entrypoint azureml.ReusedStepRun = azureml.pipeline.core.run:StepRun._from_reused_dto with exception (azureml-core 1.44.0 (c:\\users\\satya\\anaconda3\\envs\\tf-gpu-cuda8\\lib\\site-packages), Requirement.parse('azureml-core~=1.43.0')).\n",
      "Failure while loading azureml_run_type_providers. Failed to load entrypoint azureml.StepRun = azureml.pipeline.core.run:StepRun._from_dto with exception (azureml-core 1.44.0 (c:\\users\\satya\\anaconda3\\envs\\tf-gpu-cuda8\\lib\\site-packages), Requirement.parse('azureml-core~=1.43.0')).\n"
     ]
    }
   ],
   "source": [
    "from azureml.core import Workspace, Experiment, Run,Datastore, Dataset,Environment,Model\n",
    "from azureml.core.compute import AksCompute, ComputeTarget\n",
    "#import condadependencies\n",
    "from azureml.core.environment import CondaDependencies\n",
    "import joblib\n",
    "from azureml.core.model import InferenceConfig\n",
    "#import akswebservice\n",
    "import pandas as pd \n",
    "from azureml.core.webservice import AksWebservice"
   ]
  },
  {
   "cell_type": "code",
   "execution_count": 5,
   "metadata": {},
   "outputs": [],
   "source": [
    "ws=Workspace.from_config(\"C:/Users/satya/Downloads/Azure/config.json\")\n",
    "services=ws.webservices['adultincomeservice']"
   ]
  },
  {
   "cell_type": "code",
   "execution_count": 12,
   "metadata": {},
   "outputs": [],
   "source": [
    "import json\n",
    "x_new={'age':[46],\n",
    "'wc':['Private'],\n",
    "'education':['Masters'],\n",
    "'marital status':['Married'],\n",
    "'race':['White'],\n",
    "'gender':['Male'],\n",
    "'hours per week':[60]\n",
    "}\n",
    "#convert the dictionary to json\n",
    "json_data=json.dumps({\"data\":x_new})"
   ]
  },
  {
   "cell_type": "code",
   "execution_count": 13,
   "metadata": {},
   "outputs": [
    {
     "data": {
      "text/plain": [
       "'{\"data\": {\"age\": [46], \"wc\": [\"Private\"], \"education\": [\"Masters\"], \"marital status\": [\"Married\"], \"race\": [\"White\"], \"gender\": [\"Male\"], \"hours per week\": [60]}}'"
      ]
     },
     "execution_count": 13,
     "metadata": {},
     "output_type": "execute_result"
    }
   ],
   "source": [
    "json_data"
   ]
  },
  {
   "cell_type": "code",
   "execution_count": 14,
   "metadata": {},
   "outputs": [
    {
     "name": "stdout",
     "output_type": "stream",
     "text": [
      "['Less than 50k']\n"
     ]
    }
   ],
   "source": [
    "response=services.run(input_data=json_data)\n",
    "predicted_classes=json.loads(response)\n",
    "print(predicted_classes)"
   ]
  }
 ],
 "metadata": {
  "kernelspec": {
   "display_name": "Python 3.7.0 ('tf-gpu-cuda8')",
   "language": "python",
   "name": "python3"
  },
  "language_info": {
   "codemirror_mode": {
    "name": "ipython",
    "version": 3
   },
   "file_extension": ".py",
   "mimetype": "text/x-python",
   "name": "python",
   "nbconvert_exporter": "python",
   "pygments_lexer": "ipython3",
   "version": "3.7.0"
  },
  "orig_nbformat": 4,
  "vscode": {
   "interpreter": {
    "hash": "03f4ac3119e2450266d45ef487def59165e9739e84fca1acfa1dc135d1f5e0c7"
   }
  }
 },
 "nbformat": 4,
 "nbformat_minor": 2
}
