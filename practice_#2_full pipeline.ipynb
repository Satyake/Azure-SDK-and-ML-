{
 "cells": [
  {
   "cell_type": "code",
   "execution_count": 1,
   "metadata": {},
   "outputs": [
    {
     "name": "stderr",
     "output_type": "stream",
     "text": [
      "Failure while loading azureml_run_type_providers. Failed to load entrypoint hyperdrive = azureml.train.hyperdrive:HyperDriveRun._from_run_dto with exception (pywin32 302 (c:\\users\\satya\\anaconda3\\envs\\tf-gpu-cuda8\\lib\\site-packages), Requirement.parse('pywin32==227; sys_platform == \"win32\"'), {'docker'}).\n",
      "Failure while loading azureml_run_type_providers. Failed to load entrypoint automl = azureml.train.automl.run:AutoMLRun._from_run_dto with exception (pywin32 302 (c:\\users\\satya\\anaconda3\\envs\\tf-gpu-cuda8\\lib\\site-packages), Requirement.parse('pywin32==227; sys_platform == \"win32\"'), {'docker'}).\n",
      "Failure while loading azureml_run_type_providers. Failed to load entrypoint azureml.PipelineRun = azureml.pipeline.core.run:PipelineRun._from_dto with exception (pywin32 302 (c:\\users\\satya\\anaconda3\\envs\\tf-gpu-cuda8\\lib\\site-packages), Requirement.parse('pywin32==227; sys_platform == \"win32\"'), {'docker'}).\n",
      "Failure while loading azureml_run_type_providers. Failed to load entrypoint azureml.ReusedStepRun = azureml.pipeline.core.run:StepRun._from_reused_dto with exception (pywin32 302 (c:\\users\\satya\\anaconda3\\envs\\tf-gpu-cuda8\\lib\\site-packages), Requirement.parse('pywin32==227; sys_platform == \"win32\"'), {'docker'}).\n",
      "Failure while loading azureml_run_type_providers. Failed to load entrypoint azureml.StepRun = azureml.pipeline.core.run:StepRun._from_dto with exception (pywin32 302 (c:\\users\\satya\\anaconda3\\envs\\tf-gpu-cuda8\\lib\\site-packages), Requirement.parse('pywin32==227; sys_platform == \"win32\"'), {'docker'}).\n",
      "Failure while loading azureml_run_type_providers. Failed to load entrypoint azureml.scriptrun = azureml.core.script_run:ScriptRun._from_run_dto with exception (pywin32 302 (c:\\users\\satya\\anaconda3\\envs\\tf-gpu-cuda8\\lib\\site-packages), Requirement.parse('pywin32==227; sys_platform == \"win32\"'), {'docker'}).\n"
     ]
    }
   ],
   "source": [
    "# Full ML pipeline for AZUREML\n",
    "\n",
    "from azureml.core import Workspace, Experiment, Run,Datastore,Dataset, Run, Environment\n",
    "from azureml.pipeline.core import Pipeline, PipelineData\n",
    "from azureml.pipeline.steps import PythonScriptStep\n",
    "from azureml.core import RunConfiguration"
   ]
  },
  {
   "cell_type": "code",
   "execution_count": 2,
   "metadata": {},
   "outputs": [],
   "source": [
    "#ws=Workspace.create(name='defaultscredits', subscription_id='7b1b43ca-4b64-43cf-9446-edb35a04d7d1', resource_group='defaultsrg01', location='eastus')\n",
    "ws=Workspace.from_config(path='C:/Users/satya/Downloads/Azure/config.json')"
   ]
  },
  {
   "cell_type": "code",
   "execution_count": 7,
   "metadata": {},
   "outputs": [],
   "source": [
    "external_datastore_access=Datastore.register_azure_blob_container(ws,'creditdatastore',container_name='credit',account_key='xNVGcQcEXvuuJoWfBpTVpaCAg5ccuwSU4+OObAa0q+M30pif/eZXTrIXQLY9g+eWqDTLxZ8XoRdB+AStzYaxtQ==',account_name='creditstorage12')"
   ]
  },
  {
   "cell_type": "code",
   "execution_count": 3,
   "metadata": {},
   "outputs": [],
   "source": [
    "external_datastore=Datastore.get(ws, 'creditdatastore')\n",
    "csv=[(external_datastore,'UCI_Credit_Card.csv')]\n",
    "credit_dataset=Dataset.Tabular.from_delimited_files(csv)\n",
    "credit_dataset=credit_dataset.register(ws,credit_dataset,'credit_dataset')"
   ]
  },
  {
   "cell_type": "code",
   "execution_count": 5,
   "metadata": {},
   "outputs": [
    {
     "data": {
      "text/html": [
       "<div>\n",
       "<style scoped>\n",
       "    .dataframe tbody tr th:only-of-type {\n",
       "        vertical-align: middle;\n",
       "    }\n",
       "\n",
       "    .dataframe tbody tr th {\n",
       "        vertical-align: top;\n",
       "    }\n",
       "\n",
       "    .dataframe thead th {\n",
       "        text-align: right;\n",
       "    }\n",
       "</style>\n",
       "<table border=\"1\" class=\"dataframe\">\n",
       "  <thead>\n",
       "    <tr style=\"text-align: right;\">\n",
       "      <th></th>\n",
       "      <th>ID</th>\n",
       "      <th>LIMIT_BAL</th>\n",
       "      <th>SEX</th>\n",
       "      <th>EDUCATION</th>\n",
       "      <th>MARRIAGE</th>\n",
       "      <th>AGE</th>\n",
       "      <th>PAY_0</th>\n",
       "      <th>PAY_2</th>\n",
       "      <th>PAY_3</th>\n",
       "      <th>PAY_4</th>\n",
       "      <th>...</th>\n",
       "      <th>BILL_AMT4</th>\n",
       "      <th>BILL_AMT5</th>\n",
       "      <th>BILL_AMT6</th>\n",
       "      <th>PAY_AMT1</th>\n",
       "      <th>PAY_AMT2</th>\n",
       "      <th>PAY_AMT3</th>\n",
       "      <th>PAY_AMT4</th>\n",
       "      <th>PAY_AMT5</th>\n",
       "      <th>PAY_AMT6</th>\n",
       "      <th>default.payment.next.month</th>\n",
       "    </tr>\n",
       "  </thead>\n",
       "  <tbody>\n",
       "    <tr>\n",
       "      <th>0</th>\n",
       "      <td>1</td>\n",
       "      <td>20000.0</td>\n",
       "      <td>2</td>\n",
       "      <td>2</td>\n",
       "      <td>1</td>\n",
       "      <td>24</td>\n",
       "      <td>2</td>\n",
       "      <td>2</td>\n",
       "      <td>-1</td>\n",
       "      <td>-1</td>\n",
       "      <td>...</td>\n",
       "      <td>0.0</td>\n",
       "      <td>0.0</td>\n",
       "      <td>0.0</td>\n",
       "      <td>0.0</td>\n",
       "      <td>689.0</td>\n",
       "      <td>0.0</td>\n",
       "      <td>0.0</td>\n",
       "      <td>0.0</td>\n",
       "      <td>0.0</td>\n",
       "      <td>1</td>\n",
       "    </tr>\n",
       "  </tbody>\n",
       "</table>\n",
       "<p>1 rows × 25 columns</p>\n",
       "</div>"
      ],
      "text/plain": [
       "   ID  LIMIT_BAL  SEX  EDUCATION  MARRIAGE  AGE  PAY_0  PAY_2  PAY_3  PAY_4  \\\n",
       "0   1    20000.0    2          2         1   24      2      2     -1     -1   \n",
       "\n",
       "   ...  BILL_AMT4  BILL_AMT5  BILL_AMT6  PAY_AMT1  PAY_AMT2  PAY_AMT3  \\\n",
       "0  ...        0.0        0.0        0.0       0.0     689.0       0.0   \n",
       "\n",
       "   PAY_AMT4  PAY_AMT5  PAY_AMT6  default.payment.next.month  \n",
       "0       0.0       0.0       0.0                           1  \n",
       "\n",
       "[1 rows x 25 columns]"
      ]
     },
     "execution_count": 5,
     "metadata": {},
     "output_type": "execute_result"
    }
   ],
   "source": [
    "#checks to ensure azure dataset is correctly loaded\n",
    "credit_dataset.to_pandas_dataframe().head(1)"
   ]
  },
  {
   "cell_type": "code",
   "execution_count": 4,
   "metadata": {},
   "outputs": [],
   "source": [
    "from azureml.pipeline.steps import PythonScriptStep\n"
   ]
  },
  {
   "cell_type": "code",
   "execution_count": 5,
   "metadata": {},
   "outputs": [
    {
     "data": {
      "text/plain": [
       "{\n",
       "    \"databricks\": {\n",
       "        \"eggLibraries\": [],\n",
       "        \"jarLibraries\": [],\n",
       "        \"mavenLibraries\": [],\n",
       "        \"pypiLibraries\": [],\n",
       "        \"rcranLibraries\": []\n",
       "    },\n",
       "    \"docker\": {\n",
       "        \"arguments\": [],\n",
       "        \"baseDockerfile\": null,\n",
       "        \"baseImage\": \"mcr.microsoft.com/azureml/openmpi4.1.0-ubuntu20.04:20220616.v1\",\n",
       "        \"baseImageRegistry\": {\n",
       "            \"address\": null,\n",
       "            \"password\": null,\n",
       "            \"registryIdentity\": null,\n",
       "            \"username\": null\n",
       "        },\n",
       "        \"enabled\": false,\n",
       "        \"platform\": {\n",
       "            \"architecture\": \"amd64\",\n",
       "            \"os\": \"Linux\"\n",
       "        },\n",
       "        \"sharedVolumes\": true,\n",
       "        \"shmSize\": null\n",
       "    },\n",
       "    \"environmentVariables\": {\n",
       "        \"EXAMPLE_ENV_VAR\": \"EXAMPLE_VALUE\"\n",
       "    },\n",
       "    \"inferencingStackVersion\": null,\n",
       "    \"name\": \"myenv\",\n",
       "    \"python\": {\n",
       "        \"baseCondaEnvironment\": null,\n",
       "        \"condaDependencies\": {\n",
       "            \"channels\": [\n",
       "                \"anaconda\",\n",
       "                \"conda-forge\"\n",
       "            ],\n",
       "            \"dependencies\": [\n",
       "                \"python=3.8.13\",\n",
       "                {\n",
       "                    \"pip\": [\n",
       "                        \"azureml-defaults~=1.43.0\"\n",
       "                    ]\n",
       "                },\n",
       "                \"numpy\",\n",
       "                \"pandas\",\n",
       "                \"scikit-learn\"\n",
       "            ],\n",
       "            \"name\": \"project_environment\"\n",
       "        },\n",
       "        \"condaDependenciesFile\": null,\n",
       "        \"interpreterPath\": \"python\",\n",
       "        \"userManagedDependencies\": false\n",
       "    },\n",
       "    \"r\": null,\n",
       "    \"spark\": {\n",
       "        \"packages\": [],\n",
       "        \"precachePackages\": true,\n",
       "        \"repositories\": []\n",
       "    },\n",
       "    \"version\": \"1\"\n",
       "}"
      ]
     },
     "execution_count": 5,
     "metadata": {},
     "output_type": "execute_result"
    }
   ],
   "source": [
    "from azureml.core.runconfig import RunConfiguration\n",
    "#import CondaDependencies\n",
    "from azureml.core.conda_dependencies import CondaDependencies\n",
    "\n",
    "\n",
    "myenv=Environment(name='myenv')\n",
    "dep=CondaDependencies.create(conda_packages=['numpy','pandas','scikit-learn'])\n",
    "myenv.python.conda_dependencies=dep\n",
    "myenv.register(ws)"
   ]
  },
  {
   "cell_type": "code",
   "execution_count": 1,
   "metadata": {},
   "outputs": [
    {
     "name": "stderr",
     "output_type": "stream",
     "text": [
      "Failure while loading azureml_run_type_providers. Failed to load entrypoint hyperdrive = azureml.train.hyperdrive:HyperDriveRun._from_run_dto with exception (pywin32 302 (c:\\users\\satya\\anaconda3\\envs\\tf-gpu-cuda8\\lib\\site-packages), Requirement.parse('pywin32==227; sys_platform == \"win32\"'), {'docker'}).\n",
      "Failure while loading azureml_run_type_providers. Failed to load entrypoint automl = azureml.train.automl.run:AutoMLRun._from_run_dto with exception (pywin32 302 (c:\\users\\satya\\anaconda3\\envs\\tf-gpu-cuda8\\lib\\site-packages), Requirement.parse('pywin32==227; sys_platform == \"win32\"'), {'docker'}).\n",
      "Failure while loading azureml_run_type_providers. Failed to load entrypoint azureml.PipelineRun = azureml.pipeline.core.run:PipelineRun._from_dto with exception (pywin32 302 (c:\\users\\satya\\anaconda3\\envs\\tf-gpu-cuda8\\lib\\site-packages), Requirement.parse('pywin32==227; sys_platform == \"win32\"'), {'docker'}).\n",
      "Failure while loading azureml_run_type_providers. Failed to load entrypoint azureml.ReusedStepRun = azureml.pipeline.core.run:StepRun._from_reused_dto with exception (pywin32 302 (c:\\users\\satya\\anaconda3\\envs\\tf-gpu-cuda8\\lib\\site-packages), Requirement.parse('pywin32==227; sys_platform == \"win32\"'), {'docker'}).\n",
      "Failure while loading azureml_run_type_providers. Failed to load entrypoint azureml.StepRun = azureml.pipeline.core.run:StepRun._from_dto with exception (pywin32 302 (c:\\users\\satya\\anaconda3\\envs\\tf-gpu-cuda8\\lib\\site-packages), Requirement.parse('pywin32==227; sys_platform == \"win32\"'), {'docker'}).\n",
      "Failure while loading azureml_run_type_providers. Failed to load entrypoint azureml.scriptrun = azureml.core.script_run:ScriptRun._from_run_dto with exception (pywin32 302 (c:\\users\\satya\\anaconda3\\envs\\tf-gpu-cuda8\\lib\\site-packages), Requirement.parse('pywin32==227; sys_platform == \"win32\"'), {'docker'}).\n"
     ]
    },
    {
     "ename": "ComputeTargetException",
     "evalue": "ComputeTargetException:\n\tMessage: Invalid provisioning configuration, max nodes count is mandatory\n\tInnerException None\n\tErrorResponse \n{\n    \"error\": {\n        \"message\": \"Invalid provisioning configuration, max nodes count is mandatory\"\n    }\n}",
     "output_type": "error",
     "traceback": [
      "\u001b[1;31m---------------------------------------------------------------------------\u001b[0m",
      "\u001b[1;31mComputeTargetException\u001b[0m                    Traceback (most recent call last)",
      "\u001b[1;32m<ipython-input-1-4ceffe24167c>\u001b[0m in \u001b[0;36m<module>\u001b[1;34m\u001b[0m\n\u001b[0;32m      4\u001b[0m \u001b[1;32mfrom\u001b[0m \u001b[0mazureml\u001b[0m\u001b[1;33m.\u001b[0m\u001b[0mpipeline\u001b[0m\u001b[1;33m.\u001b[0m\u001b[0msteps\u001b[0m \u001b[1;32mimport\u001b[0m \u001b[0mPythonScriptStep\u001b[0m\u001b[1;33m\u001b[0m\u001b[0m\n\u001b[0;32m      5\u001b[0m \u001b[0mcluster_name\u001b[0m\u001b[1;33m=\u001b[0m\u001b[1;34m'amlcompute1'\u001b[0m\u001b[1;33m\u001b[0m\u001b[0m\n\u001b[1;32m----> 6\u001b[1;33m \u001b[0mcluster_config\u001b[0m\u001b[1;33m=\u001b[0m\u001b[0mAmlCompute\u001b[0m\u001b[1;33m.\u001b[0m\u001b[0mprovisioning_configuration\u001b[0m\u001b[1;33m(\u001b[0m\u001b[0mvm_size\u001b[0m\u001b[1;33m=\u001b[0m\u001b[1;34m'Standard_D4as_v4'\u001b[0m\u001b[1;33m)\u001b[0m\u001b[1;33m\u001b[0m\u001b[0m\n\u001b[0m\u001b[0;32m      7\u001b[0m \u001b[0mcluster\u001b[0m\u001b[1;33m=\u001b[0m\u001b[0mAmlCompute\u001b[0m\u001b[1;33m.\u001b[0m\u001b[0mcreate\u001b[0m\u001b[1;33m(\u001b[0m\u001b[0mws\u001b[0m\u001b[1;33m,\u001b[0m\u001b[0mcluster_name\u001b[0m\u001b[1;33m,\u001b[0m\u001b[0mcluster_config\u001b[0m\u001b[1;33m)\u001b[0m\u001b[1;33m\u001b[0m\u001b[0m\n",
      "\u001b[1;32mc:\\Users\\satya\\anaconda3\\envs\\tf-gpu-cuda8\\lib\\site-packages\\azureml\\core\\compute\\amlcompute.py\u001b[0m in \u001b[0;36mprovisioning_configuration\u001b[1;34m(vm_size, vm_priority, min_nodes, max_nodes, idle_seconds_before_scaledown, admin_username, admin_user_password, admin_user_ssh_key, vnet_resourcegroup_name, vnet_name, subnet_name, tags, description, remote_login_port_public_access, identity_type, identity_id, location, enable_node_public_ip)\u001b[0m\n\u001b[0;32m    259\u001b[0m                                                      \u001b[0mvnet_resourcegroup_name\u001b[0m\u001b[1;33m,\u001b[0m \u001b[0mvnet_name\u001b[0m\u001b[1;33m,\u001b[0m \u001b[0msubnet_name\u001b[0m\u001b[1;33m,\u001b[0m\u001b[1;33m\u001b[0m\u001b[0m\n\u001b[0;32m    260\u001b[0m                                                      \u001b[0mtags\u001b[0m\u001b[1;33m,\u001b[0m \u001b[0mdescription\u001b[0m\u001b[1;33m,\u001b[0m \u001b[0mremote_login_port_public_access\u001b[0m\u001b[1;33m,\u001b[0m\u001b[1;33m\u001b[0m\u001b[0m\n\u001b[1;32m--> 261\u001b[1;33m                                                      identity_type, identity_id, location, enable_node_public_ip)\n\u001b[0m\u001b[0;32m    262\u001b[0m         \u001b[1;32mreturn\u001b[0m \u001b[0mconfig\u001b[0m\u001b[1;33m\u001b[0m\u001b[0m\n\u001b[0;32m    263\u001b[0m \u001b[1;33m\u001b[0m\u001b[0m\n",
      "\u001b[1;32mc:\\Users\\satya\\anaconda3\\envs\\tf-gpu-cuda8\\lib\\site-packages\\azureml\\core\\compute\\amlcompute.py\u001b[0m in \u001b[0;36m__init__\u001b[1;34m(self, vm_size, vm_priority, min_nodes, max_nodes, idle_seconds_before_scaledown, admin_username, admin_user_password, admin_user_ssh_key, vnet_resourcegroup_name, vnet_name, subnet_name, tags, description, remote_login_port_public_access, identity_type, identity_id, compute_location, enable_node_public_ip)\u001b[0m\n\u001b[0;32m   1245\u001b[0m         \u001b[0mself\u001b[0m\u001b[1;33m.\u001b[0m\u001b[0mcompute_location\u001b[0m \u001b[1;33m=\u001b[0m \u001b[0mcompute_location\u001b[0m\u001b[1;33m\u001b[0m\u001b[0m\n\u001b[0;32m   1246\u001b[0m         \u001b[0mself\u001b[0m\u001b[1;33m.\u001b[0m\u001b[0menable_node_public_ip\u001b[0m \u001b[1;33m=\u001b[0m \u001b[0menable_node_public_ip\u001b[0m\u001b[1;33m\u001b[0m\u001b[0m\n\u001b[1;32m-> 1247\u001b[1;33m         \u001b[0mself\u001b[0m\u001b[1;33m.\u001b[0m\u001b[0mvalidate_configuration\u001b[0m\u001b[1;33m(\u001b[0m\u001b[1;33m)\u001b[0m\u001b[1;33m\u001b[0m\u001b[0m\n\u001b[0m\u001b[0;32m   1248\u001b[0m \u001b[1;33m\u001b[0m\u001b[0m\n\u001b[0;32m   1249\u001b[0m     \u001b[1;32mdef\u001b[0m \u001b[0mvalidate_configuration\u001b[0m\u001b[1;33m(\u001b[0m\u001b[0mself\u001b[0m\u001b[1;33m)\u001b[0m\u001b[1;33m:\u001b[0m\u001b[1;33m\u001b[0m\u001b[0m\n",
      "\u001b[1;32mc:\\Users\\satya\\anaconda3\\envs\\tf-gpu-cuda8\\lib\\site-packages\\azureml\\core\\compute\\amlcompute.py\u001b[0m in \u001b[0;36mvalidate_configuration\u001b[1;34m(self)\u001b[0m\n\u001b[0;32m   1275\u001b[0m                                          'group and subnet name')\n\u001b[0;32m   1276\u001b[0m         \u001b[1;32mif\u001b[0m \u001b[0mself\u001b[0m\u001b[1;33m.\u001b[0m\u001b[0mscale_settings\u001b[0m\u001b[1;33m.\u001b[0m\u001b[0mmaximum_node_count\u001b[0m \u001b[1;32mis\u001b[0m \u001b[1;32mNone\u001b[0m\u001b[1;33m:\u001b[0m\u001b[1;33m\u001b[0m\u001b[0m\n\u001b[1;32m-> 1277\u001b[1;33m             \u001b[1;32mraise\u001b[0m \u001b[0mComputeTargetException\u001b[0m\u001b[1;33m(\u001b[0m\u001b[1;34m'Invalid provisioning configuration, max nodes count is mandatory'\u001b[0m\u001b[1;33m)\u001b[0m\u001b[1;33m\u001b[0m\u001b[0m\n\u001b[0m\u001b[0;32m   1278\u001b[0m         \u001b[1;32melif\u001b[0m \u001b[0mself\u001b[0m\u001b[1;33m.\u001b[0m\u001b[0mscale_settings\u001b[0m\u001b[1;33m.\u001b[0m\u001b[0mmaximum_node_count\u001b[0m \u001b[1;33m<\u001b[0m \u001b[1;36m0\u001b[0m\u001b[1;33m:\u001b[0m\u001b[1;33m\u001b[0m\u001b[0m\n\u001b[0;32m   1279\u001b[0m             raise ComputeTargetException('Invalid provisioning configuration, max nodes count must be greater '\n",
      "\u001b[1;31mComputeTargetException\u001b[0m: ComputeTargetException:\n\tMessage: Invalid provisioning configuration, max nodes count is mandatory\n\tInnerException None\n\tErrorResponse \n{\n    \"error\": {\n        \"message\": \"Invalid provisioning configuration, max nodes count is mandatory\"\n    }\n}"
     ]
    }
   ],
   "source": [
    "#impport AMLCompute\n",
    "from azureml.core.compute import ComputeTarget, AmlCompute\n",
    "#import PythonScriptStep\n",
    "from azureml.pipeline.steps import PythonScriptStep\n",
    "cluster_name='amlcompute1'\n",
    "cluster_config=AmlCompute.provisioning_configuration(vm_size='Standard_D4as_v4',max_nodes=1)\n",
    "cluster=AmlCompute.create(ws,cluster_name,cluster_config)"
   ]
  },
  {
   "cell_type": "code",
   "execution_count": null,
   "metadata": {},
   "outputs": [],
   "source": []
  },
  {
   "cell_type": "code",
   "execution_count": 7,
   "metadata": {},
   "outputs": [],
   "source": [
    "#runconfigs\n",
    "run_config=RunConfiguration()\n",
    "run_config.target=cluster\n",
    "run_config.environment=myenv"
   ]
  },
  {
   "cell_type": "code",
   "execution_count": 17,
   "metadata": {},
   "outputs": [],
   "source": [
    "#creating a reference datafolder\n",
    "datafolder=PipelineData('datafolder',datastore=external_datastore)\n",
    "\n",
    "data_step=PythonScriptStep(name=\"preparation\", source_directory='.',script_name='prep1.py',runconfig=run_config,inputs=[credit_dataset.as_named_input('raw_data')],outputs=[datafolder],arguments=['--datafolder',datafolder])\n",
    "train_step=PythonScriptStep(name='training',source_directory='.',script_name='train1.py',runconfig=run_config,inputs=[datafolder],arguments=['--datafolder',datafolder])\n",
    "\n"
   ]
  },
  {
   "cell_type": "code",
   "execution_count": 18,
   "metadata": {},
   "outputs": [
    {
     "name": "stdout",
     "output_type": "stream",
     "text": [
      "Created step preparation [d17b009f][721ac420-c44d-4c40-9bb8-cdf9e45e2545], (This step will run and generate new outputs)\n",
      "Created step training [0412b06c][f1586355-7f09-43ef-9902-40d960f6a4fe], (This step will run and generate new outputs)\n",
      "Submitted PipelineRun d1be6e69-b8bb-42b5-ad1d-7010e55539bd\n",
      "Link to Azure Machine Learning Portal: https://ml.azure.com/runs/d1be6e69-b8bb-42b5-ad1d-7010e55539bd?wsid=/subscriptions/7b1b43ca-4b64-43cf-9446-edb35a04d7d1/resourcegroups/defaultsrg01/workspaces/defaultscredits&tid=a287f42c-46eb-424f-ab40-cd784a7b423c\n",
      "PipelineRunId: d1be6e69-b8bb-42b5-ad1d-7010e55539bd\n",
      "Link to Azure Machine Learning Portal: https://ml.azure.com/runs/d1be6e69-b8bb-42b5-ad1d-7010e55539bd?wsid=/subscriptions/7b1b43ca-4b64-43cf-9446-edb35a04d7d1/resourcegroups/defaultsrg01/workspaces/defaultscredits&tid=a287f42c-46eb-424f-ab40-cd784a7b423c\n",
      "PipelineRun Status: Running\n"
     ]
    },
    {
     "name": "stderr",
     "output_type": "stream",
     "text": [
      "Expected a StepRun object but received <class 'azureml.core.run.Run'> instead.\n",
      "This usually indicates a package conflict with one of the dependencies of azureml-core or azureml-pipeline-core.\n",
      "Please check for package conflicts in your python environment\n"
     ]
    },
    {
     "name": "stdout",
     "output_type": "stream",
     "text": [
      "\n",
      "\n",
      "\n"
     ]
    },
    {
     "name": "stderr",
     "output_type": "stream",
     "text": [
      "Expected a StepRun object but received <class 'azureml.core.run.Run'> instead.\n",
      "This usually indicates a package conflict with one of the dependencies of azureml-core or azureml-pipeline-core.\n",
      "Please check for package conflicts in your python environment\n"
     ]
    },
    {
     "name": "stdout",
     "output_type": "stream",
     "text": [
      "\n",
      "\n"
     ]
    },
    {
     "ename": "",
     "evalue": "",
     "output_type": "error",
     "traceback": [
      "The Kernel crashed while executing code in the the current cell or a previous cell. Please review the code in the cell(s) to identify a possible cause of the failure. Click <a href='https://aka.ms/vscodeJupyterKernelCrash'>here</a> for more info. View Jupyter <a href='command:jupyter.viewOutput'>log</a> for further details."
     ]
    }
   ],
   "source": [
    "steps=[data_step,train_step]\n",
    "experiment=Experiment(ws,'credit_pipeline_experiment')\n",
    "pipeline_credit=Pipeline(ws,steps=steps)\n",
    "run_submit=experiment.submit(pipeline_credit)\n",
    "run_submit.wait_for_completion(show_output=True)"
   ]
  },
  {
   "cell_type": "code",
   "execution_count": 8,
   "metadata": {},
   "outputs": [],
   "source": [
    "# import automlconfig\n",
    "from azureml.train.automl import AutoMLConfig"
   ]
  },
  {
   "cell_type": "code",
   "execution_count": 9,
   "metadata": {},
   "outputs": [],
   "source": [
    "automl_config=AutoMLConfig(task='classification', \n",
    "compute_target=cluster,\n",
    "training_data=credit_dataset,\n",
    "validation_size=0.3,\n",
    "label_column_name='default.payment.next.month',\n",
    "primary_metric='accuracy',\n",
    "iterations=10,\n",
    "max_concurrent_iterations=2, experiment_timeout_hours=0.25, featurization='auto')\n",
    "\n"
   ]
  },
  {
   "cell_type": "code",
   "execution_count": 10,
   "metadata": {},
   "outputs": [
    {
     "name": "stdout",
     "output_type": "stream",
     "text": [
      "Submitting remote run.\n"
     ]
    },
    {
     "data": {
      "text/html": [
       "<table style=\"width:100%\"><tr><th>Experiment</th><th>Id</th><th>Type</th><th>Status</th><th>Details Page</th><th>Docs Page</th></tr><tr><td>credit_automl_experiment</td><td>AutoML_27a228e2-7485-4cd2-b961-70749e5dba68</td><td>automl</td><td>NotStarted</td><td><a href=\"https://ml.azure.com/runs/AutoML_27a228e2-7485-4cd2-b961-70749e5dba68?wsid=/subscriptions/7b1b43ca-4b64-43cf-9446-edb35a04d7d1/resourcegroups/defaultsrg01/workspaces/defaultscredits&amp;tid=a287f42c-46eb-424f-ab40-cd784a7b423c\" target=\"_blank\" rel=\"noopener\">Link to Azure Machine Learning studio</a></td><td><a href=\"https://docs.microsoft.com/en-us/python/api/overview/azure/ml/intro?view=azure-ml-py\" target=\"_blank\" rel=\"noopener\">Link to Documentation</a></td></tr></table>"
      ],
      "text/plain": [
       "<IPython.core.display.HTML object>"
      ]
     },
     "metadata": {},
     "output_type": "display_data"
    },
    {
     "data": {
      "text/html": [
       "<table style=\"width:100%\"><tr><th>Experiment</th><th>Id</th><th>Type</th><th>Status</th><th>Details Page</th><th>Docs Page</th></tr><tr><td>credit_automl_experiment</td><td>AutoML_27a228e2-7485-4cd2-b961-70749e5dba68</td><td>automl</td><td>NotStarted</td><td><a href=\"https://ml.azure.com/runs/AutoML_27a228e2-7485-4cd2-b961-70749e5dba68?wsid=/subscriptions/7b1b43ca-4b64-43cf-9446-edb35a04d7d1/resourcegroups/defaultsrg01/workspaces/defaultscredits&amp;tid=a287f42c-46eb-424f-ab40-cd784a7b423c\" target=\"_blank\" rel=\"noopener\">Link to Azure Machine Learning studio</a></td><td><a href=\"https://docs.microsoft.com/en-us/python/api/overview/azure/ml/intro?view=azure-ml-py\" target=\"_blank\" rel=\"noopener\">Link to Documentation</a></td></tr></table>"
      ],
      "text/plain": [
       "<IPython.core.display.HTML object>"
      ]
     },
     "metadata": {},
     "output_type": "display_data"
    },
    {
     "name": "stdout",
     "output_type": "stream",
     "text": [
      "\n",
      "Current status: FeaturesGeneration. Generating features for the dataset.\n",
      "Current status: ModelSelection. Beginning model selection.\n",
      "\n",
      "********************************************************************************************\n",
      "DATA GUARDRAILS: \n",
      "\n",
      "TYPE:         Class balancing detection\n",
      "STATUS:       PASSED\n",
      "DESCRIPTION:  Your inputs were analyzed, and all classes are balanced in your training data.\n",
      "              Learn more about imbalanced data: https://aka.ms/AutomatedMLImbalancedData\n",
      "\n",
      "********************************************************************************************\n",
      "\n",
      "TYPE:         Missing feature values imputation\n",
      "STATUS:       DONE\n",
      "DESCRIPTION:  If the missing values are expected, let the run complete. Otherwise cancel the current run and use a script to customize the handling of missing feature values that may be more appropriate based on the data type and business requirement.\n",
      "              Learn more about missing value imputation: https://aka.ms/AutomatedMLFeaturization\n",
      "DETAILS:      \n",
      "+------------------------------+------------------------------+------------------------------+\n",
      "|Column name                   |Missing value count           |Imputation type               |\n",
      "+==============================+==============================+==============================+\n",
      "|BILL_AMT2                     |1                             |mean                          |\n",
      "|BILL_AMT3                     |1                             |mean                          |\n",
      "|BILL_AMT4                     |2                             |mean                          |\n",
      "|BILL_AMT5                     |6                             |mean                          |\n",
      "|BILL_AMT6                     |3                             |mean                          |\n",
      "|PAY_AMT1                      |9                             |mean                          |\n",
      "|PAY_AMT2                      |13                            |mean                          |\n",
      "|PAY_AMT3                      |6                             |mean                          |\n",
      "|PAY_AMT5                      |10                            |mean                          |\n",
      "|PAY_AMT6                      |9                             |mean                          |\n",
      "+------------------------------+------------------------------+------------------------------+\n",
      "\n",
      "********************************************************************************************\n",
      "\n",
      "TYPE:         High cardinality feature detection\n",
      "STATUS:       PASSED\n",
      "DESCRIPTION:  Your inputs were analyzed, and no high cardinality features were detected.\n",
      "              Learn more about high cardinality feature handling: https://aka.ms/AutomatedMLFeaturization\n",
      "\n",
      "********************************************************************************************\n",
      "\n",
      "********************************************************************************************\n",
      "ITER: The iteration being evaluated.\n",
      "PIPELINE: A summary description of the pipeline being evaluated.\n",
      "DURATION: Time taken for the current iteration.\n",
      "METRIC: The result of computing score on the fitted pipeline.\n",
      "BEST: The best observed score thus far.\n",
      "********************************************************************************************\n",
      "\n",
      " ITER   PIPELINE                                       DURATION            METRIC      BEST\n",
      "    0   MaxAbsScaler LightGBM                          0:00:14             0.8188    0.8188\n",
      "    1   MaxAbsScaler XGBoostClassifier                 0:00:20             0.8109    0.8188\n",
      "    2   MaxAbsScaler ExtremeRandomTrees                0:00:14             0.7670    0.8188\n",
      "    3   SparseNormalizer XGBoostClassifier             0:00:10             0.8149    0.8188\n",
      "    4   MaxAbsScaler LightGBM                          0:00:09             0.8169    0.8188\n",
      "    5   MaxAbsScaler LightGBM                          0:00:09             0.7830    0.8188\n",
      "    6   StandardScalerWrapper XGBoostClassifier        0:00:14             0.8133    0.8188\n",
      "    7   MaxAbsScaler LogisticRegression                0:00:14             0.8167    0.8188\n",
      "    8    VotingEnsemble                                0:00:23             0.8211    0.8211\n",
      "    9    StackEnsemble                                 0:01:18             0.8183    0.8211\n"
     ]
    },
    {
     "data": {
      "text/plain": [
       "{'runId': 'AutoML_27a228e2-7485-4cd2-b961-70749e5dba68',\n",
       " 'target': 'amlcompute1',\n",
       " 'status': 'Completed',\n",
       " 'startTimeUtc': '2022-08-20T14:08:55.452254Z',\n",
       " 'endTimeUtc': '2022-08-20T14:18:50.60396Z',\n",
       " 'services': {},\n",
       " 'properties': {'num_iterations': '10',\n",
       "  'training_type': 'TrainFull',\n",
       "  'acquisition_function': 'EI',\n",
       "  'primary_metric': 'accuracy',\n",
       "  'train_split': '0.3',\n",
       "  'acquisition_parameter': '0',\n",
       "  'num_cross_validation': None,\n",
       "  'target': 'amlcompute1',\n",
       "  'AMLSettingsJsonString': '{\"path\":null,\"name\":\"credit_automl_experiment\",\"subscription_id\":\"7b1b43ca-4b64-43cf-9446-edb35a04d7d1\",\"resource_group\":\"defaultsrg01\",\"workspace_name\":\"defaultscredits\",\"region\":\"eastus\",\"compute_target\":\"amlcompute1\",\"spark_service\":null,\"azure_service\":\"remote\",\"many_models\":false,\"pipeline_fetch_max_batch_size\":1,\"enable_batch_run\":true,\"enable_run_restructure\":false,\"start_auxiliary_runs_before_parent_complete\":false,\"enable_code_generation\":true,\"iterations\":10,\"primary_metric\":\"accuracy\",\"task_type\":\"classification\",\"positive_label\":null,\"data_script\":null,\"test_size\":0.0,\"test_include_predictions_only\":false,\"validation_size\":0.3,\"n_cross_validations\":null,\"y_min\":null,\"y_max\":null,\"num_classes\":null,\"featurization\":\"auto\",\"_ignore_package_version_incompatibilities\":false,\"is_timeseries\":false,\"max_cores_per_iteration\":1,\"max_concurrent_iterations\":2,\"iteration_timeout_minutes\":null,\"mem_in_mb\":null,\"enforce_time_on_windows\":true,\"experiment_timeout_minutes\":15,\"experiment_exit_score\":null,\"partition_column_names\":null,\"whitelist_models\":null,\"blacklist_algos\":[\"TensorFlowLinearClassifier\",\"TensorFlowDNN\"],\"supported_models\":[\"SVM\",\"RandomForest\",\"BernoulliNaiveBayes\",\"ExtremeRandomTrees\",\"GradientBoosting\",\"LogisticRegression\",\"LightGBM\",\"TabnetClassifier\",\"SGD\",\"KNN\",\"XGBoostClassifier\",\"TensorFlowDNN\",\"AveragedPerceptronClassifier\",\"LinearSVM\",\"DecisionTree\",\"TensorFlowLinearClassifier\",\"MultinomialNaiveBayes\"],\"private_models\":[],\"auto_blacklist\":true,\"blacklist_samples_reached\":false,\"exclude_nan_labels\":true,\"verbosity\":20,\"_debug_log\":\"azureml_automl.log\",\"show_warnings\":false,\"model_explainability\":true,\"service_url\":null,\"sdk_url\":null,\"sdk_packages\":null,\"enable_onnx_compatible_models\":false,\"enable_split_onnx_featurizer_estimator_models\":false,\"vm_type\":\"STANDARD_D4AS_V4\",\"telemetry_verbosity\":20,\"send_telemetry\":true,\"enable_dnn\":false,\"scenario\":\"SDK-1.13.0\",\"environment_label\":null,\"save_mlflow\":false,\"enable_categorical_indicators\":false,\"force_text_dnn\":false,\"enable_feature_sweeping\":true,\"enable_early_stopping\":true,\"early_stopping_n_iters\":10,\"arguments\":null,\"dataset_id\":\"a671afe9-65e4-43ae-a6fd-057461ff48cd\",\"hyperdrive_config\":null,\"validation_dataset_id\":null,\"run_source\":null,\"metrics\":null,\"enable_metric_confidence\":false,\"enable_ensembling\":true,\"enable_stack_ensembling\":true,\"ensemble_iterations\":10,\"enable_tf\":false,\"enable_subsampling\":false,\"subsample_seed\":null,\"enable_nimbusml\":false,\"enable_streaming\":false,\"force_streaming\":false,\"track_child_runs\":true,\"allowed_private_models\":[],\"label_column_name\":\"default.payment.next.month\",\"weight_column_name\":null,\"cv_split_column_names\":null,\"enable_local_managed\":false,\"_local_managed_run_id\":null,\"cost_mode\":1,\"lag_length\":0,\"metric_operation\":\"maximize\",\"preprocess\":true}',\n",
       "  'DataPrepJsonString': '{\\\\\"training_data\\\\\": {\\\\\"datasetId\\\\\": \\\\\"a671afe9-65e4-43ae-a6fd-057461ff48cd\\\\\"}, \\\\\"datasets\\\\\": 0}',\n",
       "  'EnableSubsampling': 'False',\n",
       "  'runTemplate': 'AutoML',\n",
       "  'azureml.runsource': 'automl',\n",
       "  'display_task_type': 'classification',\n",
       "  'dependencies_versions': '{\"azureml-train-restclients-hyperdrive\": \"1.43.0\", \"azureml-train-core\": \"1.43.0\", \"azureml-train-automl-client\": \"1.43.0\", \"azureml-telemetry\": \"1.43.0\", \"azureml-sdk\": \"1.43.0\", \"azureml-pipeline\": \"1.43.0\", \"azureml-pipeline-steps\": \"1.43.0\", \"azureml-pipeline-core\": \"1.43.0\", \"azureml-dataset-runtime\": \"1.43.0.post2\", \"azureml-dataprep\": \"4.0.4\", \"azureml-dataprep-rslex\": \"2.6.3\", \"azureml-dataprep-native\": \"38.0.0\", \"azureml-core\": \"1.43.0\", \"azureml-automl-core\": \"1.43.0.post2\"}',\n",
       "  '_aml_system_scenario_identification': 'Remote.Parent',\n",
       "  'ClientType': 'SDK',\n",
       "  'environment_cpu_name': 'AzureML-AutoML',\n",
       "  'environment_cpu_label': 'prod',\n",
       "  'environment_gpu_name': 'AzureML-AutoML-GPU',\n",
       "  'environment_gpu_label': 'prod',\n",
       "  'root_attribution': 'automl',\n",
       "  'attribution': 'AutoML',\n",
       "  'Orchestrator': 'AutoML',\n",
       "  'CancelUri': 'https://eastus.api.azureml.ms/jasmine/v1.0/subscriptions/7b1b43ca-4b64-43cf-9446-edb35a04d7d1/resourceGroups/defaultsrg01/providers/Microsoft.MachineLearningServices/workspaces/defaultscredits/experimentids/30584841-d63e-4bfe-b3c9-bfc8c95eef61/cancel/AutoML_27a228e2-7485-4cd2-b961-70749e5dba68',\n",
       "  'ClientSdkVersion': '1.44.0',\n",
       "  'snapshotId': '00000000-0000-0000-0000-000000000000',\n",
       "  'SetupRunId': 'AutoML_27a228e2-7485-4cd2-b961-70749e5dba68_setup',\n",
       "  'SetupRunContainerId': 'dcid.AutoML_27a228e2-7485-4cd2-b961-70749e5dba68_setup',\n",
       "  'FeaturizationRunJsonPath': 'featurizer_container.json',\n",
       "  'FeaturizationRunId': 'AutoML_27a228e2-7485-4cd2-b961-70749e5dba68_featurize',\n",
       "  'ProblemInfoJsonString': '{\"dataset_num_categorical\": 0, \"is_sparse\": true, \"subsampling\": false, \"has_extra_col\": true, \"dataset_classes\": 2, \"dataset_features\": 91, \"dataset_samples\": 21000, \"single_frequency_class_detected\": false}',\n",
       "  'ModelExplainRunId': 'AutoML_27a228e2-7485-4cd2-b961-70749e5dba68_ModelExplain'},\n",
       " 'inputDatasets': [{'dataset': {'id': 'a671afe9-65e4-43ae-a6fd-057461ff48cd'}, 'consumptionDetails': {'type': 'RunInput', 'inputName': 'training_data', 'mechanism': 'Direct'}}],\n",
       " 'outputDatasets': [],\n",
       " 'logFiles': {},\n",
       " 'submittedBy': 'Satyake Bakshi'}"
      ]
     },
     "execution_count": 10,
     "metadata": {},
     "output_type": "execute_result"
    }
   ],
   "source": [
    "experiment=Experiment(ws,'credit_automl_experiment')\n",
    "run=experiment.submit(automl_config)\n",
    "run.wait_for_completion(show_output=True)"
   ]
  },
  {
   "cell_type": "code",
   "execution_count": 13,
   "metadata": {},
   "outputs": [
    {
     "data": {
      "text/html": [
       "<table style=\"width:100%\"><tr><th>Experiment</th><th>Id</th><th>Type</th><th>Status</th><th>Details Page</th><th>Docs Page</th></tr><tr><td>credit_automl_experiment</td><td>AutoML_27a228e2-7485-4cd2-b961-70749e5dba68_8</td><td>azureml.scriptrun</td><td>Completed</td><td><a href=\"https://ml.azure.com/runs/AutoML_27a228e2-7485-4cd2-b961-70749e5dba68_8?wsid=/subscriptions/7b1b43ca-4b64-43cf-9446-edb35a04d7d1/resourcegroups/defaultsrg01/workspaces/defaultscredits&amp;tid=a287f42c-46eb-424f-ab40-cd784a7b423c\" target=\"_blank\" rel=\"noopener\">Link to Azure Machine Learning studio</a></td><td><a href=\"https://docs.microsoft.com/en-us/python/api/azureml-core/azureml.core.run.Run?view=azure-ml-py\" target=\"_blank\" rel=\"noopener\">Link to Documentation</a></td></tr></table>"
      ],
      "text/plain": [
       "Run(Experiment: credit_automl_experiment,\n",
       "Id: AutoML_27a228e2-7485-4cd2-b961-70749e5dba68_8,\n",
       "Type: azureml.scriptrun,\n",
       "Status: Completed)"
      ]
     },
     "execution_count": 13,
     "metadata": {},
     "output_type": "execute_result"
    }
   ],
   "source": [
    "run.get_best_child(metrics='F1Score')"
   ]
  },
  {
   "cell_type": "code",
   "execution_count": 14,
   "metadata": {},
   "outputs": [
    {
     "name": "stdout",
     "output_type": "stream",
     "text": [
      "\n",
      "Run ID : AutoML_27a228e2-7485-4cd2-b961-70749e5dba68_9\n",
      "{'accuracy': 0.8211111111111111}\n",
      "{}\n",
      "{}\n",
      "\n",
      "Run ID : AutoML_27a228e2-7485-4cd2-b961-70749e5dba68_8\n",
      "{'accuracy': 0.8211111111111111}\n",
      "{}\n",
      "{}\n",
      "\n",
      "Run ID : AutoML_27a228e2-7485-4cd2-b961-70749e5dba68_7\n",
      "{'accuracy': 0.8211111111111111}\n",
      "{}\n",
      "{}\n",
      "\n",
      "Run ID : AutoML_27a228e2-7485-4cd2-b961-70749e5dba68_6\n",
      "{'accuracy': 0.8211111111111111}\n",
      "{}\n",
      "{}\n",
      "\n",
      "Run ID : AutoML_27a228e2-7485-4cd2-b961-70749e5dba68_5\n",
      "{'accuracy': 0.8211111111111111}\n",
      "{}\n",
      "{}\n",
      "\n",
      "Run ID : AutoML_27a228e2-7485-4cd2-b961-70749e5dba68_4\n",
      "{'accuracy': 0.8211111111111111}\n",
      "{}\n",
      "{}\n",
      "\n",
      "Run ID : AutoML_27a228e2-7485-4cd2-b961-70749e5dba68_worker_1\n",
      "{'accuracy': 0.8211111111111111}\n",
      "{}\n",
      "{}\n",
      "\n",
      "Run ID : AutoML_27a228e2-7485-4cd2-b961-70749e5dba68_3\n",
      "{'accuracy': 0.8211111111111111}\n",
      "{}\n",
      "{}\n",
      "\n",
      "Run ID : AutoML_27a228e2-7485-4cd2-b961-70749e5dba68_2\n",
      "{'accuracy': 0.8211111111111111}\n",
      "{}\n",
      "{}\n",
      "\n",
      "Run ID : AutoML_27a228e2-7485-4cd2-b961-70749e5dba68_1\n",
      "{'accuracy': 0.8211111111111111}\n",
      "{}\n",
      "{}\n",
      "\n",
      "Run ID : AutoML_27a228e2-7485-4cd2-b961-70749e5dba68_0\n",
      "{'accuracy': 0.8211111111111111}\n",
      "{}\n",
      "{}\n",
      "\n",
      "Run ID : AutoML_27a228e2-7485-4cd2-b961-70749e5dba68_worker_0\n",
      "{'accuracy': 0.8211111111111111}\n",
      "{}\n",
      "{}\n",
      "\n",
      "Run ID : AutoML_27a228e2-7485-4cd2-b961-70749e5dba68_featurize\n",
      "{'accuracy': 0.8211111111111111}\n",
      "{}\n",
      "{}\n",
      "\n",
      "Run ID : AutoML_27a228e2-7485-4cd2-b961-70749e5dba68_setup\n",
      "{'accuracy': 0.8211111111111111}\n",
      "{}\n",
      "{}\n"
     ]
    }
   ],
   "source": [
    "#getting all metrics for the runs\n",
    "for r in run.get_children():\n",
    "    print(\"\")\n",
    "    print(\"Run ID :\", r.id)\n",
    "    print(run.get_metrics('accuracy'))\n",
    "    print(run.get_metrics('F1Score'))\n",
    "    print(run.get_metrics('AUC'))"
   ]
  },
  {
   "cell_type": "code",
   "execution_count": 16,
   "metadata": {},
   "outputs": [],
   "source": [
    "#creating hyper drive paramers\n",
    "from azureml.train.hyperdrive  import GridParameterSampling, choice"
   ]
  },
  {
   "cell_type": "code",
   "execution_count": 19,
   "metadata": {},
   "outputs": [],
   "source": [
    "hyper_params=GridParameterSampling(\n",
    "{'--n_estimators': choice(10,20,50,100),\n",
    "'--min_samples_leaf': choice(1,2,5),\n",
    "})"
   ]
  },
  {
   "cell_type": "code",
   "execution_count": 22,
   "metadata": {},
   "outputs": [
    {
     "ename": "NameError",
     "evalue": "name 'script_config' is not defined",
     "output_type": "error",
     "traceback": [
      "\u001b[1;31m---------------------------------------------------------------------------\u001b[0m",
      "\u001b[1;31mNameError\u001b[0m                                 Traceback (most recent call last)",
      "\u001b[1;32m<ipython-input-22-41e514a42548>\u001b[0m in \u001b[0;36m<module>\u001b[1;34m\u001b[0m\n\u001b[0;32m      1\u001b[0m \u001b[1;31m#configure hyperdrive class\u001b[0m\u001b[1;33m\u001b[0m\u001b[1;33m\u001b[0m\u001b[0m\n\u001b[0;32m      2\u001b[0m \u001b[1;32mfrom\u001b[0m \u001b[0mazureml\u001b[0m\u001b[1;33m.\u001b[0m\u001b[0mtrain\u001b[0m\u001b[1;33m.\u001b[0m\u001b[0mhyperdrive\u001b[0m \u001b[1;32mimport\u001b[0m \u001b[0mHyperDriveConfig\u001b[0m\u001b[1;33m,\u001b[0m \u001b[0mPrimaryMetricGoal\u001b[0m\u001b[1;33m\u001b[0m\u001b[0m\n\u001b[1;32m----> 3\u001b[1;33m hyper_config=HyperDriveConfig(run_config=script_config,\n\u001b[0m\u001b[0;32m      4\u001b[0m \u001b[0mhyperparameter_sampling\u001b[0m\u001b[1;33m=\u001b[0m\u001b[0mhyper_params\u001b[0m\u001b[1;33m,\u001b[0m\u001b[1;33m\u001b[0m\u001b[0m\n\u001b[0;32m      5\u001b[0m \u001b[0mpolicy\u001b[0m\u001b[1;33m=\u001b[0m\u001b[1;32mNone\u001b[0m\u001b[1;33m,\u001b[0m\u001b[1;33m\u001b[0m\u001b[0m\n",
      "\u001b[1;31mNameError\u001b[0m: name 'script_config' is not defined"
     ]
    }
   ],
   "source": [
    "#configure hyperdrive class\n",
    "from azureml.train.hyperdrive import HyperDriveConfig, PrimaryMetricGoal\n",
    "hyper_config=HyperDriveConfig(run_config=script_config,\n",
    "hyperparameter_sampling=hyper_params,\n",
    "policy=None, \n",
    "primary_metric_name='accuracy',\n",
    "primary_metric_goal=PrimaryMetricGoal.MAXIMIZE,\n",
    "max_total_runs=20,max_concurrent_runs=2)\n",
    "\n",
    "\n"
   ]
  },
  {
   "cell_type": "code",
   "execution_count": 1,
   "metadata": {},
   "outputs": [
    {
     "data": {
      "text/plain": [
       "'ll'"
      ]
     },
     "execution_count": 1,
     "metadata": {},
     "output_type": "execute_result"
    }
   ],
   "source": [
    "s='hello'\n",
    "s[2:4]"
   ]
  },
  {
   "cell_type": "code",
   "execution_count": null,
   "metadata": {},
   "outputs": [],
   "source": [
    "ws.get.datasets.get('credit_dataset')"
   ]
  }
 ],
 "metadata": {
  "kernelspec": {
   "display_name": "Python 3.7.0 ('tf-gpu-cuda8')",
   "language": "python",
   "name": "python3"
  },
  "language_info": {
   "codemirror_mode": {
    "name": "ipython",
    "version": 3
   },
   "file_extension": ".py",
   "mimetype": "text/x-python",
   "name": "python",
   "nbconvert_exporter": "python",
   "pygments_lexer": "ipython3",
   "version": "3.7.0"
  },
  "orig_nbformat": 4,
  "vscode": {
   "interpreter": {
    "hash": "03f4ac3119e2450266d45ef487def59165e9739e84fca1acfa1dc135d1f5e0c7"
   }
  }
 },
 "nbformat": 4,
 "nbformat_minor": 2
}
