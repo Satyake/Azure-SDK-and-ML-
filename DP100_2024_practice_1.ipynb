{
  "cells": [
    {
      "cell_type": "code",
      "source": [
        "%%writefile train_logistic.py\n",
        "import argparse\n",
        "import pandas as pd \n",
        "import numpy as np \n",
        "import mltable\n",
        "from sklearn.model_selection import train_test_split\n",
        "from sklearn.linear_model import LogisticRegression\n",
        "import mlflow\n",
        "from azure.ai.ml import command \n",
        "from azure.ai.ml import MLClient\n",
        "from azure.identity import DefaultAzureCredential, InteractiveBrowserCredential\n",
        "from sklearn.preprocessing import LabelEncoder\n",
        "import pickle\n",
        "LE=LabelEncoder()\n",
        "\n",
        "from azure.ai.ml import MLClient, command, Input\n",
        "from azure.ai.ml.constants import AssetTypes, InputOutputModes\n",
        "from azure.identity import DefaultAzureCredential\n",
        "\n",
        "mlflow.autolog()\n",
        "parser=argparse.ArgumentParser()\n",
        "parser.add_argument('--training-data', dest='train')\n",
        "args=parser.parse_args()\n",
        "\n",
        "df=pd.read_csv(args.train)\n",
        "df.dropna(inplace=True)\n",
        "y=df[['Diabetic']]\n",
        "x=df[['Pregnancies', 'PlasmaGlucose', 'DiastolicBloodPressure',\n",
        "       'TricepsThickness', 'SerumInsulin', 'BMI', 'DiabetesPedigree', 'Age']]\n",
        "y=LE.fit_transform(y)\n",
        "X_Train,X_test, y_train,y_test=train_test_split(x,y, test_size=0.30)\n",
        "\n",
        "model=LogisticRegression(C=0.01)\n",
        "model.fit(X_Train,y_train)\n",
        "\n",
        "    #calculate and log accuracy\n",
        "y_hat=model.predict(X_test)\n",
        "\n",
        "from sklearn.metrics import accuracy_score\n",
        "acc=accuracy_score(y_hat, y_test)\n",
        "\n",
        "\n",
        "\n"
      ],
      "outputs": [
        {
          "output_type": "stream",
          "name": "stdout",
          "text": "Writing train_logistic.py\n"
        }
      ],
      "execution_count": 1,
      "metadata": {
        "gather": {
          "logged": 1722214741533
        }
      }
    },
    {
      "cell_type": "code",
      "source": [
        "df.columns"
      ],
      "outputs": [
        {
          "output_type": "execute_result",
          "execution_count": 3,
          "data": {
            "text/plain": "Index(['PatientID', 'Pregnancies', 'PlasmaGlucose', 'DiastolicBloodPressure',\n       'TricepsThickness', 'SerumInsulin', 'BMI', 'DiabetesPedigree', 'Age',\n       'Diabetic'],\n      dtype='object')"
          },
          "metadata": {}
        }
      ],
      "execution_count": 3,
      "metadata": {
        "jupyter": {
          "source_hidden": false,
          "outputs_hidden": false
        },
        "nteract": {
          "transient": {
            "deleting": false
          }
        },
        "gather": {
          "logged": 1722214881369
        }
      }
    },
    {
      "cell_type": "code",
      "source": [
        "y"
      ],
      "outputs": [
        {
          "output_type": "execute_result",
          "execution_count": 4,
          "data": {
            "text/plain": "array([0, 0, 0, ..., 1, 0, 0])"
          },
          "metadata": {}
        }
      ],
      "execution_count": 4,
      "metadata": {
        "jupyter": {
          "source_hidden": false,
          "outputs_hidden": false
        },
        "nteract": {
          "transient": {
            "deleting": false
          }
        },
        "gather": {
          "logged": 1722214901390
        }
      }
    },
    {
      "cell_type": "code",
      "source": [
        "from azure.ai.ml import command\n",
        "from azure.ai.ml import MLClient, command, Input\n",
        "from azure.ai.ml.constants import AssetTypes, InputOutputModes\n",
        "from azure.identity import DefaultAzureCredential, InteractiveBrowserCredential\n",
        "ws_config={\n",
        "    \"subscription_id\": \"7b1b43ca-4b64-43cf-9446-edb35a04d7d1\",\n",
        "    \"resource_group\": \"amlws01\",\n",
        "    \"workspace_name\": \"amlwso1\"\n",
        "}\n",
        "\n",
        "ml_client=MLClient( DefaultAzureCredential(),\n",
        "                   ws_config['subscription_id'],\n",
        "                   ws_config['resource_group'],\n",
        "                   ws_config[\"workspace_name\"])\n"
      ],
      "outputs": [],
      "execution_count": 4,
      "metadata": {
        "jupyter": {
          "source_hidden": false,
          "outputs_hidden": false
        },
        "nteract": {
          "transient": {
            "deleting": false
          }
        },
        "gather": {
          "logged": 1722440253347
        }
      }
    },
    {
      "cell_type": "code",
      "source": [
        "from azure.ai.ml import command\n",
        "from azure.ai.ml import MLClient, command, Input\n",
        "from azure.ai.ml.constants import AssetTypes, InputOutputModes\n",
        "from azure.identity import DefaultAzureCredential, InteractiveBrowserCredential\n",
        "ws_config={\n",
        "    \"subscription_id\": \"7b1b43ca-4b64-43cf-9446-edb35a04d7d1\",\n",
        "    \"resource_group\": \"amlws01\",\n",
        "    \"workspace_name\": \"amlwso1\"\n",
        "}\n",
        "\n",
        "ml_client=MLClient( DefaultAzureCredential(),\n",
        "                   ws_config['subscription_id'],\n",
        "                   ws_config['resource_group'],\n",
        "                   ws_config[\"workspace_name\"])\n",
        "\n",
        "\n",
        "job=command(\n",
        "    code=\"./\",\n",
        "    command=\"python train_logistic.py --training-data diabetes.csv\",\n",
        "    environment='customm-env-scikit:4',\n",
        "    compute='CE123'\n",
        ")\n",
        "ml_client.jobs.create_or_update(job)\n"
      ],
      "outputs": [
        {
          "output_type": "stream",
          "name": "stderr",
          "text": "Class AutoDeleteSettingSchema: This is an experimental class, and may change at any time. Please see https://aka.ms/azuremlexperimental for more information.\nClass AutoDeleteConditionSchema: This is an experimental class, and may change at any time. Please see https://aka.ms/azuremlexperimental for more information.\nClass BaseAutoDeleteSettingSchema: This is an experimental class, and may change at any time. Please see https://aka.ms/azuremlexperimental for more information.\nClass IntellectualPropertySchema: This is an experimental class, and may change at any time. Please see https://aka.ms/azuremlexperimental for more information.\nClass ProtectionLevelSchema: This is an experimental class, and may change at any time. Please see https://aka.ms/azuremlexperimental for more information.\nClass BaseIntellectualPropertySchema: This is an experimental class, and may change at any time. Please see https://aka.ms/azuremlexperimental for more information.\n\u001b[32mUploading mlflow-standalone (0.52 MBs): 100%|██████████| 524701/524701 [00:00<00:00, 9920999.62it/s]\n\u001b[39m\n\n"
        },
        {
          "output_type": "error",
          "ename": "TypeError",
          "evalue": "'str' object is not callable",
          "traceback": [
            "\u001b[0;31m---------------------------------------------------------------------------\u001b[0m",
            "\u001b[0;31mTypeError\u001b[0m                                 Traceback (most recent call last)",
            "Cell \u001b[0;32mIn[4], line 23\u001b[0m\n\u001b[1;32m     11\u001b[0m ml_client\u001b[38;5;241m=\u001b[39mMLClient( DefaultAzureCredential(),\n\u001b[1;32m     12\u001b[0m                    ws_config[\u001b[38;5;124m'\u001b[39m\u001b[38;5;124msubscription_id\u001b[39m\u001b[38;5;124m'\u001b[39m],\n\u001b[1;32m     13\u001b[0m                    ws_config[\u001b[38;5;124m'\u001b[39m\u001b[38;5;124mresource_group\u001b[39m\u001b[38;5;124m'\u001b[39m],\n\u001b[1;32m     14\u001b[0m                    ws_config[\u001b[38;5;124m\"\u001b[39m\u001b[38;5;124mworkspace_name\u001b[39m\u001b[38;5;124m\"\u001b[39m])\n\u001b[1;32m     17\u001b[0m job\u001b[38;5;241m=\u001b[39mcommand(\n\u001b[1;32m     18\u001b[0m     code\u001b[38;5;241m=\u001b[39m\u001b[38;5;124m\"\u001b[39m\u001b[38;5;124m./\u001b[39m\u001b[38;5;124m\"\u001b[39m,\n\u001b[1;32m     19\u001b[0m     command\u001b[38;5;241m=\u001b[39m\u001b[38;5;124m\"\u001b[39m\u001b[38;5;124mpython train_logistic.py --training-data diabetes.csv\u001b[39m\u001b[38;5;124m\"\u001b[39m,\n\u001b[1;32m     20\u001b[0m     environment\u001b[38;5;241m=\u001b[39m\u001b[38;5;124m'\u001b[39m\u001b[38;5;124mcustomm-env-scikit:4\u001b[39m\u001b[38;5;124m'\u001b[39m,\n\u001b[1;32m     21\u001b[0m     compute\u001b[38;5;241m=\u001b[39m\u001b[38;5;124m'\u001b[39m\u001b[38;5;124mCE123\u001b[39m\u001b[38;5;124m'\u001b[39m\n\u001b[1;32m     22\u001b[0m )\n\u001b[0;32m---> 23\u001b[0m \u001b[43mml_client\u001b[49m\u001b[38;5;241;43m.\u001b[39;49m\u001b[43mjobs\u001b[49m\u001b[38;5;241;43m.\u001b[39;49m\u001b[43mcreate_or_update\u001b[49m\u001b[43m(\u001b[49m\u001b[43mjob\u001b[49m\u001b[43m)\u001b[49m\u001b[38;5;241;43m.\u001b[39;49m\u001b[43mstudio_url\u001b[49m\u001b[43m(\u001b[49m\u001b[43m)\u001b[49m\n",
            "\u001b[0;31mTypeError\u001b[0m: 'str' object is not callable"
          ]
        }
      ],
      "execution_count": 4,
      "metadata": {
        "jupyter": {
          "source_hidden": false,
          "outputs_hidden": false
        },
        "nteract": {
          "transient": {
            "deleting": false
          }
        },
        "gather": {
          "logged": 1722258608556
        }
      }
    },
    {
      "cell_type": "code",
      "source": [
        "model=ml_client.models.get('mlflow-logistic-reg', version=1)"
      ],
      "outputs": [],
      "execution_count": 5,
      "metadata": {
        "jupyter": {
          "source_hidden": false,
          "outputs_hidden": false
        },
        "nteract": {
          "transient": {
            "deleting": false
          }
        },
        "gather": {
          "logged": 1722258871851
        }
      }
    },
    {
      "cell_type": "code",
      "source": [
        "#create endpoint\n",
        "endpoint_name='mlflow-logistic-endpoint'\n",
        "from azure.ai.ml.entities import BatchEndpoint\n",
        "endpoint=BatchEndpoint(\n",
        "    name=endpoint_name,\n",
        "    description='logistic-reg-batch-ep'\n",
        ")\n",
        "\n",
        "ml_client.batch_endpoints.begin_create_or_update(endpoint)"
      ],
      "outputs": [
        {
          "output_type": "execute_result",
          "execution_count": 6,
          "data": {
            "text/plain": "<azure.core.polling._poller.LROPoller at 0x7fe4f61893f0>"
          },
          "metadata": {}
        }
      ],
      "execution_count": 6,
      "metadata": {
        "jupyter": {
          "source_hidden": false,
          "outputs_hidden": false
        },
        "nteract": {
          "transient": {
            "deleting": false
          }
        },
        "gather": {
          "logged": 1722258958730
        }
      }
    },
    {
      "cell_type": "code",
      "source": [
        "from azure.ai.ml.entities import BatchDeployment, BatchRetrySettings\n",
        "from azure.ai.ml.constants import BatchDeploymentOutputAction\n",
        "deployment=BatchDeployment(\n",
        "    name='mlflow-logistic-deployed',\n",
        "    description='logistic-regression-classifier',\n",
        "    endpoint_name=endpoint_name,\n",
        "    model=model,\n",
        "    compute='CE123',\n",
        "    instance_count=1,\n",
        "    mini_batch_size=2,\n",
        "    output_action=BatchDeploymentOutputAction.APPEND_ROW,\n",
        "    output_file_name='mlflow-predictions.csv',\n",
        "    retry_settings=BatchRetrySettings(max_retries=3, timeout=3600),\n",
        "    logging_level='info'\n",
        ")\n",
        "\n",
        "ml_client.batch_deployments.begin_create_or_update(deployment)"
      ],
      "outputs": [
        {
          "output_type": "execute_result",
          "execution_count": 7,
          "data": {
            "text/plain": "<azure.core.polling._poller.LROPoller at 0x7fe4f3f62320>"
          },
          "metadata": {}
        }
      ],
      "execution_count": 7,
      "metadata": {
        "jupyter": {
          "source_hidden": false,
          "outputs_hidden": false
        },
        "nteract": {
          "transient": {
            "deleting": false
          }
        },
        "gather": {
          "logged": 1722259109995
        }
      }
    },
    {
      "cell_type": "code",
      "source": [
        "endpoint.defaults={}\n",
        "endpoint.defaults['deployment_name']=deployment.name\n",
        "ml_client.batch_endpoints.begin_create_or_update(endpoint)"
      ],
      "outputs": [
        {
          "output_type": "execute_result",
          "execution_count": 9,
          "data": {
            "text/plain": "<azure.core.polling._poller.LROPoller at 0x7fe4f7824df0>"
          },
          "metadata": {}
        }
      ],
      "execution_count": 9,
      "metadata": {
        "jupyter": {
          "source_hidden": false,
          "outputs_hidden": false
        },
        "nteract": {
          "transient": {
            "deleting": false
          }
        },
        "gather": {
          "logged": 1722259212266
        }
      }
    },
    {
      "cell_type": "code",
      "source": [
        "unlabelled_data=ml_client.data.get(name='patient-data-unlabeled', version=1)\n",
        "\n",
        "\n",
        "from azure.ai.ml import Input\n",
        "from azure.ai.ml.constants import AssetTypes\n",
        "\n",
        "input=Input(types=AssetTypes.URI_FOLDER, path=unlabelled_data.id)\n",
        "job=ml_client.batch_endpoints.invoke(\n",
        "    endpoint_name=endpoint_name,\n",
        "    input=input\n",
        ")\n",
        "\n",
        "ml_client.jobs.get(job.name)"
      ],
      "outputs": [
        {
          "output_type": "execute_result",
          "execution_count": 14,
          "data": {
            "text/plain": "PipelineJob({'inputs': {}, 'outputs': {}, 'jobs': {}, 'component': PipelineComponent({'latest_version': None, 'intellectual_property': None, 'auto_increment_version': False, 'source': 'REMOTE.WORKSPACE.JOB', 'is_anonymous': True, 'auto_delete_setting': None, 'name': 'azureml_anonymous', 'description': \"Attempting to create pipeline submission settings for endpoint: 'mlflow-logistic-endpoint', deployment: 'mlflow-logistic-deployed'.\", 'tags': {}, 'properties': {}, 'print_as_yaml': False, 'id': None, 'Resource__source_path': None, 'base_path': '/mnt/batch/tasks/shared/LS_root/mounts/clusters/ce123/code/Users/satyakebakshi95/mlflow-standalone', 'creation_context': None, 'serialize': <msrest.serialization.Serializer object at 0x7fe4f341d420>, 'version': '1', 'schema': None, 'type': 'pipeline', 'display_name': 'crimson_roof_bf1mlyrh', 'is_deterministic': None, 'inputs': {}, 'outputs': {}, 'yaml_str': None, 'other_parameter': {}, 'jobs': {}, 'job_types': {}, 'job_sources': {}, 'source_job_id': None}), 'type': 'pipeline', 'status': 'Preparing', 'log_files': None, 'name': 'batchjob-e84aa8c9-c48d-46ca-9028-bb3a916d585a', 'description': \"Attempting to create pipeline submission settings for endpoint: 'mlflow-logistic-endpoint', deployment: 'mlflow-logistic-deployed'.\", 'tags': {'outputType': 'output_data', 'output_data_name': None, 'inputType': 'input_data', 'azureml.batchrun': 'true', 'azureml.deploymentname': 'mlflow-logistic-deployed', 'azureml.jobtype': 'azureml.batchjob'}, 'properties': {'azureml.deploymentname': 'mlflow-logistic-deployed', 'azureml.endpointname': 'mlflow-logistic-endpoint', 'azureml.pipelineid': 'd7cf97da-b4ed-4c60-831b-e6c3bd14073b', 'azureml.runsource': 'azureml.PipelineRun', 'runSource': 'Unavailable', 'runType': 'HTTP', 'azureml.parameters': '{\"run_max_try\":\"3\",\"run_invocation_timeout\":\"3600\",\"mini_batch_size\":\"2\",\"error_threshold\":\"-1\",\"logging_level\":\"INFO\",\"process_count_per_node\":\"1\",\"NodeCount\":\"1\",\"append_row_file_name\":\"mlflow-predictions.csv\"}', 'azureml.continue_on_step_failure': 'False', 'azureml.continue_on_failed_optional_input': 'False', 'azureml.pipelineComponent': 'pipelinerun'}, 'print_as_yaml': False, 'id': '/subscriptions/7b1b43ca-4b64-43cf-9446-edb35a04d7d1/resourceGroups/amlws01/providers/Microsoft.MachineLearningServices/workspaces/amlwso1/jobs/batchjob-e84aa8c9-c48d-46ca-9028-bb3a916d585a', 'Resource__source_path': '', 'base_path': '/mnt/batch/tasks/shared/LS_root/mounts/clusters/ce123/code/Users/satyakebakshi95/mlflow-standalone', 'creation_context': <azure.ai.ml.entities._system_data.SystemData object at 0x7fe4f341c460>, 'serialize': <msrest.serialization.Serializer object at 0x7fe4f334a920>, 'display_name': 'crimson_roof_bf1mlyrh', 'experiment_name': 'mlflow-logistic-endpoint', 'compute': None, 'services': {'Tracking': {'endpoint': 'azureml://northcentralus.api.azureml.ms/mlflow/v1.0/subscriptions/7b1b43ca-4b64-43cf-9446-edb35a04d7d1/resourceGroups/amlws01/providers/Microsoft.MachineLearningServices/workspaces/amlwso1?', 'type': 'Tracking'}, 'Studio': {'endpoint': 'https://ml.azure.com/runs/batchjob-e84aa8c9-c48d-46ca-9028-bb3a916d585a?wsid=/subscriptions/7b1b43ca-4b64-43cf-9446-edb35a04d7d1/resourcegroups/amlws01/workspaces/amlwso1&tid=a287f42c-46eb-424f-ab40-cd784a7b423c', 'type': 'Studio'}}, 'settings': {}, 'identity': None, 'default_code': None, 'default_environment': None})",
            "text/html": "<table style=\"width:100%\"><tr><th>Experiment</th><th>Name</th><th>Type</th><th>Status</th><th>Details Page</th></tr><tr><td>mlflow-logistic-endpoint</td><td>batchjob-e84aa8c9-c48d-46ca-9028-bb3a916d585a</td><td>pipeline</td><td>Preparing</td><td><a href=\"https://ml.azure.com/runs/batchjob-e84aa8c9-c48d-46ca-9028-bb3a916d585a?wsid=/subscriptions/7b1b43ca-4b64-43cf-9446-edb35a04d7d1/resourcegroups/amlws01/workspaces/amlwso1&amp;tid=a287f42c-46eb-424f-ab40-cd784a7b423c\" target=\"_blank\" rel=\"noopener\">Link to Azure Machine Learning studio</a></td></tr></table>"
          },
          "metadata": {}
        }
      ],
      "execution_count": 14,
      "metadata": {
        "jupyter": {
          "source_hidden": false,
          "outputs_hidden": false
        },
        "nteract": {
          "transient": {
            "deleting": false
          }
        },
        "gather": {
          "logged": 1722260564498
        }
      }
    },
    {
      "cell_type": "code",
      "source": [
        "from azure.identity import DefaultAzureCredential, InteractiveBrowserCredential\n",
        "from azure.ai.ml import MLClient\n",
        "\n",
        "try:\n",
        "    credential=DefaultAzureCredential()\n",
        "    credential.get_token('https://management.azure.com./default')\n",
        "except Exception as ex:\n",
        "    credential=InteractiveBrowserCredential()\n",
        "\n",
        "ml_client=MLClient.from_config(credential=credential)\n",
        "\n"
      ],
      "outputs": [
        {
          "output_type": "stream",
          "name": "stderr",
          "text": "DefaultAzureCredential failed to retrieve a token from the included credentials.\nAttempted credentials:\n\tEnvironmentCredential: EnvironmentCredential authentication unavailable. Environment variables are not fully configured.\nVisit https://aka.ms/azsdk/python/identity/environmentcredential/troubleshoot to troubleshoot this issue.\n\tManagedIdentityCredential: Unexpected content type \"text/plain; charset=utf-8\"\nContent: SSO failure: unable to retrieve a token. Error Token service ce123. Token not found\nTo mitigate this issue, please refer to the troubleshooting guidelines here at https://aka.ms/azsdk/python/identity/defaultazurecredential/troubleshoot.\nFound the config file in: /config.json\n"
        }
      ],
      "execution_count": 3,
      "metadata": {
        "jupyter": {
          "source_hidden": false,
          "outputs_hidden": false
        },
        "nteract": {
          "transient": {
            "deleting": false
          }
        },
        "gather": {
          "logged": 1722432177358
        },
        "editable": false,
        "run_control": {
          "frozen": true
        }
      }
    },
    {
      "cell_type": "code",
      "source": [
        "from azure.ai.ml.entities import ManagedOnlineEndpoint\n",
        "endpoint_name='managed-mlflow-online-endpoint'\n",
        "endpoint=ManagedOnlineEndpoint(\n",
        "    name=endpoint_name,\n",
        "    description='Real time endpoint inferencing for MLFlow model',\n",
        "    auth_mode=\"key\"\n",
        ")\n",
        "\n",
        "ml_client.begin_create_or_update(endpoint)"
      ],
      "outputs": [
        {
          "output_type": "execute_result",
          "execution_count": 5,
          "data": {
            "text/plain": "<azure.core.polling._poller.LROPoller at 0x7f80185bcb20>"
          },
          "metadata": {}
        }
      ],
      "execution_count": 5,
      "metadata": {
        "jupyter": {
          "source_hidden": false,
          "outputs_hidden": false
        },
        "nteract": {
          "transient": {
            "deleting": false
          }
        },
        "gather": {
          "logged": 1722440262328
        }
      }
    },
    {
      "cell_type": "code",
      "source": [
        "#model registration\n",
        "from azure.ai.ml.entities import Model\n",
        "from azure.ai.ml.constants import AssetTypes\n",
        "\n",
        "from azure.ai.ml.entities import ManagedOnlineDeployment\n",
        "model=ml_client.models.get('mlflow-logistic-reg', version=1)"
      ],
      "outputs": [],
      "execution_count": 6,
      "metadata": {
        "jupyter": {
          "source_hidden": false,
          "outputs_hidden": false
        },
        "nteract": {
          "transient": {
            "deleting": false
          }
        },
        "gather": {
          "logged": 1722440267292
        }
      }
    },
    {
      "cell_type": "code",
      "source": [
        "blue_deployment=ManagedOnlineDeployment(\n",
        "    name='blue',\n",
        "    endpoint_name=endpoint_name,\n",
        "    model=model,\n",
        "    instance_type=\"Standard_F4s_v2\",\n",
        "    instance_count=1\n",
        ")\n",
        "\n",
        "ml_client.online_deployments.begin_create_or_update(blue_deployment).result()"
      ],
      "outputs": [
        {
          "output_type": "stream",
          "name": "stderr",
          "text": "Check: endpoint managed-mlflow-online-endpoint exists\n"
        },
        {
          "output_type": "stream",
          "name": "stdout",
          "text": "........."
        },
        {
          "output_type": "execute_result",
          "execution_count": 8,
          "data": {
            "text/plain": "ManagedOnlineDeployment({'private_network_connection': None, 'package_model': False, 'provisioning_state': 'Succeeded', 'endpoint_name': 'managed-mlflow-online-endpoint', 'type': 'Managed', 'name': 'blue', 'description': None, 'tags': {}, 'properties': {'AzureAsyncOperationUri': 'https://management.azure.com/subscriptions/7b1b43ca-4b64-43cf-9446-edb35a04d7d1/providers/Microsoft.MachineLearningServices/locations/northcentralus/mfeOperationsStatus/odidp:c175b917-3947-4201-847b-196c4048528c:525097b6-5f5e-47f7-9784-342fd178c87e?api-version=2023-04-01-preview'}, 'print_as_yaml': False, 'id': '/subscriptions/7b1b43ca-4b64-43cf-9446-edb35a04d7d1/resourceGroups/amlws01/providers/Microsoft.MachineLearningServices/workspaces/amlwso1/onlineEndpoints/managed-mlflow-online-endpoint/deployments/blue', 'Resource__source_path': '', 'base_path': '/mnt/batch/tasks/shared/LS_root/mounts/clusters/ce123/code/Users/satyakebakshi95/mlflow-standalone', 'creation_context': None, 'serialize': <msrest.serialization.Serializer object at 0x7f80185bc040>, 'model': '/subscriptions/7b1b43ca-4b64-43cf-9446-edb35a04d7d1/resourceGroups/amlws01/providers/Microsoft.MachineLearningServices/workspaces/amlwso1/models/mlflow-logistic-reg/versions/1', 'code_configuration': None, 'environment': '/subscriptions/7b1b43ca-4b64-43cf-9446-edb35a04d7d1/resourceGroups/amlws01/providers/Microsoft.MachineLearningServices/workspaces/amlwso1/environments/DefaultNcdEnv-mlflow-ubuntu20-04-py38-cpu-inference/versions/20240522v1', 'environment_variables': {'MLFLOW_MODEL_FOLDER': 'model', 'AZUREML_EXTRA_CONDA_YAML_ABS_PATH': '/var/azureml-app/azureml-models/mlflow-logistic-reg/1/model/conda.yaml', 'AZUREML_MODEL_DIR': '/var/azureml-app/azureml-models/mlflow-logistic-reg/1'}, 'app_insights_enabled': False, 'scale_settings': <azure.ai.ml.entities._deployment.scale_settings.DefaultScaleSettings object at 0x7f801b0475e0>, 'request_settings': <azure.ai.ml.entities._deployment.deployment_settings.OnlineRequestSettings object at 0x7f801b047640>, 'liveness_probe': <azure.ai.ml.entities._deployment.deployment_settings.ProbeSettings object at 0x7f80185be980>, 'readiness_probe': <azure.ai.ml.entities._deployment.deployment_settings.ProbeSettings object at 0x7f80185bcfd0>, 'instance_count': 1, 'arm_type': 'online_deployment', 'model_mount_path': None, 'instance_type': 'Standard_F4s_v2', 'data_collector': None, 'egress_public_network_access': 'Enabled'})"
          },
          "metadata": {}
        }
      ],
      "execution_count": 8,
      "metadata": {
        "jupyter": {
          "source_hidden": false,
          "outputs_hidden": false
        },
        "nteract": {
          "transient": {
            "deleting": false
          }
        },
        "gather": {
          "logged": 1722440329281
        }
      }
    },
    {
      "cell_type": "code",
      "source": [
        "#blue green deployment\n",
        "endpoint.traffic={\"blue\": 100}\n",
        "ml_client.begin_create_or_update(endpoint).result()"
      ],
      "outputs": [
        {
          "output_type": "execute_result",
          "execution_count": 9,
          "data": {
            "text/plain": "ManagedOnlineEndpoint({'public_network_access': 'Enabled', 'provisioning_state': 'Succeeded', 'scoring_uri': 'https://managed-mlflow-online-endpoint.northcentralus.inference.ml.azure.com/score', 'openapi_uri': 'https://managed-mlflow-online-endpoint.northcentralus.inference.ml.azure.com/swagger.json', 'name': 'managed-mlflow-online-endpoint', 'description': 'Real time endpoint inferencing for MLFlow model', 'tags': {}, 'properties': {'createdBy': 'Satyake Bakshi', 'createdAt': '2024-07-31T13:23:40.907862+0000', 'lastModifiedAt': '2024-07-31T13:23:40.907862+0000', 'azureml.onlineendpointid': '/subscriptions/7b1b43ca-4b64-43cf-9446-edb35a04d7d1/resourcegroups/amlws01/providers/microsoft.machinelearningservices/workspaces/amlwso1/onlineendpoints/managed-mlflow-online-endpoint', 'AzureAsyncOperationUri': 'https://management.azure.com/subscriptions/7b1b43ca-4b64-43cf-9446-edb35a04d7d1/providers/Microsoft.MachineLearningServices/locations/northcentralus/mfeOperationsStatus/oeidp:c175b917-3947-4201-847b-196c4048528c:8cc1a44d-0dc7-4df6-825b-fae53ad2a4e1?api-version=2022-02-01-preview'}, 'print_as_yaml': False, 'id': '/subscriptions/7b1b43ca-4b64-43cf-9446-edb35a04d7d1/resourceGroups/amlws01/providers/Microsoft.MachineLearningServices/workspaces/amlwso1/onlineEndpoints/managed-mlflow-online-endpoint', 'Resource__source_path': '', 'base_path': '/mnt/batch/tasks/shared/LS_root/mounts/clusters/ce123/code/Users/satyakebakshi95/mlflow-standalone', 'creation_context': None, 'serialize': <msrest.serialization.Serializer object at 0x7f801b045ea0>, 'auth_mode': 'key', 'location': 'northcentralus', 'identity': <azure.ai.ml.entities._credentials.IdentityConfiguration object at 0x7f8018542680>, 'traffic': {'blue': 100}, 'mirror_traffic': {}, 'kind': 'Managed'})"
          },
          "metadata": {}
        }
      ],
      "execution_count": 9,
      "metadata": {
        "jupyter": {
          "source_hidden": false,
          "outputs_hidden": false
        },
        "nteract": {
          "transient": {
            "deleting": false
          }
        },
        "gather": {
          "logged": 1722440366366
        }
      }
    },
    {
      "cell_type": "code",
      "source": [
        "%%writefile sample_data.json\n",
        "{\n",
        "  \"input_data\": {\n",
        "    \"columns\": [\n",
        "      \"Pregnancies\", \n",
        "      \"PlasmaGlucose\", \n",
        "      \"DiastolicBloodPressure\",\n",
        "      \"TricepsThickness\",\n",
        "      \"SerumInsulin\",\n",
        "      \"BMI\", \n",
        "      \"DiabetesPedigree\",\n",
        "      \"Age\"\n",
        "    ],\n",
        "    \"index\": [1],\n",
        "    \"data\": [\n",
        "      [0, 148, 18,89, 179, 39.19, 0.18, 45\n",
        "      ]\n",
        "    ]\n",
        "  }\n",
        "}\n",
        "\n",
        "\n"
      ],
      "outputs": [
        {
          "output_type": "stream",
          "name": "stdout",
          "text": "Overwriting sample_data.json\n"
        }
      ],
      "execution_count": 11,
      "metadata": {
        "jupyter": {
          "source_hidden": false,
          "outputs_hidden": false
        },
        "nteract": {
          "transient": {
            "deleting": false
          }
        }
      }
    },
    {
      "cell_type": "code",
      "source": [
        "response=ml_client.online_endpoints.invoke(\n",
        "    endpoint_name=endpoint_name,\n",
        "    deployment=\"blue\",\n",
        "    request_file=\"sample_data.json\"\n",
        ")\n",
        "\n",
        "if response[1]==1:\n",
        "    print(\"Diabetic\")\n",
        "else:\n",
        "    print(\"Not diabetic\")"
      ],
      "outputs": [
        {
          "output_type": "stream",
          "name": "stdout",
          "text": "Not diabetic\n"
        }
      ],
      "execution_count": 12,
      "metadata": {
        "jupyter": {
          "source_hidden": false,
          "outputs_hidden": false
        },
        "nteract": {
          "transient": {
            "deleting": false
          }
        },
        "gather": {
          "logged": 1722440481157
        }
      }
    },
    {
      "cell_type": "code",
      "source": [],
      "outputs": [],
      "execution_count": null,
      "metadata": {
        "jupyter": {
          "source_hidden": false,
          "outputs_hidden": false
        },
        "nteract": {
          "transient": {
            "deleting": false
          }
        }
      }
    }
  ],
  "metadata": {
    "kernelspec": {
      "name": "python310-sdkv2",
      "language": "python",
      "display_name": "Python 3.10 - SDK v2"
    },
    "language_info": {
      "name": "python",
      "version": "3.10.14",
      "mimetype": "text/x-python",
      "codemirror_mode": {
        "name": "ipython",
        "version": 3
      },
      "pygments_lexer": "ipython3",
      "nbconvert_exporter": "python",
      "file_extension": ".py"
    },
    "microsoft": {
      "ms_spell_check": {
        "ms_spell_check_language": "en"
      },
      "host": {
        "AzureML": {
          "notebookHasBeenCompleted": true
        }
      }
    },
    "kernel_info": {
      "name": "python310-sdkv2"
    },
    "nteract": {
      "version": "nteract-front-end@1.0.0"
    }
  },
  "nbformat": 4,
  "nbformat_minor": 2
}